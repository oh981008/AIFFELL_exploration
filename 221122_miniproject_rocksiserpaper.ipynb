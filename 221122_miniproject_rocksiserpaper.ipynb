{
 "cells": [
  {
   "cell_type": "markdown",
   "metadata": {},
   "source": [
    "##  미니 프로젝트 : \n",
    "## 가위바위보 분류기를 만들자"
   ]
  },
  {
   "cell_type": "markdown",
   "metadata": {},
   "source": [
    "#### 1. 라이브러리 버전 확인"
   ]
  },
  {
   "cell_type": "code",
   "execution_count": 1,
   "metadata": {},
   "outputs": [
    {
     "name": "stdout",
     "output_type": "stream",
     "text": [
      "2.11.0\n",
      "1.23.5\n"
     ]
    }
   ],
   "source": [
    "import tensorflow as tf\n",
    "import numpy as np\n",
    "\n",
    "print(tf.__version__)\n",
    "print(np.__version__)"
   ]
  },
  {
   "cell_type": "markdown",
   "metadata": {},
   "source": [
    "#### 2.데이터 만들기 "
   ]
  },
  {
   "cell_type": "markdown",
   "metadata": {},
   "source": [
    "##### 사이트를 이용하여 데이터를 직접 촬영해 만들기\n",
    "https://teachablemachine.withgoogle.com/"
   ]
  },
  {
   "cell_type": "markdown",
   "metadata": {},
   "source": [
    "데이터 촬영 후 클라우드 이미지 압축 해체"
   ]
  },
  {
   "cell_type": "markdown",
   "metadata": {},
   "source": [
    "#### 3. 데이터 불러오기 및 리사이즈 하기"
   ]
  },
  {
   "cell_type": "markdown",
   "metadata": {},
   "source": [
    "가위, 바위, 보 이미지도 28x28로 만들어야 함"
   ]
  },
  {
   "cell_type": "code",
   "execution_count": 2,
   "metadata": {},
   "outputs": [
    {
     "name": "stdout",
     "output_type": "stream",
     "text": [
      "PIL 라이브러리 import 완료!\n"
     ]
    }
   ],
   "source": [
    "from PIL import Image\n",
    "import glob\n",
    "import os\n",
    "\n",
    "print(\"PIL 라이브러리 import 완료!\")"
   ]
  },
  {
   "cell_type": "markdown",
   "metadata": {},
   "source": [
    "- 가위 이미지 사이즈 변경"
   ]
  },
  {
   "cell_type": "code",
   "execution_count": 3,
   "metadata": {},
   "outputs": [
    {
     "name": "stdout",
     "output_type": "stream",
     "text": [
      "100  images to be resized.\n",
      "100  images resized.\n",
      "가위 이미지 resize 완료!\n"
     ]
    }
   ],
   "source": [
    "def resize_images(img_path):\n",
    "    images=glob.glob(img_path + \"/*.jpg\")  \n",
    "    print(len(images), \" images to be resized.\")\n",
    "\n",
    "    # 파일마다 모두 28x28 사이즈로 바꾸어 저장합니다.\n",
    "    target_size=(28,28)\n",
    "    for img in images:\n",
    "        old_img=Image.open(img)\n",
    "        new_img=old_img.resize(target_size,Image.ANTIALIAS)\n",
    "        new_img.save(img, \"JPEG\")\n",
    "        \n",
    "    print(len(images), \" images resized.\")\n",
    "\n",
    "# 가위 이미지가 저장된 디렉토리 아래의 모든 jpg 파일을 읽어들여서\n",
    "image_dir_path = os.getcwd() + \"/rock_scissor_paper/scissor-samples\"\n",
    "resize_images(image_dir_path)\n",
    "\n",
    "print(\"가위 이미지 resize 완료!\")"
   ]
  },
  {
   "cell_type": "markdown",
   "metadata": {},
   "source": [
    "- 바위 이미지 사이즈 변경 "
   ]
  },
  {
   "cell_type": "code",
   "execution_count": 4,
   "metadata": {},
   "outputs": [
    {
     "name": "stdout",
     "output_type": "stream",
     "text": [
      "103  images to be resized.\n",
      "103  images resized.\n",
      "바위 이미지 resize 완료!\n"
     ]
    }
   ],
   "source": [
    "image_dir_path = os.getcwd() + \"/rock_scissor_paper/rock-samples\"\n",
    "resize_images(image_dir_path)\n",
    "\n",
    "print(\"바위 이미지 resize 완료!\")"
   ]
  },
  {
   "cell_type": "markdown",
   "metadata": {},
   "source": [
    "- 보 이미지 사이즈 변경"
   ]
  },
  {
   "cell_type": "code",
   "execution_count": 5,
   "metadata": {},
   "outputs": [
    {
     "name": "stdout",
     "output_type": "stream",
     "text": [
      "100  images to be resized.\n",
      "100  images resized.\n",
      "보 이미지 resize 완료!\n"
     ]
    }
   ],
   "source": [
    "image_dir_path = os.getcwd() + \"/rock_scissor_paper/paper-samples\"\n",
    "resize_images(image_dir_path)\n",
    "\n",
    "print(\"보 이미지 resize 완료!\")"
   ]
  },
  {
   "cell_type": "markdown",
   "metadata": {},
   "source": [
    "#### 4. 데이터 읽는 load_data() 함수 생성}"
   ]
  },
  {
   "cell_type": "markdown",
   "metadata": {},
   "source": [
    "가위: 0, 바위: 1, 보: 2 로 라벨링"
   ]
  },
  {
   "cell_type": "code",
   "execution_count": 370,
   "metadata": {},
   "outputs": [
    {
     "name": "stdout",
     "output_type": "stream",
     "text": [
      "학습데이터(x_train)의 이미지 개수는 300 입니다.\n",
      "x_train shape: (300, 28, 28, 3)\n",
      "y_train shape: (300,)\n"
     ]
    }
   ],
   "source": [
    "import numpy as np\n",
    "\n",
    "def load_data(img_path, number_of_data=300):  # 가위바위보 이미지 개수 총합에 주의하세요.\n",
    "    # 가위 : 0, 바위 : 1, 보 : 2\n",
    "    img_size=28\n",
    "    color=3\n",
    "    #이미지 데이터와 라벨(가위 : 0, 바위 : 1, 보 : 2) 데이터를 담을 행렬(matrix) 영역을 생성합니다.\n",
    "    imgs=np.zeros(number_of_data*img_size*img_size*color,dtype=np.int32).reshape(number_of_data,img_size,img_size,color)\n",
    "    labels=np.zeros(number_of_data,dtype=np.int32)\n",
    "\n",
    "    idx=0\n",
    "    for file in glob.iglob(img_path+'/scissor-samples/*.jpg'):\n",
    "        img = np.array(Image.open(file),dtype=np.int32)\n",
    "        imgs[idx,:,:,:]=img    # 데이터 영역에 이미지 행렬을 복사\n",
    "        labels[idx]=0   # 가위 : 0\n",
    "        idx=idx+1\n",
    "\n",
    "    for file in glob.iglob(img_path+'/rock-samples/*.jpg'):\n",
    "        img = np.array(Image.open(file),dtype=np.int32)\n",
    "        imgs[idx,:,:,:]=img    # 데이터 영역에 이미지 행렬을 복사\n",
    "        labels[idx]=1   # 바위 : 1\n",
    "        idx=idx+1  \n",
    "    \n",
    "    for file in glob.iglob(img_path+'/paper-samples/*.jpg'):\n",
    "        img = np.array(Image.open(file),dtype=np.int32)\n",
    "        imgs[idx,:,:,:]=img    # 데이터 영역에 이미지 행렬을 복사\n",
    "        labels[idx]=2   # 보 : 2\n",
    "        idx=idx+1\n",
    "        \n",
    "    print(\"학습데이터(x_train)의 이미지 개수는\", idx,\"입니다.\")\n",
    "    return imgs, labels\n",
    "\n",
    "image_dir_path = os.getcwd() + \"/rock_scissor_paper\"\n",
    "(x_train, y_train)=load_data(image_dir_path)\n",
    "x_train_norm = x_train/255.0   # 입력은 0~1 사이의 값으로 정규화\n",
    "\n",
    "print(\"x_train shape: {}\".format(x_train.shape))\n",
    "print(\"y_train shape: {}\".format(y_train.shape))"
   ]
  },
  {
   "cell_type": "code",
   "execution_count": 7,
   "metadata": {},
   "outputs": [
    {
     "name": "stdout",
     "output_type": "stream",
     "text": [
      "라벨:  0\n"
     ]
    },
    {
     "data": {
      "image/png": "[encoded data removed]",
      "text/plain": [
       "<Figure size 432x288 with 1 Axes>"
      ]
     },
     "metadata": {
      "needs_background": "light"
     },
     "output_type": "display_data"
    }
   ],
   "source": [
    "import matplotlib.pyplot as plt\n",
    "\n",
    "plt.imshow(x_train[0])\n",
    "print('라벨: ', y_train[0])"
   ]
  },
  {
   "cell_type": "markdown",
   "metadata": {},
   "source": [
    "데이터 픽셀화하니 정말 잘 안보이네요..이거 가위 데이터인데 주먹처럼 보이네..;;;\n",
    "일단은 진행해보고 정확도 많이 낮으면 다시 데이터셋 찍는걸로"
   ]
  },
  {
   "cell_type": "markdown",
   "metadata": {},
   "source": [
    "#### 6. 딥러닝 네트워크 설계하기 "
   ]
  },
  {
   "cell_type": "code",
   "execution_count": 8,
   "metadata": {
    "scrolled": true
   },
   "outputs": [
    {
     "name": "stdout",
     "output_type": "stream",
     "text": [
      "Model에 추가된 Layer 개수:  7\n",
      "Model: \"sequential\"\n",
      "_________________________________________________________________\n",
      " Layer (type)                Output Shape              Param #   \n",
      "=================================================================\n",
      " conv2d (Conv2D)             (None, 26, 26, 16)        448       \n",
      "                                                                 \n",
      " max_pooling2d (MaxPooling2D  (None, 13, 13, 16)       0         \n",
      " )                                                               \n",
      "                                                                 \n",
      " conv2d_1 (Conv2D)           (None, 11, 11, 32)        4640      \n",
      "                                                                 \n",
      " max_pooling2d_1 (MaxPooling  (None, 5, 5, 32)         0         \n",
      " 2D)                                                             \n",
      "                                                                 \n",
      " flatten (Flatten)           (None, 800)               0         \n",
      "                                                                 \n",
      " dense (Dense)               (None, 32)                25632     \n",
      "                                                                 \n",
      " dense_1 (Dense)             (None, 3)                 99        \n",
      "                                                                 \n",
      "=================================================================\n",
      "Total params: 30,819\n",
      "Trainable params: 30,819\n",
      "Non-trainable params: 0\n",
      "_________________________________________________________________\n"
     ]
    }
   ],
   "source": [
    "import tensorflow as tf\n",
    "from tensorflow import keras\n",
    "import numpy as np\n",
    "\n",
    "model1=keras.models.Sequential()\n",
    "model1.add(keras.layers.Conv2D(16, (3,3), activation='relu', input_shape=(28,28,3)))\n",
    "model1.add(keras.layers.MaxPool2D(2,2))\n",
    "model1.add(keras.layers.Conv2D(32, (3,3), activation='relu'))\n",
    "model1.add(keras.layers.MaxPooling2D((2,2)))\n",
    "model1.add(keras.layers.Flatten())\n",
    "model1.add(keras.layers.Dense(32, activation='relu'))\n",
    "model1.add(keras.layers.Dense(3, activation='softmax')) # 최종 분류기 3클래스\n",
    "\n",
    "print('Model에 추가된 Layer 개수: ', len(model1.layers))\n",
    "\n",
    "model1.summary()"
   ]
  },
  {
   "cell_type": "markdown",
   "metadata": {},
   "source": [
    "https://bcho.tistory.com/1149"
   ]
  },
  {
   "cell_type": "markdown",
   "metadata": {},
   "source": [
    "#### 7. 딥러닝 네트워크 학습시키기"
   ]
  },
  {
   "cell_type": "code",
   "execution_count": 9,
   "metadata": {
    "scrolled": true
   },
   "outputs": [
    {
     "name": "stdout",
     "output_type": "stream",
     "text": [
      "Epoch 1/30\n",
      "10/10 [==============================] - 2s 23ms/step - loss: 1.1057 - accuracy: 0.3399\n",
      "Epoch 2/30\n",
      "10/10 [==============================] - 0s 16ms/step - loss: 1.0937 - accuracy: 0.3630\n",
      "Epoch 3/30\n",
      "10/10 [==============================] - 0s 20ms/step - loss: 1.0758 - accuracy: 0.4818\n",
      "Epoch 4/30\n",
      "10/10 [==============================] - 0s 28ms/step - loss: 1.0700 - accuracy: 0.4719\n",
      "Epoch 5/30\n",
      "10/10 [==============================] - 0s 23ms/step - loss: 1.0517 - accuracy: 0.3795\n",
      "Epoch 6/30\n",
      "10/10 [==============================] - 0s 22ms/step - loss: 1.0283 - accuracy: 0.4983\n",
      "Epoch 7/30\n",
      "10/10 [==============================] - 0s 25ms/step - loss: 0.9943 - accuracy: 0.5248\n",
      "Epoch 8/30\n",
      "10/10 [==============================] - 0s 18ms/step - loss: 0.9490 - accuracy: 0.4983\n",
      "Epoch 9/30\n",
      "10/10 [==============================] - 0s 19ms/step - loss: 0.9074 - accuracy: 0.5545\n",
      "Epoch 10/30\n",
      "10/10 [==============================] - 0s 15ms/step - loss: 0.9151 - accuracy: 0.5215\n",
      "Epoch 11/30\n",
      "10/10 [==============================] - 0s 19ms/step - loss: 0.9112 - accuracy: 0.5248\n",
      "Epoch 12/30\n",
      "10/10 [==============================] - 0s 18ms/step - loss: 0.8668 - accuracy: 0.5611\n",
      "Epoch 13/30\n",
      "10/10 [==============================] - 0s 19ms/step - loss: 0.8533 - accuracy: 0.5446\n",
      "Epoch 14/30\n",
      "10/10 [==============================] - 0s 23ms/step - loss: 0.8547 - accuracy: 0.5413\n",
      "Epoch 15/30\n",
      "10/10 [==============================] - 0s 17ms/step - loss: 0.8411 - accuracy: 0.5776\n",
      "Epoch 16/30\n",
      "10/10 [==============================] - 0s 17ms/step - loss: 0.8298 - accuracy: 0.5776\n",
      "Epoch 17/30\n",
      "10/10 [==============================] - 0s 16ms/step - loss: 0.8229 - accuracy: 0.6238\n",
      "Epoch 18/30\n",
      "10/10 [==============================] - 0s 16ms/step - loss: 0.7965 - accuracy: 0.6370\n",
      "Epoch 19/30\n",
      "10/10 [==============================] - 0s 17ms/step - loss: 0.7733 - accuracy: 0.6535\n",
      "Epoch 20/30\n",
      "10/10 [==============================] - 0s 16ms/step - loss: 0.7443 - accuracy: 0.6700\n",
      "Epoch 21/30\n",
      "10/10 [==============================] - 0s 16ms/step - loss: 0.7245 - accuracy: 0.6931\n",
      "Epoch 22/30\n",
      "10/10 [==============================] - 0s 17ms/step - loss: 0.7293 - accuracy: 0.6865\n",
      "Epoch 23/30\n",
      "10/10 [==============================] - 0s 17ms/step - loss: 0.6886 - accuracy: 0.7294\n",
      "Epoch 24/30\n",
      "10/10 [==============================] - 0s 24ms/step - loss: 0.6863 - accuracy: 0.7327\n",
      "Epoch 25/30\n",
      "10/10 [==============================] - 0s 22ms/step - loss: 0.6561 - accuracy: 0.7129\n",
      "Epoch 26/30\n",
      "10/10 [==============================] - 0s 20ms/step - loss: 0.6661 - accuracy: 0.6700\n",
      "Epoch 27/30\n",
      "10/10 [==============================] - 0s 18ms/step - loss: 0.6274 - accuracy: 0.7492\n",
      "Epoch 28/30\n",
      "10/10 [==============================] - 0s 15ms/step - loss: 0.6114 - accuracy: 0.7657\n",
      "Epoch 29/30\n",
      "10/10 [==============================] - 0s 14ms/step - loss: 0.5877 - accuracy: 0.7822\n",
      "Epoch 30/30\n",
      "10/10 [==============================] - 0s 14ms/step - loss: 0.6180 - accuracy: 0.7228\n"
     ]
    },
    {
     "data": {
      "text/plain": [
       "<keras.callbacks.History at 0x26d0b9018e0>"
      ]
     },
     "execution_count": 9,
     "metadata": {},
     "output_type": "execute_result"
    }
   ],
   "source": [
    "model1.compile(optimizer='adam',\n",
    "             loss='sparse_categorical_crossentropy',\n",
    "             metrics=['accuracy'])\n",
    "\n",
    "model1.fit(x_train_norm, y_train, epochs=30)"
   ]
  },
  {
   "cell_type": "markdown",
   "metadata": {},
   "source": [
    "에포치 더 반복 시 정확도가 높아잘 수 있을 것 같아 10회에서 30회로 증가시켰고, 0.7점대의 훈련 정확도를 보였다."
   ]
  },
  {
   "cell_type": "markdown",
   "metadata": {},
   "source": [
    "#### 테스트"
   ]
  },
  {
   "cell_type": "markdown",
   "metadata": {},
   "source": [
    "테스트 자료는 아이펠에서 제공하는 데이터셋으로 진행"
   ]
  },
  {
   "cell_type": "code",
   "execution_count": 10,
   "metadata": {},
   "outputs": [
    {
     "name": "stdout",
     "output_type": "stream",
     "text": [
      "100  images to be resized.\n",
      "100  images resized.\n",
      "테스트 바위 이미지 resize 완료!\n"
     ]
    }
   ],
   "source": [
    "image_dir_path = os.getcwd() + \"/data/rock_scissor_paper/rock\"\n",
    "resize_images(image_dir_path)\n",
    "\n",
    "print(\"테스트 바위 이미지 resize 완료!\")"
   ]
  },
  {
   "cell_type": "code",
   "execution_count": 11,
   "metadata": {},
   "outputs": [
    {
     "name": "stdout",
     "output_type": "stream",
     "text": [
      "100  images to be resized.\n",
      "100  images resized.\n",
      "테스트 가위 이미지 resize 완료!\n"
     ]
    }
   ],
   "source": [
    "image_dir_path = os.getcwd() + \"/data/rock_scissor_paper/scissor\"\n",
    "resize_images(image_dir_path)\n",
    "\n",
    "print(\"테스트 가위 이미지 resize 완료!\")"
   ]
  },
  {
   "cell_type": "code",
   "execution_count": 12,
   "metadata": {},
   "outputs": [
    {
     "name": "stdout",
     "output_type": "stream",
     "text": [
      "100  images to be resized.\n",
      "100  images resized.\n",
      "테스트 보 이미지 resize 완료!\n"
     ]
    }
   ],
   "source": [
    "image_dir_path = os.getcwd() + \"/data/rock_scissor_paper/paper\"\n",
    "resize_images(image_dir_path)\n",
    "\n",
    "print(\"테스트 보 이미지 resize 완료!\")"
   ]
  },
  {
   "cell_type": "code",
   "execution_count": 13,
   "metadata": {},
   "outputs": [
    {
     "name": "stdout",
     "output_type": "stream",
     "text": [
      "학습데이터(x_test)의 이미지 개수는 300 입니다.\n",
      "x_test shape: (300, 28, 28, 3)\n",
      "y_test shape: (300,)\n"
     ]
    }
   ],
   "source": [
    "\n",
    "def test_load_data(img_path, number_of_data=300):  # 가위바위보 이미지 개수 총합에 주의하세요.\n",
    "    # 가위 : 0, 바위 : 1, 보 : 2\n",
    "    img_size=28\n",
    "    color=3\n",
    "    #이미지 데이터와 라벨(가위 : 0, 바위 : 1, 보 : 2) 데이터를 담을 행렬(matrix) 영역을 생성합니다.\n",
    "    imgs=np.zeros(number_of_data*img_size*img_size*color,dtype=np.int32).reshape(number_of_data,img_size,img_size,color)\n",
    "    labels=np.zeros(number_of_data,dtype=np.int32)\n",
    "\n",
    "    idx=0\n",
    "    for file in glob.iglob(img_path+'/scissor/*.jpg'):\n",
    "        img = np.array(Image.open(file),dtype=np.int32)\n",
    "        imgs[idx,:,:,:]=img    # 데이터 영역에 이미지 행렬을 복사\n",
    "        labels[idx]=0   # 가위 : 0\n",
    "        idx=idx+1\n",
    "\n",
    "    for file in glob.iglob(img_path+'/rock/*.jpg'):\n",
    "        img = np.array(Image.open(file),dtype=np.int32)\n",
    "        imgs[idx,:,:,:]=img    # 데이터 영역에 이미지 행렬을 복사\n",
    "        labels[idx]=1   # 바위 : 1\n",
    "        idx=idx+1  \n",
    "    \n",
    "    for file in glob.iglob(img_path+'/paper/*.jpg'):\n",
    "        img = np.array(Image.open(file),dtype=np.int32)\n",
    "        imgs[idx,:,:,:]=img    # 데이터 영역에 이미지 행렬을 복사\n",
    "        labels[idx]=2   # 보 : 2\n",
    "        idx=idx+1\n",
    "        \n",
    "    print(\"학습데이터(x_test)의 이미지 개수는\", idx,\"입니다.\")\n",
    "    return imgs, labels\n",
    "\n",
    "image_dir_path = os.getcwd() + \"/data/test\"\n",
    "(x_test, y_test)=test_load_data(image_dir_path)\n",
    "x_test_norm = x_train/255.0   # 입력은 0~1 사이의 값으로 정규화\n",
    "\n",
    "print(\"x_test shape: {}\".format(x_test.shape))\n",
    "print(\"y_test shape: {}\".format(y_test.shape))"
   ]
  },
  {
   "cell_type": "markdown",
   "metadata": {},
   "source": [
    "훈련시킨 model을 사용하여 test_accuracy를 측정"
   ]
  },
  {
   "cell_type": "code",
   "execution_count": 14,
   "metadata": {},
   "outputs": [
    {
     "name": "stdout",
     "output_type": "stream",
     "text": [
      "10/10 - 0s - loss: 168.4376 - accuracy: 0.4667 - 380ms/epoch - 38ms/step\n",
      "test_loss: 168.4375762939453 \n",
      "test_accuracy: 0.46666666865348816\n"
     ]
    }
   ],
   "source": [
    "# 모델 시험\n",
    "test_loss, test_accuracy = model1.evaluate(x_test, y_test, verbose=2)\n",
    "print(f\"test_loss: {test_loss} \")\n",
    "print(f\"test_accuracy: {test_accuracy}\")"
   ]
  },
  {
   "cell_type": "markdown",
   "metadata": {},
   "source": [
    "정확도가 50%도 안되어 처참하다.\n",
    "이전 데이터를 픽셀화 했을 때 가위인데도 주먹처럼 보이는 문제들이 있어서 데이터셋을 다시 만들어보기로 했다."
   ]
  },
  {
   "cell_type": "markdown",
   "metadata": {},
   "source": [
    "## 정확도 향상을 위한 여러 방법"
   ]
  },
  {
   "cell_type": "markdown",
   "metadata": {},
   "source": [
    "#### 1. 데이터셋 다시 찍어 훈련시켜보기"
   ]
  },
  {
   "cell_type": "markdown",
   "metadata": {},
   "source": [
    "이전 데이터 셋이 가위바위보 사진이 각도가 달라졌어서 한 방향(손바닥이 보이는 방향)으로만 데이터셋을 만들어서 훈련시켜보겠다"
   ]
  },
  {
   "cell_type": "code",
   "execution_count": 15,
   "metadata": {},
   "outputs": [
    {
     "name": "stdout",
     "output_type": "stream",
     "text": [
      "100  images to be resized.\n",
      "100  images resized.\n",
      "가위 이미지 resize 완료!\n",
      "100  images to be resized.\n",
      "100  images resized.\n",
      "바위 이미지 resize 완료!\n",
      "100  images to be resized.\n",
      "100  images resized.\n",
      "보 이미지 resize 완료!\n"
     ]
    }
   ],
   "source": [
    "# 이미지 사이즈 변경\n",
    "\n",
    "image_dir_path = os.getcwd() + \"/rock_scissor_paper/scissor2\"\n",
    "resize_images(image_dir_path)\n",
    "print(\"가위 이미지 resize 완료!\")\n",
    "\n",
    "image_dir_path = os.getcwd() + \"/rock_scissor_paper/rock2\"\n",
    "resize_images(image_dir_path)\n",
    "print(\"바위 이미지 resize 완료!\")\n",
    "\n",
    "image_dir_path = os.getcwd() + \"/rock_scissor_paper/paper2\"\n",
    "resize_images(image_dir_path)\n",
    "print(\"보 이미지 resize 완료!\")"
   ]
  },
  {
   "cell_type": "code",
   "execution_count": 216,
   "metadata": {},
   "outputs": [
    {
     "name": "stdout",
     "output_type": "stream",
     "text": [
      "학습데이터(x_train)의 이미지 개수는 300 입니다.\n",
      "x_train shape: (300, 28, 28, 3)\n",
      "y_train shape: (300,)\n"
     ]
    }
   ],
   "source": [
    "import numpy as np\n",
    "\n",
    "def load_data1(img_path, number_of_data=300):  # 가위바위보 이미지 개수 총합에 주의하세요.\n",
    "    # 가위 : 0, 바위 : 1, 보 : 2\n",
    "    img_size=28\n",
    "    color=3\n",
    "    #이미지 데이터와 라벨(가위 : 0, 바위 : 1, 보 : 2) 데이터를 담을 행렬(matrix) 영역을 생성합니다.\n",
    "    imgs=np.zeros(number_of_data*img_size*img_size*color,dtype=np.int32).reshape(number_of_data,img_size,img_size,color)\n",
    "    labels=np.zeros(number_of_data,dtype=np.int32)\n",
    "\n",
    "    idx=0\n",
    "    for file in glob.iglob(img_path+'/scissor2/*.jpg'):\n",
    "        img = np.array(Image.open(file),dtype=np.int32)\n",
    "        imgs[idx,:,:,:]=img    # 데이터 영역에 이미지 행렬을 복사\n",
    "        labels[idx]=0   # 가위 : 0\n",
    "        idx=idx+1\n",
    "\n",
    "    for file in glob.iglob(img_path+'/rock2/*.jpg'):\n",
    "        img = np.array(Image.open(file),dtype=np.int32)\n",
    "        imgs[idx,:,:,:]=img    # 데이터 영역에 이미지 행렬을 복사\n",
    "        labels[idx]=1   # 바위 : 1\n",
    "        idx=idx+1  \n",
    "    \n",
    "    for file in glob.iglob(img_path+'/paper2/*.jpg'):\n",
    "        img = np.array(Image.open(file),dtype=np.int32)\n",
    "        imgs[idx,:,:,:]=img    # 데이터 영역에 이미지 행렬을 복사\n",
    "        labels[idx]=2   # 보 : 2\n",
    "        idx=idx+1\n",
    "        \n",
    "    print(\"학습데이터(x_train)의 이미지 개수는\", idx,\"입니다.\")\n",
    "    return imgs, labels\n",
    "\n",
    "image_dir_path = os.getcwd() + \"/rock_scissor_paper\"\n",
    "(x_train1, y_train1)=load_data1(image_dir_path)\n",
    "x_train1_norm = x_train1/255.0   # 입력은 0~1 사이의 값으로 정규화\n",
    "\n",
    "print(\"x_train shape: {}\".format(x_train1.shape))\n",
    "print(\"y_train shape: {}\".format(y_train1.shape))"
   ]
  },
  {
   "cell_type": "code",
   "execution_count": 17,
   "metadata": {},
   "outputs": [
    {
     "name": "stdout",
     "output_type": "stream",
     "text": [
      "라벨:  1\n"
     ]
    },
    {
     "data": {
      "image/png": "[encoded data removed]",
      "text/plain": [
       "<Figure size 432x288 with 1 Axes>"
      ]
     },
     "metadata": {
      "needs_background": "light"
     },
     "output_type": "display_data"
    }
   ],
   "source": [
    "import matplotlib.pyplot as plt\n",
    "\n",
    "plt.imshow(x_train1[123])\n",
    "print('라벨: ', y_train1[123])"
   ]
  },
  {
   "cell_type": "markdown",
   "metadata": {},
   "source": [
    "......ㅋ"
   ]
  },
  {
   "cell_type": "code",
   "execution_count": 18,
   "metadata": {
    "scrolled": true
   },
   "outputs": [
    {
     "name": "stdout",
     "output_type": "stream",
     "text": [
      "Model에 추가된 Layer 개수:  7\n",
      "Model: \"sequential_1\"\n",
      "_________________________________________________________________\n",
      " Layer (type)                Output Shape              Param #   \n",
      "=================================================================\n",
      " conv2d_2 (Conv2D)           (None, 26, 26, 16)        448       \n",
      "                                                                 \n",
      " max_pooling2d_2 (MaxPooling  (None, 13, 13, 16)       0         \n",
      " 2D)                                                             \n",
      "                                                                 \n",
      " conv2d_3 (Conv2D)           (None, 11, 11, 32)        4640      \n",
      "                                                                 \n",
      " max_pooling2d_3 (MaxPooling  (None, 5, 5, 32)         0         \n",
      " 2D)                                                             \n",
      "                                                                 \n",
      " flatten_1 (Flatten)         (None, 800)               0         \n",
      "                                                                 \n",
      " dense_2 (Dense)             (None, 32)                25632     \n",
      "                                                                 \n",
      " dense_3 (Dense)             (None, 3)                 99        \n",
      "                                                                 \n",
      "=================================================================\n",
      "Total params: 30,819\n",
      "Trainable params: 30,819\n",
      "Non-trainable params: 0\n",
      "_________________________________________________________________\n"
     ]
    }
   ],
   "source": [
    "model2=keras.models.Sequential()\n",
    "model2.add(keras.layers.Conv2D(16, (3,3), activation='relu', input_shape=(28,28,3)))\n",
    "model2.add(keras.layers.MaxPool2D(2,2))\n",
    "model2.add(keras.layers.Conv2D(32, (3,3), activation='relu'))\n",
    "model2.add(keras.layers.MaxPooling2D((2,2)))\n",
    "model2.add(keras.layers.Flatten())\n",
    "model2.add(keras.layers.Dense(32, activation='relu'))\n",
    "model2.add(keras.layers.Dense(3, activation='softmax')) # 최종 분류기 3클래스\n",
    "\n",
    "print('Model에 추가된 Layer 개수: ', len(model2.layers))\n",
    "\n",
    "model2.summary()"
   ]
  },
  {
   "cell_type": "code",
   "execution_count": 19,
   "metadata": {},
   "outputs": [
    {
     "name": "stdout",
     "output_type": "stream",
     "text": [
      "Epoch 1/30\n",
      "10/10 [==============================] - 2s 20ms/step - loss: 1.0885 - accuracy: 0.3467\n",
      "Epoch 2/30\n",
      "10/10 [==============================] - 0s 16ms/step - loss: 1.0391 - accuracy: 0.7133\n",
      "Epoch 3/30\n",
      "10/10 [==============================] - 0s 16ms/step - loss: 0.9473 - accuracy: 0.8300\n",
      "Epoch 4/30\n",
      "10/10 [==============================] - 0s 17ms/step - loss: 0.7915 - accuracy: 0.9500\n",
      "Epoch 5/30\n",
      "10/10 [==============================] - 0s 20ms/step - loss: 0.6077 - accuracy: 0.8867\n",
      "Epoch 6/30\n",
      "10/10 [==============================] - 0s 17ms/step - loss: 0.4060 - accuracy: 0.9500\n",
      "Epoch 7/30\n",
      "10/10 [==============================] - 0s 17ms/step - loss: 0.2417 - accuracy: 0.9867\n",
      "Epoch 8/30\n",
      "10/10 [==============================] - 0s 21ms/step - loss: 0.1546 - accuracy: 0.9833\n",
      "Epoch 9/30\n",
      "10/10 [==============================] - 0s 22ms/step - loss: 0.0961 - accuracy: 0.9867\n",
      "Epoch 10/30\n",
      "10/10 [==============================] - 0s 17ms/step - loss: 0.0599 - accuracy: 0.9933\n",
      "Epoch 11/30\n",
      "10/10 [==============================] - 0s 16ms/step - loss: 0.0402 - accuracy: 1.0000\n",
      "Epoch 12/30\n",
      "10/10 [==============================] - 0s 18ms/step - loss: 0.0268 - accuracy: 1.0000\n",
      "Epoch 13/30\n",
      "10/10 [==============================] - 0s 20ms/step - loss: 0.0222 - accuracy: 1.0000\n",
      "Epoch 14/30\n",
      "10/10 [==============================] - 0s 18ms/step - loss: 0.0230 - accuracy: 1.0000\n",
      "Epoch 15/30\n",
      "10/10 [==============================] - 0s 17ms/step - loss: 0.0223 - accuracy: 1.0000\n",
      "Epoch 16/30\n",
      "10/10 [==============================] - 0s 17ms/step - loss: 0.0142 - accuracy: 1.0000\n",
      "Epoch 17/30\n",
      "10/10 [==============================] - 0s 16ms/step - loss: 0.0098 - accuracy: 1.0000\n",
      "Epoch 18/30\n",
      "10/10 [==============================] - 0s 17ms/step - loss: 0.0100 - accuracy: 1.0000\n",
      "Epoch 19/30\n",
      "10/10 [==============================] - 0s 16ms/step - loss: 0.0061 - accuracy: 1.0000\n",
      "Epoch 20/30\n",
      "10/10 [==============================] - 0s 16ms/step - loss: 0.0061 - accuracy: 1.0000\n",
      "Epoch 21/30\n",
      "10/10 [==============================] - 0s 15ms/step - loss: 0.0050 - accuracy: 1.0000\n",
      "Epoch 22/30\n",
      "10/10 [==============================] - 0s 15ms/step - loss: 0.0043 - accuracy: 1.0000\n",
      "Epoch 23/30\n",
      "10/10 [==============================] - 0s 16ms/step - loss: 0.0038 - accuracy: 1.0000\n",
      "Epoch 24/30\n",
      "10/10 [==============================] - 0s 17ms/step - loss: 0.0034 - accuracy: 1.0000\n",
      "Epoch 25/30\n",
      "10/10 [==============================] - 0s 18ms/step - loss: 0.0031 - accuracy: 1.0000\n",
      "Epoch 26/30\n",
      "10/10 [==============================] - 0s 16ms/step - loss: 0.0029 - accuracy: 1.0000\n",
      "Epoch 27/30\n",
      "10/10 [==============================] - 0s 21ms/step - loss: 0.0026 - accuracy: 1.0000\n",
      "Epoch 28/30\n",
      "10/10 [==============================] - 0s 23ms/step - loss: 0.0025 - accuracy: 1.0000\n",
      "Epoch 29/30\n",
      "10/10 [==============================] - 0s 22ms/step - loss: 0.0026 - accuracy: 1.0000\n",
      "Epoch 30/30\n",
      "10/10 [==============================] - 0s 21ms/step - loss: 0.0021 - accuracy: 1.0000\n"
     ]
    },
    {
     "data": {
      "text/plain": [
       "<keras.callbacks.History at 0x26d0cd62c10>"
      ]
     },
     "execution_count": 19,
     "metadata": {},
     "output_type": "execute_result"
    }
   ],
   "source": [
    "model2.compile(optimizer='adam',\n",
    "             loss='sparse_categorical_crossentropy',\n",
    "             metrics=['accuracy'])\n",
    "\n",
    "model2.fit(x_train1_norm, y_train1, epochs=30)"
   ]
  },
  {
   "cell_type": "code",
   "execution_count": 20,
   "metadata": {},
   "outputs": [
    {
     "name": "stdout",
     "output_type": "stream",
     "text": [
      "10/10 - 0s - loss: 1825.3467 - accuracy: 0.3333 - 373ms/epoch - 37ms/step\n",
      "test_loss: 1825.3466796875 \n",
      "test_accuracy: 0.3333333432674408\n"
     ]
    }
   ],
   "source": [
    "# 모델 시험\n",
    "test_loss, test_accuracy = model2.evaluate(x_test, y_test, verbose=2)\n",
    "print(f\"test_loss: {test_loss} \")\n",
    "print(f\"test_accuracy: {test_accuracy}\")"
   ]
  },
  {
   "cell_type": "markdown",
   "metadata": {},
   "source": [
    "test_accuracy: 0.3333 정확도가 더 낮아졌다."
   ]
  },
  {
   "cell_type": "markdown",
   "metadata": {},
   "source": [
    "#### 2. 데이터셋 더 추가해보기"
   ]
  },
  {
   "cell_type": "code",
   "execution_count": 310,
   "metadata": {},
   "outputs": [
    {
     "name": "stdout",
     "output_type": "stream",
     "text": [
      "학습데이터(x_train)의 이미지 개수는 603 입니다.\n",
      "x_train shape: (603, 28, 28, 3)\n",
      "y_train shape: (603,)\n"
     ]
    }
   ],
   "source": [
    "\n",
    "def load_data2(img_path, number_of_data=603):  # 가위바위보 이미지 개수 총합에 주의하세요.\n",
    "    # 가위 : 0, 바위 : 1, 보 : 2\n",
    "    img_size=28\n",
    "    color=3\n",
    "    #이미지 데이터와 라벨(가위 : 0, 바위 : 1, 보 : 2) 데이터를 담을 행렬(matrix) 영역을 생성합니다.\n",
    "    imgs=np.zeros(number_of_data*img_size*img_size*color,dtype=np.int32).reshape(number_of_data,img_size,img_size,color)\n",
    "    labels=np.zeros(number_of_data,dtype=np.int32)\n",
    "\n",
    "    idx=0\n",
    "    for file in glob.iglob(img_path+'/scissor-samples/*.jpg'):\n",
    "        img = np.array(Image.open(file),dtype=np.int32)\n",
    "        imgs[idx,:,:,:]=img    # 데이터 영역에 이미지 행렬을 복사\n",
    "        labels[idx]=0   # 가위 : 0\n",
    "        idx=idx+1\n",
    "    \n",
    "    for file in glob.iglob(img_path+'/scissor2/*.jpg'):\n",
    "        img = np.array(Image.open(file),dtype=np.int32)\n",
    "        imgs[idx,:,:,:]=img    # 데이터 영역에 이미지 행렬을 복사\n",
    "        labels[idx]=0   # 가위 : 0\n",
    "        idx=idx+1\n",
    "\n",
    "    for file in glob.iglob(img_path+'/rock-samples/*.jpg'):\n",
    "        img = np.array(Image.open(file),dtype=np.int32)\n",
    "        imgs[idx,:,:,:]=img    # 데이터 영역에 이미지 행렬을 복사\n",
    "        labels[idx]=1   # 바위 : 1\n",
    "        idx=idx+1\n",
    "    \n",
    "    for file in glob.iglob(img_path+'/rock2/*.jpg'):\n",
    "        img = np.array(Image.open(file),dtype=np.int32)\n",
    "        imgs[idx,:,:,:]=img    # 데이터 영역에 이미지 행렬을 복사\n",
    "        labels[idx]=1   # 바위 : 1\n",
    "        idx=idx+1 \n",
    "    \n",
    "    for file in glob.iglob(img_path+'/paper-samples/*.jpg'):\n",
    "        img = np.array(Image.open(file),dtype=np.int32)\n",
    "        imgs[idx,:,:,:]=img    # 데이터 영역에 이미지 행렬을 복사\n",
    "        labels[idx]=2   # 보 : 2\n",
    "        idx=idx+1\n",
    "        \n",
    "    for file in glob.iglob(img_path+'/paper2/*.jpg'):\n",
    "        img = np.array(Image.open(file),dtype=np.int32)\n",
    "        imgs[idx,:,:,:]=img    # 데이터 영역에 이미지 행렬을 복사\n",
    "        labels[idx]=2   # 보 : 2\n",
    "        idx=idx+1\n",
    "        \n",
    "    print(\"학습데이터(x_train)의 이미지 개수는\", idx,\"입니다.\")\n",
    "    return imgs, labels\n",
    "\n",
    "image_dir_path = os.getcwd() + \"/rock_scissor_paper\"\n",
    "(x_train2, y_train2)=load_data2(image_dir_path)\n",
    "x_train_norm2 = x_train2/255.0   # 입력은 0~1 사이의 값으로 정규화\n",
    "\n",
    "print(\"x_train shape: {}\".format(x_train2.shape))\n",
    "print(\"y_train shape: {}\".format(y_train2.shape))"
   ]
  },
  {
   "cell_type": "code",
   "execution_count": 22,
   "metadata": {},
   "outputs": [
    {
     "name": "stdout",
     "output_type": "stream",
     "text": [
      "Model에 추가된 Layer 개수:  7\n",
      "Model: \"sequential_2\"\n",
      "_________________________________________________________________\n",
      " Layer (type)                Output Shape              Param #   \n",
      "=================================================================\n",
      " conv2d_4 (Conv2D)           (None, 26, 26, 16)        448       \n",
      "                                                                 \n",
      " max_pooling2d_4 (MaxPooling  (None, 13, 13, 16)       0         \n",
      " 2D)                                                             \n",
      "                                                                 \n",
      " conv2d_5 (Conv2D)           (None, 11, 11, 32)        4640      \n",
      "                                                                 \n",
      " max_pooling2d_5 (MaxPooling  (None, 5, 5, 32)         0         \n",
      " 2D)                                                             \n",
      "                                                                 \n",
      " flatten_2 (Flatten)         (None, 800)               0         \n",
      "                                                                 \n",
      " dense_4 (Dense)             (None, 32)                25632     \n",
      "                                                                 \n",
      " dense_5 (Dense)             (None, 3)                 99        \n",
      "                                                                 \n",
      "=================================================================\n",
      "Total params: 30,819\n",
      "Trainable params: 30,819\n",
      "Non-trainable params: 0\n",
      "_________________________________________________________________\n"
     ]
    }
   ],
   "source": [
    "model3=keras.models.Sequential()\n",
    "model3.add(keras.layers.Conv2D(16, (3,3), activation='relu', input_shape=(28,28,3)))\n",
    "model3.add(keras.layers.MaxPool2D(2,2))\n",
    "model3.add(keras.layers.Conv2D(32, (3,3), activation='relu'))\n",
    "model3.add(keras.layers.MaxPooling2D((2,2)))\n",
    "model3.add(keras.layers.Flatten())\n",
    "model3.add(keras.layers.Dense(32, activation='relu'))\n",
    "model3.add(keras.layers.Dense(3, activation='softmax')) # 최종 분류기 3클래스\n",
    "\n",
    "print('Model에 추가된 Layer 개수: ', len(model3.layers))\n",
    "\n",
    "model3.summary()"
   ]
  },
  {
   "cell_type": "code",
   "execution_count": 23,
   "metadata": {},
   "outputs": [
    {
     "name": "stdout",
     "output_type": "stream",
     "text": [
      "Epoch 1/30\n",
      "19/19 [==============================] - 2s 17ms/step - loss: 1.0843 - accuracy: 0.4013\n",
      "Epoch 2/30\n",
      "19/19 [==============================] - 0s 16ms/step - loss: 0.9992 - accuracy: 0.5672\n",
      "Epoch 3/30\n",
      "19/19 [==============================] - 0s 15ms/step - loss: 0.8996 - accuracy: 0.6335\n",
      "Epoch 4/30\n",
      "19/19 [==============================] - 0s 15ms/step - loss: 0.8135 - accuracy: 0.6633\n",
      "Epoch 5/30\n",
      "19/19 [==============================] - 0s 18ms/step - loss: 0.7265 - accuracy: 0.7264\n",
      "Epoch 6/30\n",
      "19/19 [==============================] - 0s 16ms/step - loss: 0.6544 - accuracy: 0.7512\n",
      "Epoch 7/30\n",
      "19/19 [==============================] - 0s 24ms/step - loss: 0.5895 - accuracy: 0.7546\n",
      "Epoch 8/30\n",
      "19/19 [==============================] - 0s 17ms/step - loss: 0.5396 - accuracy: 0.7828\n",
      "Epoch 9/30\n",
      "19/19 [==============================] - 0s 22ms/step - loss: 0.4793 - accuracy: 0.7977\n",
      "Epoch 10/30\n",
      "19/19 [==============================] - 0s 17ms/step - loss: 0.4319 - accuracy: 0.8308\n",
      "Epoch 11/30\n",
      "19/19 [==============================] - 0s 15ms/step - loss: 0.4006 - accuracy: 0.8624\n",
      "Epoch 12/30\n",
      "19/19 [==============================] - 0s 17ms/step - loss: 0.3581 - accuracy: 0.8673\n",
      "Epoch 13/30\n",
      "19/19 [==============================] - 0s 16ms/step - loss: 0.3356 - accuracy: 0.8823\n",
      "Epoch 14/30\n",
      "19/19 [==============================] - 0s 18ms/step - loss: 0.2938 - accuracy: 0.8856\n",
      "Epoch 15/30\n",
      "19/19 [==============================] - 0s 16ms/step - loss: 0.2574 - accuracy: 0.8939\n",
      "Epoch 16/30\n",
      "19/19 [==============================] - 0s 16ms/step - loss: 0.2481 - accuracy: 0.9154\n",
      "Epoch 17/30\n",
      "19/19 [==============================] - 0s 16ms/step - loss: 0.2251 - accuracy: 0.9138\n",
      "Epoch 18/30\n",
      "19/19 [==============================] - 0s 15ms/step - loss: 0.2119 - accuracy: 0.9287\n",
      "Epoch 19/30\n",
      "19/19 [==============================] - 0s 17ms/step - loss: 0.1901 - accuracy: 0.9403\n",
      "Epoch 20/30\n",
      "19/19 [==============================] - 0s 21ms/step - loss: 0.1768 - accuracy: 0.9370\n",
      "Epoch 21/30\n",
      "19/19 [==============================] - 0s 16ms/step - loss: 0.1485 - accuracy: 0.9602\n",
      "Epoch 22/30\n",
      "19/19 [==============================] - 0s 18ms/step - loss: 0.1287 - accuracy: 0.9685\n",
      "Epoch 23/30\n",
      "19/19 [==============================] - 0s 15ms/step - loss: 0.1224 - accuracy: 0.9585\n",
      "Epoch 24/30\n",
      "19/19 [==============================] - 0s 19ms/step - loss: 0.1075 - accuracy: 0.9751\n",
      "Epoch 25/30\n",
      "19/19 [==============================] - 0s 16ms/step - loss: 0.0944 - accuracy: 0.9784\n",
      "Epoch 26/30\n",
      "19/19 [==============================] - 0s 17ms/step - loss: 0.0909 - accuracy: 0.9751\n",
      "Epoch 27/30\n",
      "19/19 [==============================] - 0s 16ms/step - loss: 0.0740 - accuracy: 0.9818\n",
      "Epoch 28/30\n",
      "19/19 [==============================] - 0s 16ms/step - loss: 0.0700 - accuracy: 0.9834\n",
      "Epoch 29/30\n",
      "19/19 [==============================] - 0s 16ms/step - loss: 0.0698 - accuracy: 0.9834\n",
      "Epoch 30/30\n",
      "19/19 [==============================] - 0s 16ms/step - loss: 0.0576 - accuracy: 0.9867\n"
     ]
    },
    {
     "data": {
      "text/plain": [
       "<keras.callbacks.History at 0x26d0f222be0>"
      ]
     },
     "execution_count": 23,
     "metadata": {},
     "output_type": "execute_result"
    }
   ],
   "source": [
    "model3.compile(optimizer='adam',\n",
    "             loss='sparse_categorical_crossentropy',\n",
    "             metrics=['accuracy'])\n",
    "\n",
    "model3.fit(x_train_norm2, y_train2, epochs=30)"
   ]
  },
  {
   "cell_type": "code",
   "execution_count": 24,
   "metadata": {},
   "outputs": [
    {
     "name": "stdout",
     "output_type": "stream",
     "text": [
      "10/10 - 0s - loss: 564.6611 - accuracy: 0.4900 - 359ms/epoch - 36ms/step\n",
      "test_loss: 564.6610717773438 \n",
      "test_accuracy: 0.49000000953674316\n"
     ]
    }
   ],
   "source": [
    "# 모델 시험\n",
    "test_loss, test_accuracy = model3.evaluate(x_test, y_test, verbose=2)\n",
    "print(f\"test_loss: {test_loss} \")\n",
    "print(f\"test_accuracy: {test_accuracy}\")"
   ]
  },
  {
   "cell_type": "markdown",
   "metadata": {},
   "source": [
    "두개의 데이터를 더하니 더 학습률이 높아ㅏ졌다"
   ]
  },
  {
   "cell_type": "markdown",
   "metadata": {},
   "source": [
    "#### 3. 데이터  argument"
   ]
  },
  {
   "cell_type": "markdown",
   "metadata": {},
   "source": [
    "keras 의 ImageDataGenerator 이용\n",
    "https://velog.io/@ym980118/%EB%94%A5%EB%9F%AC%EB%8B%9D-Keras-ImageDataGenerator%EB%A5%BC-%EC%9D%B4%EC%9A%A9%ED%95%9C-%EC%9D%B4%EB%AF%B8%EC%A7%80-%EB%8D%B0%EC%9D%B4%ED%84%B0-%EC%A6%9D%EA%B0%95-Data-Augmentation"
   ]
  },
  {
   "cell_type": "markdown",
   "metadata": {},
   "source": [
    "- 좌우 반전의 경우"
   ]
  },
  {
   "cell_type": "code",
   "execution_count": 150,
   "metadata": {},
   "outputs": [
    {
     "data": {
      "text/plain": [
       "<matplotlib.image.AxesImage at 0x26d116936d0>"
      ]
     },
     "execution_count": 150,
     "metadata": {},
     "output_type": "execute_result"
    },
    {
     "data": {
      "image/png": "[encoded data removed]",
      "text/plain": [
       "<Figure size 432x288 with 1 Axes>"
      ]
     },
     "metadata": {
      "needs_background": "light"
     },
     "output_type": "display_data"
    }
   ],
   "source": [
    "from tensorflow.keras.preprocessing.image import ImageDataGenerator\n",
    "\n",
    "# 좌우 반전 , 좌우반전을 True로 했지만 keras에서 랜덤으로 할 지 말 지 결정!..즉 좌우 반전 안 될 수도 있음.\n",
    "data_generator = ImageDataGenerator(horizontal_flip = True)\n",
    "\n",
    "image_batch = np.expand_dims(x_train1[13],axis=0) #4차원으로 늘려주기\n",
    "\n",
    "\n",
    "# ImageDataGenerator 적용하려면 fit과 flow를 해야함.\n",
    "data_generator.fit(image_batch)\n",
    "data_gen_iter = data_generator.flow(image_batch)\n",
    "\n",
    "#실행을 위해선 next 필요\n",
    "aug_image_batch = next(data_gen_iter)\n",
    "\n",
    "aug_image = np.squeeze(aug_image_batch)\n",
    "\n",
    "aug_image = aug_image.astype('int')\n",
    "\n",
    "plt.imshow(aug_image)"
   ]
  },
  {
   "cell_type": "markdown",
   "metadata": {},
   "source": [
    "- 상하 반전의 경우"
   ]
  },
  {
   "cell_type": "code",
   "execution_count": 36,
   "metadata": {},
   "outputs": [
    {
     "data": {
      "text/plain": [
       "<matplotlib.image.AxesImage at 0x26d1283db50>"
      ]
     },
     "execution_count": 36,
     "metadata": {},
     "output_type": "execute_result"
    },
    {
     "data": {
      "image/png": "[encoded data removed]",
      "text/plain": [
       "<Figure size 432x288 with 1 Axes>"
      ]
     },
     "metadata": {
      "needs_background": "light"
     },
     "output_type": "display_data"
    }
   ],
   "source": [
    "data_generator = ImageDataGenerator(vertical_flip = True) # 회전 \n",
    "\n",
    "image_batch = np.expand_dims(x_train1[50],axis=0) #4차원으로 늘려주기\n",
    "\n",
    "\n",
    "# ImageDataGenerator 적용하려면 fit과 flow를 해야함.\n",
    "data_generator.fit(image_batch)\n",
    "data_gen_iter = data_generator.flow(image_batch)\n",
    "\n",
    "#실행을 위해선 next 필요\n",
    "aug_image_batch = next(data_gen_iter)\n",
    "\n",
    "aug_image = np.squeeze(aug_image_batch)\n",
    "\n",
    "aug_image = aug_image.astype('int')\n",
    "\n",
    "plt.imshow(aug_image)"
   ]
  },
  {
   "cell_type": "markdown",
   "metadata": {},
   "source": [
    "- 회전 할 경우"
   ]
  },
  {
   "cell_type": "code",
   "execution_count": 262,
   "metadata": {},
   "outputs": [
    {
     "ename": "AttributeError",
     "evalue": "'numpy.ndarray' object has no attribute 'save'",
     "output_type": "error",
     "traceback": [
      "\u001b[1;31m---------------------------------------------------------------------------\u001b[0m",
      "\u001b[1;31mAttributeError\u001b[0m                            Traceback (most recent call last)",
      "\u001b[1;32m<ipython-input-262-b59cc8ffb2fd>\u001b[0m in \u001b[0;36m<module>\u001b[1;34m\u001b[0m\n\u001b[0;32m     18\u001b[0m \u001b[0mplt\u001b[0m\u001b[1;33m.\u001b[0m\u001b[0mimshow\u001b[0m\u001b[1;33m(\u001b[0m\u001b[0maug_image\u001b[0m\u001b[1;33m)\u001b[0m\u001b[1;33m\u001b[0m\u001b[1;33m\u001b[0m\u001b[0m\n\u001b[0;32m     19\u001b[0m \u001b[1;33m\u001b[0m\u001b[0m\n\u001b[1;32m---> 20\u001b[1;33m \u001b[0maug_image\u001b[0m\u001b[1;33m.\u001b[0m\u001b[0msave\u001b[0m\u001b[1;33m(\u001b[0m\u001b[1;34m\"/rock_scissor_paper/data_argument/fuck.jpg\"\u001b[0m\u001b[1;33m,\u001b[0m\u001b[1;34m'jpg'\u001b[0m\u001b[1;33m)\u001b[0m\u001b[1;33m\u001b[0m\u001b[1;33m\u001b[0m\u001b[0m\n\u001b[0m",
      "\u001b[1;31mAttributeError\u001b[0m: 'numpy.ndarray' object has no attribute 'save'"
     ]
    },
    {
     "data": {
      "image/png": "[encoded data removed]",
      "text/plain": [
       "<Figure size 432x288 with 1 Axes>"
      ]
     },
     "metadata": {
      "needs_background": "light"
     },
     "output_type": "display_data"
    }
   ],
   "source": [
    "from PIL import Image\n",
    "\n",
    "data_generator = ImageDataGenerator(rotation_range=160.0) # \n",
    "\n",
    "image_batch = np.expand_dims(x_train1[245],axis=0) #4차원으로 늘려주기\n",
    "\n",
    "# ImageDataGenerator 적용하려면 fit과 flow를 해야함.\n",
    "#data_generator.fit(image_batch)\n",
    "data_gen_iter = data_generator.flow(image_batch)\n",
    "\n",
    "#실행을 위해선 next 필요\n",
    "aug_image_batch = next(data_gen_iter)\n",
    "\n",
    "aug_image = np.squeeze(aug_image_batch)\n",
    "\n",
    "aug_image = aug_image.astype('int')\n",
    "\n",
    "plt.imshow(aug_image)"
   ]
  },
  {
   "cell_type": "markdown",
   "metadata": {},
   "source": [
    "가위바위보 마다 각 200장의 사진이 있으므로 50장 기본, 50장하반전, 20장은 상하 좌우, 20장은 로테이션으로 진행한다"
   ]
  },
  {
   "cell_type": "code",
   "execution_count": 323,
   "metadata": {},
   "outputs": [
    {
     "data": {
      "text/plain": [
       "<matplotlib.image.AxesImage at 0x26d112e4340>"
      ]
     },
     "execution_count": 323,
     "metadata": {},
     "output_type": "execute_result"
    },
    {
     "data": {
      "image/png": "[encoded data removed]",
      "text/plain": [
       "<Figure size 432x288 with 1 Axes>"
      ]
     },
     "metadata": {
      "needs_background": "light"
     },
     "output_type": "display_data"
    }
   ],
   "source": [
    "plt.imshow(x_train2[99])"
   ]
  },
  {
   "cell_type": "code",
   "execution_count": 347,
   "metadata": {},
   "outputs": [
    {
     "data": {
      "text/plain": [
       "2"
      ]
     },
     "execution_count": 347,
     "metadata": {},
     "output_type": "execute_result"
    }
   ],
   "source": [
    "y_train2[499]"
   ]
  },
  {
   "cell_type": "code",
   "execution_count": 360,
   "metadata": {},
   "outputs": [
    {
     "name": "stdout",
     "output_type": "stream",
     "text": [
      "학습데이터(x_train)의 이미지 개수는 300 입니다.\n"
     ]
    }
   ],
   "source": [
    "image_dir_path = os.getcwd() + \"/rock_scissor_paper\"\n",
    "(x_train4, y_train4)=load_data1(image_dir_path)\n",
    "\n",
    "for i in range(300):\n",
    "    if 40<=i<60 or 140<=i<160 or 240<=i<260:\n",
    "        gen_hflip = ImageDataGenerator(horizontal_flip = True) # \n",
    "        image_batch = np.expand_dims(x_train4[i],axis=0) #4차원으로 늘려주기\n",
    "        # ImageDataGenerator 적용하려면 fit과 flow를 해야함.\n",
    "        gen_hflip.fit(image_batch)\n",
    "        data_gen_iter = gen_hflip.flow(image_batch)\n",
    "        aug_image_batch = next(data_gen_iter)\n",
    "        aug_image = np.squeeze(aug_image_batch)\n",
    "        aug_image = aug_image.astype('int')\n",
    "        x_train4[i] = aug_image\n",
    "\n",
    "    elif 60<=i<80 or 160<=i<180 or 260<=i<280:\n",
    "        gen_vflip = ImageDataGenerator(vertical_flip = True) # \n",
    "        image_batch = np.expand_dims(x_train4[i],axis=0) #4차원으로 늘려주기\n",
    "        # ImageDataGenerator 적용하려면 fit과 flow를 해야함.\n",
    "        gen_vflip.fit(image_batch)\n",
    "        data_gen_iter = gen_vflip.flow(image_batch)\n",
    "        aug_image_batch = next(data_gen_iter)\n",
    "        aug_image = np.squeeze(aug_image_batch)\n",
    "        aug_image = aug_image.astype('int')\n",
    "        x_train4[i] = aug_image\n",
    "        \n",
    "    elif 80<=i<100 or 180<=i<200 or 280<=i<300:\n",
    "        gen_rotation = ImageDataGenerator(rotation_range=180.0) # \n",
    "        image_batch = np.expand_dims(x_train4[i],axis=0) #4차원으로 늘려주기\n",
    "        # ImageDataGenerator 적용하려면 fit과 flow를 해야함.\n",
    "        gen_rotation.fit(image_batch)\n",
    "        data_gen_iter = gen_rotation.flow(image_batch)\n",
    "        aug_image_batch = next(data_gen_iter)\n",
    "        aug_image = np.squeeze(aug_image_batch)\n",
    "        aug_image = aug_image.astype('int')\n",
    "        x_train4[i] = aug_image\n",
    "\n",
    "        \n",
    "x_train4_norm = x_train4/255.0"
   ]
  },
  {
   "cell_type": "code",
   "execution_count": 361,
   "metadata": {},
   "outputs": [
    {
     "data": {
      "text/plain": [
       "(300, 28, 28, 3)"
      ]
     },
     "execution_count": 361,
     "metadata": {},
     "output_type": "execute_result"
    }
   ],
   "source": [
    "x_train4.shape"
   ]
  },
  {
   "cell_type": "markdown",
   "metadata": {},
   "source": [
    "- 좌우 반전"
   ]
  },
  {
   "cell_type": "code",
   "execution_count": 362,
   "metadata": {},
   "outputs": [
    {
     "data": {
      "text/plain": [
       "<matplotlib.image.AxesImage at 0x26d1ae71d90>"
      ]
     },
     "execution_count": 362,
     "metadata": {},
     "output_type": "execute_result"
    },
    {
     "data": {
      "image/png": "[encoded data removed]",
      "text/plain": [
       "<Figure size 432x288 with 2 Axes>"
      ]
     },
     "metadata": {
      "needs_background": "light"
     },
     "output_type": "display_data"
    }
   ],
   "source": [
    "plt.subplot(1,2,1)\n",
    "plt.imshow(x_train1[256]) \n",
    "\n",
    "plt.subplot(1,2,2)\n",
    "plt.imshow(x_train4[256])"
   ]
  },
  {
   "cell_type": "markdown",
   "metadata": {},
   "source": [
    "- 각도 회전"
   ]
  },
  {
   "cell_type": "code",
   "execution_count": 363,
   "metadata": {},
   "outputs": [
    {
     "data": {
      "text/plain": [
       "<matplotlib.image.AxesImage at 0x26d1af16460>"
      ]
     },
     "execution_count": 363,
     "metadata": {},
     "output_type": "execute_result"
    },
    {
     "data": {
      "image/png": "[encoded data removed]",
      "text/plain": [
       "<Figure size 432x288 with 2 Axes>"
      ]
     },
     "metadata": {
      "needs_background": "light"
     },
     "output_type": "display_data"
    }
   ],
   "source": [
    "plt.subplot(1,2,1)\n",
    "plt.imshow(x_train1[89]) \n",
    "\n",
    "plt.subplot(1,2,2)\n",
    "plt.imshow(x_train4[89])"
   ]
  },
  {
   "cell_type": "markdown",
   "metadata": {},
   "source": [
    "- 상하 반전"
   ]
  },
  {
   "cell_type": "code",
   "execution_count": 364,
   "metadata": {},
   "outputs": [
    {
     "data": {
      "text/plain": [
       "<matplotlib.image.AxesImage at 0x26d1afaa430>"
      ]
     },
     "execution_count": 364,
     "metadata": {},
     "output_type": "execute_result"
    },
    {
     "data": {
      "image/png": "[encoded data removed]",
      "text/plain": [
       "<Figure size 432x288 with 2 Axes>"
      ]
     },
     "metadata": {
      "needs_background": "light"
     },
     "output_type": "display_data"
    }
   ],
   "source": [
    "plt.subplot(1,2,1)\n",
    "plt.imshow(x_train1[75]) \n",
    "\n",
    "plt.subplot(1,2,2)\n",
    "plt.imshow(x_train4[75])"
   ]
  },
  {
   "cell_type": "code",
   "execution_count": 365,
   "metadata": {},
   "outputs": [
    {
     "name": "stdout",
     "output_type": "stream",
     "text": [
      "Model에 추가된 Layer 개수:  7\n",
      "Model: \"sequential_5\"\n",
      "_________________________________________________________________\n",
      " Layer (type)                Output Shape              Param #   \n",
      "=================================================================\n",
      " conv2d_10 (Conv2D)          (None, 26, 26, 16)        448       \n",
      "                                                                 \n",
      " max_pooling2d_10 (MaxPoolin  (None, 13, 13, 16)       0         \n",
      " g2D)                                                            \n",
      "                                                                 \n",
      " conv2d_11 (Conv2D)          (None, 11, 11, 32)        4640      \n",
      "                                                                 \n",
      " max_pooling2d_11 (MaxPoolin  (None, 5, 5, 32)         0         \n",
      " g2D)                                                            \n",
      "                                                                 \n",
      " flatten_5 (Flatten)         (None, 800)               0         \n",
      "                                                                 \n",
      " dense_10 (Dense)            (None, 32)                25632     \n",
      "                                                                 \n",
      " dense_11 (Dense)            (None, 3)                 99        \n",
      "                                                                 \n",
      "=================================================================\n",
      "Total params: 30,819\n",
      "Trainable params: 30,819\n",
      "Non-trainable params: 0\n",
      "_________________________________________________________________\n"
     ]
    }
   ],
   "source": [
    "model4=keras.models.Sequential()\n",
    "model4.add(keras.layers.Conv2D(16, (3,3), activation='relu', input_shape=(28,28,3)))\n",
    "model4.add(keras.layers.MaxPool2D(2,2))\n",
    "model4.add(keras.layers.Conv2D(32, (3,3), activation='relu'))\n",
    "model4.add(keras.layers.MaxPooling2D((2,2)))\n",
    "model4.add(keras.layers.Flatten())\n",
    "model4.add(keras.layers.Dense(32, activation='relu'))\n",
    "model4.add(keras.layers.Dense(3, activation='softmax')) # 최종 분류기 3클래스\n",
    "\n",
    "print('Model에 추가된 Layer 개수: ', len(model4.layers))\n",
    "\n",
    "model4.summary()"
   ]
  },
  {
   "cell_type": "code",
   "execution_count": 366,
   "metadata": {},
   "outputs": [
    {
     "name": "stdout",
     "output_type": "stream",
     "text": [
      "Epoch 1/30\n",
      "10/10 [==============================] - 2s 21ms/step - loss: 1.0979 - accuracy: 0.3433\n",
      "Epoch 2/30\n",
      "10/10 [==============================] - 0s 23ms/step - loss: 1.0504 - accuracy: 0.4633\n",
      "Epoch 3/30\n",
      "10/10 [==============================] - 0s 19ms/step - loss: 0.9991 - accuracy: 0.6533\n",
      "Epoch 4/30\n",
      "10/10 [==============================] - 0s 21ms/step - loss: 0.9074 - accuracy: 0.7267\n",
      "Epoch 5/30\n",
      "10/10 [==============================] - 0s 22ms/step - loss: 0.8096 - accuracy: 0.6533\n",
      "Epoch 6/30\n",
      "10/10 [==============================] - 0s 19ms/step - loss: 0.6687 - accuracy: 0.7967\n",
      "Epoch 7/30\n",
      "10/10 [==============================] - 0s 19ms/step - loss: 0.5568 - accuracy: 0.8300\n",
      "Epoch 8/30\n",
      "10/10 [==============================] - 0s 19ms/step - loss: 0.4513 - accuracy: 0.8633\n",
      "Epoch 9/30\n",
      "10/10 [==============================] - 0s 28ms/step - loss: 0.3664 - accuracy: 0.8833\n",
      "Epoch 10/30\n",
      "10/10 [==============================] - 0s 26ms/step - loss: 0.3035 - accuracy: 0.9200\n",
      "Epoch 11/30\n",
      "10/10 [==============================] - 0s 28ms/step - loss: 0.2783 - accuracy: 0.9167\n",
      "Epoch 12/30\n",
      "10/10 [==============================] - 0s 27ms/step - loss: 0.2495 - accuracy: 0.9100\n",
      "Epoch 13/30\n",
      "10/10 [==============================] - 0s 26ms/step - loss: 0.2187 - accuracy: 0.9333\n",
      "Epoch 14/30\n",
      "10/10 [==============================] - 0s 21ms/step - loss: 0.1895 - accuracy: 0.9367\n",
      "Epoch 15/30\n",
      "10/10 [==============================] - 0s 17ms/step - loss: 0.1643 - accuracy: 0.9567\n",
      "Epoch 16/30\n",
      "10/10 [==============================] - 0s 21ms/step - loss: 0.1749 - accuracy: 0.9500\n",
      "Epoch 17/30\n",
      "10/10 [==============================] - 0s 19ms/step - loss: 0.1602 - accuracy: 0.9467\n",
      "Epoch 18/30\n",
      "10/10 [==============================] - 0s 18ms/step - loss: 0.1241 - accuracy: 0.9767\n",
      "Epoch 19/30\n",
      "10/10 [==============================] - 0s 17ms/step - loss: 0.1227 - accuracy: 0.9700\n",
      "Epoch 20/30\n",
      "10/10 [==============================] - 0s 21ms/step - loss: 0.1418 - accuracy: 0.9433\n",
      "Epoch 21/30\n",
      "10/10 [==============================] - 0s 20ms/step - loss: 0.1035 - accuracy: 0.9667\n",
      "Epoch 22/30\n",
      "10/10 [==============================] - 0s 21ms/step - loss: 0.1092 - accuracy: 0.9667\n",
      "Epoch 23/30\n",
      "10/10 [==============================] - 0s 19ms/step - loss: 0.0812 - accuracy: 0.9833\n",
      "Epoch 24/30\n",
      "10/10 [==============================] - 0s 21ms/step - loss: 0.0754 - accuracy: 0.9833\n",
      "Epoch 25/30\n",
      "10/10 [==============================] - 0s 23ms/step - loss: 0.0629 - accuracy: 0.9900\n",
      "Epoch 26/30\n",
      "10/10 [==============================] - 0s 20ms/step - loss: 0.0549 - accuracy: 0.9967\n",
      "Epoch 27/30\n",
      "10/10 [==============================] - 0s 25ms/step - loss: 0.0556 - accuracy: 0.9900\n",
      "Epoch 28/30\n",
      "10/10 [==============================] - 0s 29ms/step - loss: 0.0580 - accuracy: 0.9900\n",
      "Epoch 29/30\n",
      "10/10 [==============================] - 0s 23ms/step - loss: 0.0479 - accuracy: 0.9933\n",
      "Epoch 30/30\n",
      "10/10 [==============================] - 0s 23ms/step - loss: 0.0447 - accuracy: 0.9933\n"
     ]
    },
    {
     "data": {
      "text/plain": [
       "<keras.callbacks.History at 0x26d1b073be0>"
      ]
     },
     "execution_count": 366,
     "metadata": {},
     "output_type": "execute_result"
    }
   ],
   "source": [
    "model4.compile(optimizer='adam',\n",
    "             loss='sparse_categorical_crossentropy',\n",
    "             metrics=['accuracy'])\n",
    "\n",
    "model4.fit(x_train4_norm, y_train4, epochs=30)"
   ]
  },
  {
   "cell_type": "code",
   "execution_count": 367,
   "metadata": {},
   "outputs": [
    {
     "name": "stdout",
     "output_type": "stream",
     "text": [
      "10/10 - 0s - loss: 1136.6987 - accuracy: 0.3700 - 265ms/epoch - 27ms/step\n",
      "test_loss: 1136.69873046875 \n",
      "test_accuracy: 0.3700000047683716\n"
     ]
    }
   ],
   "source": [
    "# 모델 시험\n",
    "test_loss, test_accuracy = model4.evaluate(x_test, y_test, verbose=2)\n",
    "print(f\"test_loss: {test_loss} \")\n",
    "print(f\"test_accuracy: {test_accuracy}\")"
   ]
  },
  {
   "cell_type": "markdown",
   "metadata": {},
   "source": [
    "#### 4. 데이터 정규화 + 600 데이터셋"
   ]
  },
  {
   "cell_type": "code",
   "execution_count": 371,
   "metadata": {},
   "outputs": [
    {
     "name": "stdout",
     "output_type": "stream",
     "text": [
      "학습데이터(x_train)의 이미지 개수는 600 입니다.\n"
     ]
    }
   ],
   "source": [
    "\n",
    "\n",
    "image_dir_path = os.getcwd() + \"/rock_scissor_paper\"\n",
    "(x_train5, y_train5)=load_data2(image_dir_path)\n",
    "\n",
    "for i in range(600):\n",
    "    if 50<=i<100 or 250<=i<300 or 450<=i<500:\n",
    "        gen_hflip = ImageDataGenerator(horizontal_flip = True) # \n",
    "        image_batch = np.expand_dims(x_train5[i],axis=0) #4차원으로 늘려주기\n",
    "        # ImageDataGenerator 적용하려면 fit과 flow를 해야함.\n",
    "        gen_hflip.fit(image_batch)\n",
    "        data_gen_iter = gen_hflip.flow(image_batch)\n",
    "        aug_image_batch = next(data_gen_iter)\n",
    "        aug_image = np.squeeze(aug_image_batch)\n",
    "        aug_image = aug_image.astype('int')\n",
    "        x_train5[i] = aug_image\n",
    "\n",
    "    elif 100<=i<150 or 300<=i<350 or 500<=i<550:\n",
    "        gen_vflip = ImageDataGenerator(vertical_flip = True) # \n",
    "        image_batch = np.expand_dims(x_train5[i],axis=0) #4차원으로 늘려주기\n",
    "        # ImageDataGenerator 적용하려면 fit과 flow를 해야함.\n",
    "        gen_vflip.fit(image_batch)\n",
    "        data_gen_iter = gen_vflip.flow(image_batch)\n",
    "        aug_image_batch = next(data_gen_iter)\n",
    "        aug_image = np.squeeze(aug_image_batch)\n",
    "        aug_image = aug_image.astype('int')\n",
    "        x_train5[i] = aug_image\n",
    "        \n",
    "    elif 150<=i<200 or 350<=i<400 or 550<=i:\n",
    "        gen_rotation = ImageDataGenerator(rotation_range=180.0) # \n",
    "        image_batch = np.expand_dims(x_train5[i],axis=0) #4차원으로 늘려주기\n",
    "        # ImageDataGenerator 적용하려면 fit과 flow를 해야함.\n",
    "        gen_rotation.fit(image_batch)\n",
    "        data_gen_iter = gen_rotation.flow(image_batch)\n",
    "        aug_image_batch = next(data_gen_iter)\n",
    "        aug_image = np.squeeze(aug_image_batch)\n",
    "        aug_image = aug_image.astype('int')\n",
    "        x_train5[i] = aug_image\n",
    "\n",
    "        \n",
    "x_train5_norm = x_train5/255.0"
   ]
  },
  {
   "cell_type": "code",
   "execution_count": 431,
   "metadata": {},
   "outputs": [
    {
     "name": "stdout",
     "output_type": "stream",
     "text": [
      "Model에 추가된 Layer 개수:  7\n",
      "Model: \"sequential_25\"\n",
      "_________________________________________________________________\n",
      " Layer (type)                Output Shape              Param #   \n",
      "=================================================================\n",
      " conv2d_50 (Conv2D)          (None, 26, 26, 16)        448       \n",
      "                                                                 \n",
      " max_pooling2d_40 (MaxPoolin  (None, 13, 13, 16)       0         \n",
      " g2D)                                                            \n",
      "                                                                 \n",
      " conv2d_51 (Conv2D)          (None, 11, 11, 32)        4640      \n",
      "                                                                 \n",
      " max_pooling2d_41 (MaxPoolin  (None, 5, 5, 32)         0         \n",
      " g2D)                                                            \n",
      "                                                                 \n",
      " flatten_23 (Flatten)        (None, 800)               0         \n",
      "                                                                 \n",
      " dense_51 (Dense)            (None, 32)                25632     \n",
      "                                                                 \n",
      " dense_52 (Dense)            (None, 3)                 99        \n",
      "                                                                 \n",
      "=================================================================\n",
      "Total params: 30,819\n",
      "Trainable params: 30,819\n",
      "Non-trainable params: 0\n",
      "_________________________________________________________________\n"
     ]
    }
   ],
   "source": [
    "model5=keras.models.Sequential()\n",
    "model5.add(keras.layers.Conv2D(16, (3,3),padding='valid', activation='relu', input_shape=(28,28,3)))\n",
    "model5.add(keras.layers.MaxPool2D(2,2))\n",
    "model5.add(keras.layers.Conv2D(32, (3,3), activation='relu'))\n",
    "model5.add(keras.layers.MaxPooling2D((2,2)))\n",
    "model5.add(keras.layers.Flatten())\n",
    "model5.add(keras.layers.Dense(32, activation='relu'))\n",
    "model5.add(keras.layers.Dense(3, activation='softmax')) # 최종 분류기 3클래스\n",
    "\n",
    "print('Model에 추가된 Layer 개수: ', len(model5.layers))\n",
    "\n",
    "model5.summary()"
   ]
  },
  {
   "cell_type": "code",
   "execution_count": 432,
   "metadata": {},
   "outputs": [
    {
     "name": "stdout",
     "output_type": "stream",
     "text": [
      "Epoch 1/30\n",
      "19/19 [==============================] - 1s 15ms/step - loss: 1.1020 - accuracy: 0.3217\n",
      "Epoch 2/30\n",
      "19/19 [==============================] - 0s 15ms/step - loss: 1.0876 - accuracy: 0.4279\n",
      "Epoch 3/30\n",
      "19/19 [==============================] - 0s 15ms/step - loss: 1.0611 - accuracy: 0.5124\n",
      "Epoch 4/30\n",
      "19/19 [==============================] - 0s 15ms/step - loss: 1.0531 - accuracy: 0.4113\n",
      "Epoch 5/30\n",
      "19/19 [==============================] - 0s 16ms/step - loss: 0.9983 - accuracy: 0.5456\n",
      "Epoch 6/30\n",
      "19/19 [==============================] - 0s 16ms/step - loss: 0.9263 - accuracy: 0.5821\n",
      "Epoch 7/30\n",
      "19/19 [==============================] - 0s 14ms/step - loss: 0.8721 - accuracy: 0.5954\n",
      "Epoch 8/30\n",
      "19/19 [==============================] - 0s 15ms/step - loss: 0.7944 - accuracy: 0.6965\n",
      "Epoch 9/30\n",
      "19/19 [==============================] - 0s 17ms/step - loss: 0.7358 - accuracy: 0.7197\n",
      "Epoch 10/30\n",
      "19/19 [==============================] - 0s 21ms/step - loss: 0.6842 - accuracy: 0.7446\n",
      "Epoch 11/30\n",
      "19/19 [==============================] - 0s 16ms/step - loss: 0.6454 - accuracy: 0.7529\n",
      "Epoch 12/30\n",
      "19/19 [==============================] - 0s 16ms/step - loss: 0.6598 - accuracy: 0.7197\n",
      "Epoch 13/30\n",
      "19/19 [==============================] - 0s 15ms/step - loss: 0.5959 - accuracy: 0.7778\n",
      "Epoch 14/30\n",
      "19/19 [==============================] - 0s 16ms/step - loss: 0.5555 - accuracy: 0.7927\n",
      "Epoch 15/30\n",
      "19/19 [==============================] - 0s 17ms/step - loss: 0.5006 - accuracy: 0.8109\n",
      "Epoch 16/30\n",
      "19/19 [==============================] - 0s 19ms/step - loss: 0.5020 - accuracy: 0.7927\n",
      "Epoch 17/30\n",
      "19/19 [==============================] - 0s 18ms/step - loss: 0.4359 - accuracy: 0.8391\n",
      "Epoch 18/30\n",
      "19/19 [==============================] - 0s 15ms/step - loss: 0.4238 - accuracy: 0.8275\n",
      "Epoch 19/30\n",
      "19/19 [==============================] - 0s 15ms/step - loss: 0.4091 - accuracy: 0.8557\n",
      "Epoch 20/30\n",
      "19/19 [==============================] - 0s 17ms/step - loss: 0.3735 - accuracy: 0.8657\n",
      "Epoch 21/30\n",
      "19/19 [==============================] - 0s 20ms/step - loss: 0.3425 - accuracy: 0.8922\n",
      "Epoch 22/30\n",
      "19/19 [==============================] - 0s 16ms/step - loss: 0.3278 - accuracy: 0.8756\n",
      "Epoch 23/30\n",
      "19/19 [==============================] - 0s 19ms/step - loss: 0.3005 - accuracy: 0.9038\n",
      "Epoch 24/30\n",
      "19/19 [==============================] - 0s 16ms/step - loss: 0.2707 - accuracy: 0.9221\n",
      "Epoch 25/30\n",
      "19/19 [==============================] - 0s 14ms/step - loss: 0.2501 - accuracy: 0.9204\n",
      "Epoch 26/30\n",
      "19/19 [==============================] - 0s 17ms/step - loss: 0.2339 - accuracy: 0.9403\n",
      "Epoch 27/30\n",
      "19/19 [==============================] - 0s 14ms/step - loss: 0.2243 - accuracy: 0.9320\n",
      "Epoch 28/30\n",
      "19/19 [==============================] - 0s 14ms/step - loss: 0.2786 - accuracy: 0.9005\n",
      "Epoch 29/30\n",
      "19/19 [==============================] - 0s 16ms/step - loss: 0.2226 - accuracy: 0.9287\n",
      "Epoch 30/30\n",
      "19/19 [==============================] - 0s 15ms/step - loss: 0.2154 - accuracy: 0.9436\n"
     ]
    },
    {
     "data": {
      "text/plain": [
       "<keras.callbacks.History at 0x26d35223af0>"
      ]
     },
     "execution_count": 432,
     "metadata": {},
     "output_type": "execute_result"
    }
   ],
   "source": [
    "model5.compile(optimizer='adam',\n",
    "             loss='sparse_categorical_crossentropy',\n",
    "             metrics=['accuracy'])\n",
    "\n",
    "model5.fit(x_train5_norm, y_train5, epochs=30)"
   ]
  },
  {
   "cell_type": "code",
   "execution_count": 375,
   "metadata": {},
   "outputs": [
    {
     "name": "stdout",
     "output_type": "stream",
     "text": [
      "10/10 - 0s - loss: 675.9851 - accuracy: 0.5367 - 299ms/epoch - 30ms/step\n",
      "test_loss: 675.985107421875 \n",
      "test_accuracy: 0.5366666913032532\n"
     ]
    }
   ],
   "source": [
    "# 모델 시험\n",
    "test_loss, test_accuracy = model5.evaluate(x_test, y_test, verbose=2)\n",
    "print(f\"test_loss: {test_loss} \")\n",
    "print(f\"test_accuracy: {test_accuracy}\")"
   ]
  },
  {
   "cell_type": "markdown",
   "metadata": {},
   "source": [
    "#### 4. 하이퍼 파라미터 설정 "
   ]
  },
  {
   "cell_type": "code",
   "execution_count": 456,
   "metadata": {},
   "outputs": [
    {
     "name": "stdout",
     "output_type": "stream",
     "text": [
      "Model에 추가된 Layer 개수:  7\n",
      "Model: \"sequential_34\"\n",
      "_________________________________________________________________\n",
      " Layer (type)                Output Shape              Param #   \n",
      "=================================================================\n",
      " conv2d_72 (Conv2D)          (None, 23, 23, 64)        6976      \n",
      "                                                                 \n",
      " conv2d_73 (Conv2D)          (None, 21, 21, 32)        18464     \n",
      "                                                                 \n",
      " conv2d_74 (Conv2D)          (None, 19, 19, 16)        4624      \n",
      "                                                                 \n",
      " flatten_32 (Flatten)        (None, 5776)              0         \n",
      "                                                                 \n",
      " dense_66 (Dense)            (None, 64)                369728    \n",
      "                                                                 \n",
      " dense_67 (Dense)            (None, 3)                 195       \n",
      "                                                                 \n",
      "=================================================================\n",
      "Total params: 399,987\n",
      "Trainable params: 399,987\n",
      "Non-trainable params: 0\n",
      "_________________________________________________________________\n"
     ]
    }
   ],
   "source": [
    "model6=keras.models.Sequential()\n",
    "model6.add(keras.layers.Conv2D(64, (6,6),activation='relu', input_shape=(28,28,3)))\n",
    "##model6.add(keras.layers.MaxPool2D(2,2))\n",
    "model6.add(keras.layers.Conv2D(32, (3,3), activation='relu'))\n",
    "##model6.add(keras.layers.MaxPooling2D((2,2)))\n",
    "model6.add(keras.layers.Conv2D(16, (3,3), activation='relu'))\n",
    "model6.add(keras.layers.Flatten())\n",
    "model6.add(keras.layers.Dense(64, activation='relu'))\n",
    "model6.add(keras.layers.Dense(3, activation='softmax')) # 최종 분류기 3클래스\n",
    "\n",
    "print('Model에 추가된 Layer 개수: ', len(model5.layers))\n",
    "\n",
    "model6.summary()"
   ]
  },
  {
   "cell_type": "markdown",
   "metadata": {},
   "source": [
    "https://keras.io/ko/getting-started/sequential-model-guide/"
   ]
  },
  {
   "cell_type": "code",
   "execution_count": 457,
   "metadata": {
    "scrolled": true
   },
   "outputs": [
    {
     "name": "stdout",
     "output_type": "stream",
     "text": [
      "Epoch 1/30\n",
      "19/19 [==============================] - 3s 83ms/step - loss: 1.1054 - accuracy: 0.3582\n",
      "Epoch 2/30\n",
      "19/19 [==============================] - 1s 78ms/step - loss: 1.1003 - accuracy: 0.3483\n",
      "Epoch 3/30\n",
      "19/19 [==============================] - 2s 78ms/step - loss: 1.0814 - accuracy: 0.4013\n",
      "Epoch 4/30\n",
      "19/19 [==============================] - 2s 80ms/step - loss: 0.9609 - accuracy: 0.5108\n",
      "Epoch 5/30\n",
      "19/19 [==============================] - 1s 73ms/step - loss: 0.8845 - accuracy: 0.5572\n",
      "Epoch 6/30\n",
      "19/19 [==============================] - 2s 86ms/step - loss: 0.8254 - accuracy: 0.6153\n",
      "Epoch 7/30\n",
      "19/19 [==============================] - 1s 78ms/step - loss: 0.7716 - accuracy: 0.6667\n",
      "Epoch 8/30\n",
      "19/19 [==============================] - 2s 82ms/step - loss: 0.7046 - accuracy: 0.7032\n",
      "Epoch 9/30\n",
      "19/19 [==============================] - 1s 77ms/step - loss: 0.6475 - accuracy: 0.7280\n",
      "Epoch 10/30\n",
      "19/19 [==============================] - 2s 81ms/step - loss: 0.5980 - accuracy: 0.7662\n",
      "Epoch 11/30\n",
      "19/19 [==============================] - 1s 79ms/step - loss: 0.6040 - accuracy: 0.7463\n",
      "Epoch 12/30\n",
      "19/19 [==============================] - 2s 79ms/step - loss: 0.5042 - accuracy: 0.8043\n",
      "Epoch 13/30\n",
      "19/19 [==============================] - 2s 80ms/step - loss: 0.3996 - accuracy: 0.8408\n",
      "Epoch 14/30\n",
      "19/19 [==============================] - 1s 77ms/step - loss: 0.3315 - accuracy: 0.8872\n",
      "Epoch 15/30\n",
      "19/19 [==============================] - 2s 83ms/step - loss: 0.3038 - accuracy: 0.8905\n",
      "Epoch 16/30\n",
      "19/19 [==============================] - 2s 83ms/step - loss: 0.3366 - accuracy: 0.8955\n",
      "Epoch 17/30\n",
      "19/19 [==============================] - 2s 80ms/step - loss: 0.4136 - accuracy: 0.8441\n",
      "Epoch 18/30\n",
      "19/19 [==============================] - 2s 87ms/step - loss: 0.3571 - accuracy: 0.8673\n",
      "Epoch 19/30\n",
      "19/19 [==============================] - 2s 83ms/step - loss: 0.2936 - accuracy: 0.8939\n",
      "Epoch 20/30\n",
      "19/19 [==============================] - 2s 81ms/step - loss: 0.2117 - accuracy: 0.9320\n",
      "Epoch 21/30\n",
      "19/19 [==============================] - 2s 80ms/step - loss: 0.1686 - accuracy: 0.9469\n",
      "Epoch 22/30\n",
      "19/19 [==============================] - 1s 78ms/step - loss: 0.1386 - accuracy: 0.9569\n",
      "Epoch 23/30\n",
      "19/19 [==============================] - 1s 76ms/step - loss: 0.1390 - accuracy: 0.9502\n",
      "Epoch 24/30\n",
      "19/19 [==============================] - 2s 82ms/step - loss: 0.1082 - accuracy: 0.9635\n",
      "Epoch 25/30\n",
      "19/19 [==============================] - 2s 83ms/step - loss: 0.0782 - accuracy: 0.9784\n",
      "Epoch 26/30\n",
      "19/19 [==============================] - 2s 84ms/step - loss: 0.0788 - accuracy: 0.9768\n",
      "Epoch 27/30\n",
      "19/19 [==============================] - 1s 77ms/step - loss: 0.0968 - accuracy: 0.9652\n",
      "Epoch 28/30\n",
      "19/19 [==============================] - 2s 85ms/step - loss: 0.0659 - accuracy: 0.9818\n",
      "Epoch 29/30\n",
      "19/19 [==============================] - 1s 78ms/step - loss: 0.0655 - accuracy: 0.9834\n",
      "Epoch 30/30\n",
      "19/19 [==============================] - 2s 85ms/step - loss: 0.0473 - accuracy: 0.9884\n"
     ]
    },
    {
     "data": {
      "text/plain": [
       "<keras.callbacks.History at 0x26d48eefeb0>"
      ]
     },
     "execution_count": 457,
     "metadata": {},
     "output_type": "execute_result"
    }
   ],
   "source": [
    "model6.compile(optimizer='adam',\n",
    "             loss='sparse_categorical_crossentropy',\n",
    "             metrics=['accuracy'])\n",
    "\n",
    "model6.fit(x_train5_norm, y_train5, epochs=30)"
   ]
  },
  {
   "cell_type": "code",
   "execution_count": 459,
   "metadata": {},
   "outputs": [
    {
     "name": "stdout",
     "output_type": "stream",
     "text": [
      "10/10 - 0s - loss: 1033.2107 - accuracy: 0.4133 - 173ms/epoch - 17ms/step\n",
      "test_loss: 1033.210693359375 \n",
      "test_accuracy: 0.41333332657814026\n"
     ]
    }
   ],
   "source": [
    "# 모델 시험\n",
    "test_loss, test_accuracy = model6.evaluate(x_test, y_test, verbose=2)\n",
    "print(f\"test_loss: {test_loss} \")\n",
    "print(f\"test_accuracy: {test_accuracy}\")"
   ]
  },
  {
   "cell_type": "markdown",
   "metadata": {},
   "source": [
    "https://tykimos.github.io/2017/01/27/CNN_Layer_Talk/"
   ]
  },
  {
   "cell_type": "markdown",
   "metadata": {},
   "source": [
    "#### 회고"
   ]
  },
  {
   "cell_type": "markdown",
   "metadata": {},
   "source": [
    "모델의 정확도가 쉽게 60을 넘지 못했다. 높게 나와도 최대 52퍼센트 정도..\n",
    "\n",
    "좀 다른 분꼐 여쭤보니 데이터셋을 다른 분들 데이터셋도 다 합쳐 7200개의 데이터를 학습시키니 정확도가 높게 나왔다고 하였다. 내 데이터셋이 상대적으로 부족했는지 싶다.\n",
    "또한 웅제 퍼실님의 데이터셋을 따라 데이터를 돌리긴 했는데.. 색감도 비슷하게 조정을 했어야 하나..? 라는 생각도 들었다."
   ]
  },
  {
   "cell_type": "markdown",
   "metadata": {},
   "source": [
    "하이퍼 파라미터의 경우 맥스 풀링 레이어를 제외하니 정확도가 상대적으로 높게 나오는 경향이 있었다.\n",
    "맥스 풀링 레이어의 경우 데이터 차원을 감소시켜 메모리 감소로 신경망의 계산 효율을 낮게 한다고 한다.\n",
    "https://keras.io/api/layers/pooling_layers/max_pooling2d/\n",
    "https://m.blog.naver.com/khm159/221811601286\n",
    "\n",
    "하지만 차원을 감소시킼는 경우 데이터 feature가 날라가 미세한 정보를 놓칠 수 있으므로 컨볼루션의 스트라이드를 높이는 방향으로 선호된다고 한다.\n",
    "맥스 풀링 레이어를 없애고 컨볼루션 스트라이드를 (3,3) 에서 (6,6) 으로 변경하여서 더 높은 정확도를 평균적으로 가지게 되었다.\n",
    "\n",
    "dense 레이어도 너무 깊게 64,128 쌓는것이 아닌 32 레이어로도 충분ㄴ했다. \n",
    "오히려 깊게 쌓일수록 \n",
    "\n",
    "최적화 함수를 아담 아닌 아다델타로 변경하기도 하였지만 효율은 좋지 않아 원래대로 진행하였다.\n"
   ]
  },
  {
   "cell_type": "markdown",
   "metadata": {},
   "source": [
    "그리고 하이퍼 파라미터를 조정할떼 너무 떄려 맞추는 식으로 진행했는데..\n",
    "추후에 하이퍼 파라미터를 검증을 통해 최적의 하이퍼 파라미터를 찾을 수 있는 방향으로 코드를 진행시키고 싶다. "
   ]
  },
  {
   "cell_type": "code",
   "execution_count": null,
   "metadata": {},
   "outputs": [],
   "source": []
  }
 ],
 "metadata": {
  "kernelspec": {
   "display_name": "Python 3",
   "language": "python",
   "name": "python3"
  },
  "language_info": {
   "codemirror_mode": {
    "name": "ipython",
    "version": 3
   },
   "file_extension": ".py",
   "mimetype": "text/x-python",
   "name": "python",
   "nbconvert_exporter": "python",
   "pygments_lexer": "ipython3",
   "version": "3.8.5"
  }
 },
 "nbformat": 4,
 "nbformat_minor": 4
}
