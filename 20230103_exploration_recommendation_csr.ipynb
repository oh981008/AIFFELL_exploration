{
 "cells": [
  {
   "cell_type": "markdown",
   "id": "a24c37a2",
   "metadata": {},
   "source": [
    "## 프로젝트 - Movielens 영화 추천 실습"
   ]
  },
  {
   "cell_type": "code",
   "execution_count": 1,
   "id": "d015ae1a",
   "metadata": {},
   "outputs": [
    {
     "name": "stdout",
     "output_type": "stream",
     "text": [
      "1.21.4\n",
      "1.7.1\n",
      "0.4.8\n"
     ]
    }
   ],
   "source": [
    "import numpy as np\n",
    "import scipy\n",
    "import implicit\n",
    "\n",
    "print(np.__version__)\n",
    "print(scipy.__version__)\n",
    "print(implicit.__version__)"
   ]
  },
  {
   "cell_type": "markdown",
   "id": "287c058d",
   "metadata": {},
   "source": [
    "## 데이터 준비와 전처리"
   ]
  },
  {
   "cell_type": "code",
   "execution_count": 2,
   "id": "0f7ae01a",
   "metadata": {},
   "outputs": [
    {
     "data": {
      "text/html": [
       "<div>\n",
       "<style scoped>\n",
       "    .dataframe tbody tr th:only-of-type {\n",
       "        vertical-align: middle;\n",
       "    }\n",
       "\n",
       "    .dataframe tbody tr th {\n",
       "        vertical-align: top;\n",
       "    }\n",
       "\n",
       "    .dataframe thead th {\n",
       "        text-align: right;\n",
       "    }\n",
       "</style>\n",
       "<table border=\"1\" class=\"dataframe\">\n",
       "  <thead>\n",
       "    <tr style=\"text-align: right;\">\n",
       "      <th></th>\n",
       "      <th>user_id</th>\n",
       "      <th>movie_id</th>\n",
       "      <th>ratings</th>\n",
       "      <th>timestamp</th>\n",
       "    </tr>\n",
       "  </thead>\n",
       "  <tbody>\n",
       "    <tr>\n",
       "      <th>0</th>\n",
       "      <td>1</td>\n",
       "      <td>1193</td>\n",
       "      <td>5</td>\n",
       "      <td>978300760</td>\n",
       "    </tr>\n",
       "    <tr>\n",
       "      <th>1</th>\n",
       "      <td>1</td>\n",
       "      <td>661</td>\n",
       "      <td>3</td>\n",
       "      <td>978302109</td>\n",
       "    </tr>\n",
       "    <tr>\n",
       "      <th>2</th>\n",
       "      <td>1</td>\n",
       "      <td>914</td>\n",
       "      <td>3</td>\n",
       "      <td>978301968</td>\n",
       "    </tr>\n",
       "    <tr>\n",
       "      <th>3</th>\n",
       "      <td>1</td>\n",
       "      <td>3408</td>\n",
       "      <td>4</td>\n",
       "      <td>978300275</td>\n",
       "    </tr>\n",
       "    <tr>\n",
       "      <th>4</th>\n",
       "      <td>1</td>\n",
       "      <td>2355</td>\n",
       "      <td>5</td>\n",
       "      <td>978824291</td>\n",
       "    </tr>\n",
       "  </tbody>\n",
       "</table>\n",
       "</div>"
      ],
      "text/plain": [
       "   user_id  movie_id  ratings  timestamp\n",
       "0        1      1193        5  978300760\n",
       "1        1       661        3  978302109\n",
       "2        1       914        3  978301968\n",
       "3        1      3408        4  978300275\n",
       "4        1      2355        5  978824291"
      ]
     },
     "execution_count": 2,
     "metadata": {},
     "output_type": "execute_result"
    }
   ],
   "source": [
    "import os\n",
    "import pandas as pd\n",
    "\n",
    "rating_file_path=os.getenv('HOME') + '/aiffel/recommendata_iu/data/ml-1m/ratings.dat'\n",
    "ratings_cols = ['user_id', 'movie_id', 'ratings', 'timestamp']\n",
    "ratings = pd.read_csv(rating_file_path, sep='::', names=ratings_cols, engine='python', encoding = \"ISO-8859-1\")\n",
    "orginal_data_size = len(ratings)\n",
    "ratings.head()"
   ]
  },
  {
   "cell_type": "code",
   "execution_count": null,
   "id": "a755d41f",
   "metadata": {},
   "outputs": [],
   "source": []
  },
  {
   "cell_type": "code",
   "execution_count": 3,
   "id": "ad423a0e",
   "metadata": {},
   "outputs": [
    {
     "name": "stdout",
     "output_type": "stream",
     "text": [
      "orginal_data_size: 1000209, filtered_data_size: 836478\n",
      "Ratio of Remaining Data is 83.63%\n"
     ]
    }
   ],
   "source": [
    "# 3점 이상만 남깁니다.\n",
    "ratings = ratings[ratings['ratings']>=3]\n",
    "filtered_data_size = len(ratings)\n",
    "\n",
    "print(f'orginal_data_size: {orginal_data_size}, filtered_data_size: {filtered_data_size}')\n",
    "print(f'Ratio of Remaining Data is {filtered_data_size / orginal_data_size:.2%}')"
   ]
  },
  {
   "cell_type": "code",
   "execution_count": 4,
   "id": "22ae6afb",
   "metadata": {},
   "outputs": [],
   "source": [
    "# ratings 컬럼의 이름을 counts로 바꿉니다.\n",
    "ratings.rename(columns={'ratings':'counts'}, inplace=True)"
   ]
  },
  {
   "cell_type": "code",
   "execution_count": 5,
   "id": "dbdb3786",
   "metadata": {},
   "outputs": [
    {
     "data": {
      "text/html": [
       "<div>\n",
       "<style scoped>\n",
       "    .dataframe tbody tr th:only-of-type {\n",
       "        vertical-align: middle;\n",
       "    }\n",
       "\n",
       "    .dataframe tbody tr th {\n",
       "        vertical-align: top;\n",
       "    }\n",
       "\n",
       "    .dataframe thead th {\n",
       "        text-align: right;\n",
       "    }\n",
       "</style>\n",
       "<table border=\"1\" class=\"dataframe\">\n",
       "  <thead>\n",
       "    <tr style=\"text-align: right;\">\n",
       "      <th></th>\n",
       "      <th>movie_id</th>\n",
       "      <th>title</th>\n",
       "      <th>genre</th>\n",
       "    </tr>\n",
       "  </thead>\n",
       "  <tbody>\n",
       "    <tr>\n",
       "      <th>0</th>\n",
       "      <td>1</td>\n",
       "      <td>Toy Story (1995)</td>\n",
       "      <td>Animation|Children's|Comedy</td>\n",
       "    </tr>\n",
       "    <tr>\n",
       "      <th>1</th>\n",
       "      <td>2</td>\n",
       "      <td>Jumanji (1995)</td>\n",
       "      <td>Adventure|Children's|Fantasy</td>\n",
       "    </tr>\n",
       "    <tr>\n",
       "      <th>2</th>\n",
       "      <td>3</td>\n",
       "      <td>Grumpier Old Men (1995)</td>\n",
       "      <td>Comedy|Romance</td>\n",
       "    </tr>\n",
       "    <tr>\n",
       "      <th>3</th>\n",
       "      <td>4</td>\n",
       "      <td>Waiting to Exhale (1995)</td>\n",
       "      <td>Comedy|Drama</td>\n",
       "    </tr>\n",
       "    <tr>\n",
       "      <th>4</th>\n",
       "      <td>5</td>\n",
       "      <td>Father of the Bride Part II (1995)</td>\n",
       "      <td>Comedy</td>\n",
       "    </tr>\n",
       "  </tbody>\n",
       "</table>\n",
       "</div>"
      ],
      "text/plain": [
       "   movie_id                               title                         genre\n",
       "0         1                    Toy Story (1995)   Animation|Children's|Comedy\n",
       "1         2                      Jumanji (1995)  Adventure|Children's|Fantasy\n",
       "2         3             Grumpier Old Men (1995)                Comedy|Romance\n",
       "3         4            Waiting to Exhale (1995)                  Comedy|Drama\n",
       "4         5  Father of the Bride Part II (1995)                        Comedy"
      ]
     },
     "execution_count": 5,
     "metadata": {},
     "output_type": "execute_result"
    }
   ],
   "source": [
    "# 영화 제목을 보기 위해 메타 데이터를 읽어옵니다.\n",
    "movie_file_path=os.getenv('HOME') + '/aiffel/recommendata_iu/data/ml-1m/movies.dat'\n",
    "cols = ['movie_id', 'title', 'genre'] \n",
    "movies = pd.read_csv(movie_file_path, sep='::', names=cols, engine='python', encoding='ISO-8859-1')\n",
    "movies.head()"
   ]
  },
  {
   "cell_type": "markdown",
   "id": "e0a8aaf8",
   "metadata": {},
   "source": [
    "영화 소문자 변환"
   ]
  },
  {
   "cell_type": "code",
   "execution_count": 6,
   "id": "b0785d6b",
   "metadata": {},
   "outputs": [
    {
     "data": {
      "text/html": [
       "<div>\n",
       "<style scoped>\n",
       "    .dataframe tbody tr th:only-of-type {\n",
       "        vertical-align: middle;\n",
       "    }\n",
       "\n",
       "    .dataframe tbody tr th {\n",
       "        vertical-align: top;\n",
       "    }\n",
       "\n",
       "    .dataframe thead th {\n",
       "        text-align: right;\n",
       "    }\n",
       "</style>\n",
       "<table border=\"1\" class=\"dataframe\">\n",
       "  <thead>\n",
       "    <tr style=\"text-align: right;\">\n",
       "      <th></th>\n",
       "      <th>movie_id</th>\n",
       "      <th>title</th>\n",
       "      <th>genre</th>\n",
       "    </tr>\n",
       "  </thead>\n",
       "  <tbody>\n",
       "    <tr>\n",
       "      <th>0</th>\n",
       "      <td>1</td>\n",
       "      <td>toy story (1995)</td>\n",
       "      <td>Animation|Children's|Comedy</td>\n",
       "    </tr>\n",
       "    <tr>\n",
       "      <th>1</th>\n",
       "      <td>2</td>\n",
       "      <td>jumanji (1995)</td>\n",
       "      <td>Adventure|Children's|Fantasy</td>\n",
       "    </tr>\n",
       "    <tr>\n",
       "      <th>2</th>\n",
       "      <td>3</td>\n",
       "      <td>grumpier old men (1995)</td>\n",
       "      <td>Comedy|Romance</td>\n",
       "    </tr>\n",
       "    <tr>\n",
       "      <th>3</th>\n",
       "      <td>4</td>\n",
       "      <td>waiting to exhale (1995)</td>\n",
       "      <td>Comedy|Drama</td>\n",
       "    </tr>\n",
       "    <tr>\n",
       "      <th>4</th>\n",
       "      <td>5</td>\n",
       "      <td>father of the bride part ii (1995)</td>\n",
       "      <td>Comedy</td>\n",
       "    </tr>\n",
       "    <tr>\n",
       "      <th>5</th>\n",
       "      <td>6</td>\n",
       "      <td>heat (1995)</td>\n",
       "      <td>Action|Crime|Thriller</td>\n",
       "    </tr>\n",
       "    <tr>\n",
       "      <th>6</th>\n",
       "      <td>7</td>\n",
       "      <td>sabrina (1995)</td>\n",
       "      <td>Comedy|Romance</td>\n",
       "    </tr>\n",
       "    <tr>\n",
       "      <th>7</th>\n",
       "      <td>8</td>\n",
       "      <td>tom and huck (1995)</td>\n",
       "      <td>Adventure|Children's</td>\n",
       "    </tr>\n",
       "    <tr>\n",
       "      <th>8</th>\n",
       "      <td>9</td>\n",
       "      <td>sudden death (1995)</td>\n",
       "      <td>Action</td>\n",
       "    </tr>\n",
       "    <tr>\n",
       "      <th>9</th>\n",
       "      <td>10</td>\n",
       "      <td>goldeneye (1995)</td>\n",
       "      <td>Action|Adventure|Thriller</td>\n",
       "    </tr>\n",
       "  </tbody>\n",
       "</table>\n",
       "</div>"
      ],
      "text/plain": [
       "   movie_id                               title                         genre\n",
       "0         1                    toy story (1995)   Animation|Children's|Comedy\n",
       "1         2                      jumanji (1995)  Adventure|Children's|Fantasy\n",
       "2         3             grumpier old men (1995)                Comedy|Romance\n",
       "3         4            waiting to exhale (1995)                  Comedy|Drama\n",
       "4         5  father of the bride part ii (1995)                        Comedy\n",
       "5         6                         heat (1995)         Action|Crime|Thriller\n",
       "6         7                      sabrina (1995)                Comedy|Romance\n",
       "7         8                 tom and huck (1995)          Adventure|Children's\n",
       "8         9                 sudden death (1995)                        Action\n",
       "9        10                    goldeneye (1995)     Action|Adventure|Thriller"
      ]
     },
     "execution_count": 6,
     "metadata": {},
     "output_type": "execute_result"
    }
   ],
   "source": [
    "movies['title'] = movies['title'].str.lower() # 검색을 쉽게 하기 위해 아티스트 문자열을 소문자로 바꿔줍시다.\n",
    "movies.head(10)"
   ]
  },
  {
   "cell_type": "code",
   "execution_count": 7,
   "id": "d9e7e664",
   "metadata": {},
   "outputs": [
    {
     "data": {
      "text/html": [
       "<div>\n",
       "<style scoped>\n",
       "    .dataframe tbody tr th:only-of-type {\n",
       "        vertical-align: middle;\n",
       "    }\n",
       "\n",
       "    .dataframe tbody tr th {\n",
       "        vertical-align: top;\n",
       "    }\n",
       "\n",
       "    .dataframe thead th {\n",
       "        text-align: right;\n",
       "    }\n",
       "</style>\n",
       "<table border=\"1\" class=\"dataframe\">\n",
       "  <thead>\n",
       "    <tr style=\"text-align: right;\">\n",
       "      <th></th>\n",
       "      <th>user_id</th>\n",
       "      <th>movie_id</th>\n",
       "      <th>counts</th>\n",
       "    </tr>\n",
       "  </thead>\n",
       "  <tbody>\n",
       "    <tr>\n",
       "      <th>0</th>\n",
       "      <td>1</td>\n",
       "      <td>1193</td>\n",
       "      <td>5</td>\n",
       "    </tr>\n",
       "    <tr>\n",
       "      <th>1</th>\n",
       "      <td>1</td>\n",
       "      <td>661</td>\n",
       "      <td>3</td>\n",
       "    </tr>\n",
       "    <tr>\n",
       "      <th>2</th>\n",
       "      <td>1</td>\n",
       "      <td>914</td>\n",
       "      <td>3</td>\n",
       "    </tr>\n",
       "    <tr>\n",
       "      <th>3</th>\n",
       "      <td>1</td>\n",
       "      <td>3408</td>\n",
       "      <td>4</td>\n",
       "    </tr>\n",
       "    <tr>\n",
       "      <th>4</th>\n",
       "      <td>1</td>\n",
       "      <td>2355</td>\n",
       "      <td>5</td>\n",
       "    </tr>\n",
       "    <tr>\n",
       "      <th>5</th>\n",
       "      <td>1</td>\n",
       "      <td>1197</td>\n",
       "      <td>3</td>\n",
       "    </tr>\n",
       "    <tr>\n",
       "      <th>6</th>\n",
       "      <td>1</td>\n",
       "      <td>1287</td>\n",
       "      <td>5</td>\n",
       "    </tr>\n",
       "    <tr>\n",
       "      <th>7</th>\n",
       "      <td>1</td>\n",
       "      <td>2804</td>\n",
       "      <td>5</td>\n",
       "    </tr>\n",
       "    <tr>\n",
       "      <th>8</th>\n",
       "      <td>1</td>\n",
       "      <td>594</td>\n",
       "      <td>4</td>\n",
       "    </tr>\n",
       "    <tr>\n",
       "      <th>9</th>\n",
       "      <td>1</td>\n",
       "      <td>919</td>\n",
       "      <td>4</td>\n",
       "    </tr>\n",
       "  </tbody>\n",
       "</table>\n",
       "</div>"
      ],
      "text/plain": [
       "   user_id  movie_id  counts\n",
       "0        1      1193       5\n",
       "1        1       661       3\n",
       "2        1       914       3\n",
       "3        1      3408       4\n",
       "4        1      2355       5\n",
       "5        1      1197       3\n",
       "6        1      1287       5\n",
       "7        1      2804       5\n",
       "8        1       594       4\n",
       "9        1       919       4"
      ]
     },
     "execution_count": 7,
     "metadata": {},
     "output_type": "execute_result"
    }
   ],
   "source": [
    "#타임 스탬프 칼럼 지우겠음\n",
    "using_cols = ['user_id', 'movie_id', 'counts']\n",
    "ratings = ratings[using_cols]\n",
    "ratings.head(10)"
   ]
  },
  {
   "cell_type": "code",
   "execution_count": 8,
   "id": "82b035bd",
   "metadata": {},
   "outputs": [
    {
     "data": {
      "text/html": [
       "<div>\n",
       "<style scoped>\n",
       "    .dataframe tbody tr th:only-of-type {\n",
       "        vertical-align: middle;\n",
       "    }\n",
       "\n",
       "    .dataframe tbody tr th {\n",
       "        vertical-align: top;\n",
       "    }\n",
       "\n",
       "    .dataframe thead th {\n",
       "        text-align: right;\n",
       "    }\n",
       "</style>\n",
       "<table border=\"1\" class=\"dataframe\">\n",
       "  <thead>\n",
       "    <tr style=\"text-align: right;\">\n",
       "      <th></th>\n",
       "      <th>user_id</th>\n",
       "      <th>movie_id</th>\n",
       "      <th>counts</th>\n",
       "      <th>title</th>\n",
       "      <th>genre</th>\n",
       "    </tr>\n",
       "  </thead>\n",
       "  <tbody>\n",
       "    <tr>\n",
       "      <th>0</th>\n",
       "      <td>1</td>\n",
       "      <td>1193</td>\n",
       "      <td>5</td>\n",
       "      <td>one flew over the cuckoo's nest (1975)</td>\n",
       "      <td>Drama</td>\n",
       "    </tr>\n",
       "    <tr>\n",
       "      <th>1</th>\n",
       "      <td>2</td>\n",
       "      <td>1193</td>\n",
       "      <td>5</td>\n",
       "      <td>one flew over the cuckoo's nest (1975)</td>\n",
       "      <td>Drama</td>\n",
       "    </tr>\n",
       "    <tr>\n",
       "      <th>2</th>\n",
       "      <td>12</td>\n",
       "      <td>1193</td>\n",
       "      <td>4</td>\n",
       "      <td>one flew over the cuckoo's nest (1975)</td>\n",
       "      <td>Drama</td>\n",
       "    </tr>\n",
       "    <tr>\n",
       "      <th>3</th>\n",
       "      <td>15</td>\n",
       "      <td>1193</td>\n",
       "      <td>4</td>\n",
       "      <td>one flew over the cuckoo's nest (1975)</td>\n",
       "      <td>Drama</td>\n",
       "    </tr>\n",
       "    <tr>\n",
       "      <th>4</th>\n",
       "      <td>17</td>\n",
       "      <td>1193</td>\n",
       "      <td>5</td>\n",
       "      <td>one flew over the cuckoo's nest (1975)</td>\n",
       "      <td>Drama</td>\n",
       "    </tr>\n",
       "    <tr>\n",
       "      <th>...</th>\n",
       "      <td>...</td>\n",
       "      <td>...</td>\n",
       "      <td>...</td>\n",
       "      <td>...</td>\n",
       "      <td>...</td>\n",
       "    </tr>\n",
       "    <tr>\n",
       "      <th>836473</th>\n",
       "      <td>5851</td>\n",
       "      <td>3607</td>\n",
       "      <td>5</td>\n",
       "      <td>one little indian (1973)</td>\n",
       "      <td>Comedy|Drama|Western</td>\n",
       "    </tr>\n",
       "    <tr>\n",
       "      <th>836474</th>\n",
       "      <td>5854</td>\n",
       "      <td>3026</td>\n",
       "      <td>4</td>\n",
       "      <td>slaughterhouse (1987)</td>\n",
       "      <td>Horror</td>\n",
       "    </tr>\n",
       "    <tr>\n",
       "      <th>836475</th>\n",
       "      <td>5854</td>\n",
       "      <td>690</td>\n",
       "      <td>3</td>\n",
       "      <td>promise, the (versprechen, das) (1994)</td>\n",
       "      <td>Romance</td>\n",
       "    </tr>\n",
       "    <tr>\n",
       "      <th>836476</th>\n",
       "      <td>5938</td>\n",
       "      <td>2909</td>\n",
       "      <td>4</td>\n",
       "      <td>five wives, three secretaries and me (1998)</td>\n",
       "      <td>Documentary</td>\n",
       "    </tr>\n",
       "    <tr>\n",
       "      <th>836477</th>\n",
       "      <td>5948</td>\n",
       "      <td>1360</td>\n",
       "      <td>5</td>\n",
       "      <td>identification of a woman (identificazione di ...</td>\n",
       "      <td>Drama</td>\n",
       "    </tr>\n",
       "  </tbody>\n",
       "</table>\n",
       "<p>836478 rows × 5 columns</p>\n",
       "</div>"
      ],
      "text/plain": [
       "        user_id  movie_id  counts  \\\n",
       "0             1      1193       5   \n",
       "1             2      1193       5   \n",
       "2            12      1193       4   \n",
       "3            15      1193       4   \n",
       "4            17      1193       5   \n",
       "...         ...       ...     ...   \n",
       "836473     5851      3607       5   \n",
       "836474     5854      3026       4   \n",
       "836475     5854       690       3   \n",
       "836476     5938      2909       4   \n",
       "836477     5948      1360       5   \n",
       "\n",
       "                                                    title  \\\n",
       "0                  one flew over the cuckoo's nest (1975)   \n",
       "1                  one flew over the cuckoo's nest (1975)   \n",
       "2                  one flew over the cuckoo's nest (1975)   \n",
       "3                  one flew over the cuckoo's nest (1975)   \n",
       "4                  one flew over the cuckoo's nest (1975)   \n",
       "...                                                   ...   \n",
       "836473                           one little indian (1973)   \n",
       "836474                              slaughterhouse (1987)   \n",
       "836475             promise, the (versprechen, das) (1994)   \n",
       "836476        five wives, three secretaries and me (1998)   \n",
       "836477  identification of a woman (identificazione di ...   \n",
       "\n",
       "                       genre  \n",
       "0                      Drama  \n",
       "1                      Drama  \n",
       "2                      Drama  \n",
       "3                      Drama  \n",
       "4                      Drama  \n",
       "...                      ...  \n",
       "836473  Comedy|Drama|Western  \n",
       "836474                Horror  \n",
       "836475               Romance  \n",
       "836476           Documentary  \n",
       "836477                 Drama  \n",
       "\n",
       "[836478 rows x 5 columns]"
      ]
     },
     "execution_count": 8,
     "metadata": {},
     "output_type": "execute_result"
    }
   ],
   "source": [
    "ratings=pd.merge(ratings,movies)\n",
    "ratings"
   ]
  },
  {
   "cell_type": "code",
   "execution_count": null,
   "id": "504d4bd7",
   "metadata": {},
   "outputs": [],
   "source": []
  },
  {
   "cell_type": "markdown",
   "id": "a887be72",
   "metadata": {},
   "source": [
    "## 분석해봅시다\n",
    "- ratings에 있는 유니크한 영화 개수\n",
    "- ratings에 있는 유니크한 사용자 수\n",
    "- 가장 인기 있는 영화 30개(인기순"
   ]
  },
  {
   "cell_type": "code",
   "execution_count": 9,
   "id": "639e5c73",
   "metadata": {},
   "outputs": [
    {
     "data": {
      "text/plain": [
       "3628"
      ]
     },
     "execution_count": 9,
     "metadata": {},
     "output_type": "execute_result"
    }
   ],
   "source": [
    "#ratings에 있는 유니크한 영화 개수\n",
    "ratings['movie_id'].nunique()"
   ]
  },
  {
   "cell_type": "code",
   "execution_count": 10,
   "id": "cff54364",
   "metadata": {},
   "outputs": [
    {
     "data": {
      "text/plain": [
       "6039"
      ]
     },
     "execution_count": 10,
     "metadata": {},
     "output_type": "execute_result"
    }
   ],
   "source": [
    "#ratings에 있는 유니크한 사용자 수\n",
    "ratings['user_id'].nunique()"
   ]
  },
  {
   "cell_type": "code",
   "execution_count": 11,
   "id": "0a61b261",
   "metadata": {},
   "outputs": [
    {
     "data": {
      "text/plain": [
       "title\n",
       "american beauty (1999)                                   3211\n",
       "star wars: episode iv - a new hope (1977)                2910\n",
       "star wars: episode v - the empire strikes back (1980)    2885\n",
       "star wars: episode vi - return of the jedi (1983)        2716\n",
       "saving private ryan (1998)                               2561\n",
       "terminator 2: judgment day (1991)                        2509\n",
       "silence of the lambs, the (1991)                         2498\n",
       "raiders of the lost ark (1981)                           2473\n",
       "back to the future (1985)                                2460\n",
       "matrix, the (1999)                                       2434\n",
       "jurassic park (1993)                                     2413\n",
       "sixth sense, the (1999)                                  2385\n",
       "fargo (1996)                                             2371\n",
       "braveheart (1995)                                        2314\n",
       "men in black (1997)                                      2297\n",
       "schindler's list (1993)                                  2257\n",
       "princess bride, the (1987)                               2252\n",
       "shakespeare in love (1998)                               2213\n",
       "l.a. confidential (1997)                                 2210\n",
       "shawshank redemption, the (1994)                         2194\n",
       "godfather, the (1972)                                    2167\n",
       "groundhog day (1993)                                     2121\n",
       "e.t. the extra-terrestrial (1982)                        2102\n",
       "being john malkovich (1999)                              2066\n",
       "ghostbusters (1984)                                      2051\n",
       "pulp fiction (1994)                                      2030\n",
       "forrest gump (1994)                                      2022\n",
       "terminator, the (1984)                                   2019\n",
       "toy story (1995)                                         2000\n",
       "fugitive, the (1993)                                     1941\n",
       "Name: counts, dtype: int64"
      ]
     },
     "execution_count": 11,
     "metadata": {},
     "output_type": "execute_result"
    }
   ],
   "source": [
    "#가장 인기 있는 영화 30개(인기순)\n",
    "movie_count = ratings.groupby('title')['counts'].count()\n",
    "movie_count.sort_values(ascending=False).head(30)"
   ]
  },
  {
   "cell_type": "code",
   "execution_count": 12,
   "id": "62fe8862",
   "metadata": {},
   "outputs": [
    {
     "data": {
      "text/plain": [
       "title\n",
       "$1,000,000 duck (1971)                         26\n",
       "'burbs, the (1989)                            198\n",
       "'night mother (1986)                           56\n",
       "'til there was you (1997)                      27\n",
       "...and justice for all (1979)                 185\n",
       "                                             ... \n",
       "zachariah (1971)                                1\n",
       "zed & two noughts, a (1985)                    24\n",
       "zero effect (1998)                            262\n",
       "zero kelvin (kjærlighetens kjøtere) (1995)      2\n",
       "zeus and roxanne (1997)                        12\n",
       "Name: counts, Length: 3628, dtype: int64"
      ]
     },
     "execution_count": 12,
     "metadata": {},
     "output_type": "execute_result"
    }
   ],
   "source": [
    "movie_count"
   ]
  },
  {
   "cell_type": "markdown",
   "id": "799ad315",
   "metadata": {},
   "source": [
    "## 3) 내가 선호하는 영화를 5가지 골라서 ratings에 추가해 줍시다."
   ]
  },
  {
   "cell_type": "code",
   "execution_count": 13,
   "id": "a07ff1b5",
   "metadata": {},
   "outputs": [
    {
     "data": {
      "text/html": [
       "<div>\n",
       "<style scoped>\n",
       "    .dataframe tbody tr th:only-of-type {\n",
       "        vertical-align: middle;\n",
       "    }\n",
       "\n",
       "    .dataframe tbody tr th {\n",
       "        vertical-align: top;\n",
       "    }\n",
       "\n",
       "    .dataframe thead th {\n",
       "        text-align: right;\n",
       "    }\n",
       "</style>\n",
       "<table border=\"1\" class=\"dataframe\">\n",
       "  <thead>\n",
       "    <tr style=\"text-align: right;\">\n",
       "      <th></th>\n",
       "      <th>user_id</th>\n",
       "      <th>movie_id</th>\n",
       "      <th>counts</th>\n",
       "      <th>title</th>\n",
       "      <th>genre</th>\n",
       "    </tr>\n",
       "  </thead>\n",
       "  <tbody>\n",
       "    <tr>\n",
       "      <th>0</th>\n",
       "      <td>1</td>\n",
       "      <td>1193</td>\n",
       "      <td>5</td>\n",
       "      <td>one flew over the cuckoo's nest (1975)</td>\n",
       "      <td>Drama</td>\n",
       "    </tr>\n",
       "    <tr>\n",
       "      <th>1</th>\n",
       "      <td>2</td>\n",
       "      <td>1193</td>\n",
       "      <td>5</td>\n",
       "      <td>one flew over the cuckoo's nest (1975)</td>\n",
       "      <td>Drama</td>\n",
       "    </tr>\n",
       "    <tr>\n",
       "      <th>2</th>\n",
       "      <td>12</td>\n",
       "      <td>1193</td>\n",
       "      <td>4</td>\n",
       "      <td>one flew over the cuckoo's nest (1975)</td>\n",
       "      <td>Drama</td>\n",
       "    </tr>\n",
       "    <tr>\n",
       "      <th>3</th>\n",
       "      <td>15</td>\n",
       "      <td>1193</td>\n",
       "      <td>4</td>\n",
       "      <td>one flew over the cuckoo's nest (1975)</td>\n",
       "      <td>Drama</td>\n",
       "    </tr>\n",
       "    <tr>\n",
       "      <th>4</th>\n",
       "      <td>17</td>\n",
       "      <td>1193</td>\n",
       "      <td>5</td>\n",
       "      <td>one flew over the cuckoo's nest (1975)</td>\n",
       "      <td>Drama</td>\n",
       "    </tr>\n",
       "    <tr>\n",
       "      <th>...</th>\n",
       "      <td>...</td>\n",
       "      <td>...</td>\n",
       "      <td>...</td>\n",
       "      <td>...</td>\n",
       "      <td>...</td>\n",
       "    </tr>\n",
       "    <tr>\n",
       "      <th>836473</th>\n",
       "      <td>5851</td>\n",
       "      <td>3607</td>\n",
       "      <td>5</td>\n",
       "      <td>one little indian (1973)</td>\n",
       "      <td>Comedy|Drama|Western</td>\n",
       "    </tr>\n",
       "    <tr>\n",
       "      <th>836474</th>\n",
       "      <td>5854</td>\n",
       "      <td>3026</td>\n",
       "      <td>4</td>\n",
       "      <td>slaughterhouse (1987)</td>\n",
       "      <td>Horror</td>\n",
       "    </tr>\n",
       "    <tr>\n",
       "      <th>836475</th>\n",
       "      <td>5854</td>\n",
       "      <td>690</td>\n",
       "      <td>3</td>\n",
       "      <td>promise, the (versprechen, das) (1994)</td>\n",
       "      <td>Romance</td>\n",
       "    </tr>\n",
       "    <tr>\n",
       "      <th>836476</th>\n",
       "      <td>5938</td>\n",
       "      <td>2909</td>\n",
       "      <td>4</td>\n",
       "      <td>five wives, three secretaries and me (1998)</td>\n",
       "      <td>Documentary</td>\n",
       "    </tr>\n",
       "    <tr>\n",
       "      <th>836477</th>\n",
       "      <td>5948</td>\n",
       "      <td>1360</td>\n",
       "      <td>5</td>\n",
       "      <td>identification of a woman (identificazione di ...</td>\n",
       "      <td>Drama</td>\n",
       "    </tr>\n",
       "  </tbody>\n",
       "</table>\n",
       "<p>836478 rows × 5 columns</p>\n",
       "</div>"
      ],
      "text/plain": [
       "        user_id  movie_id  counts  \\\n",
       "0             1      1193       5   \n",
       "1             2      1193       5   \n",
       "2            12      1193       4   \n",
       "3            15      1193       4   \n",
       "4            17      1193       5   \n",
       "...         ...       ...     ...   \n",
       "836473     5851      3607       5   \n",
       "836474     5854      3026       4   \n",
       "836475     5854       690       3   \n",
       "836476     5938      2909       4   \n",
       "836477     5948      1360       5   \n",
       "\n",
       "                                                    title  \\\n",
       "0                  one flew over the cuckoo's nest (1975)   \n",
       "1                  one flew over the cuckoo's nest (1975)   \n",
       "2                  one flew over the cuckoo's nest (1975)   \n",
       "3                  one flew over the cuckoo's nest (1975)   \n",
       "4                  one flew over the cuckoo's nest (1975)   \n",
       "...                                                   ...   \n",
       "836473                           one little indian (1973)   \n",
       "836474                              slaughterhouse (1987)   \n",
       "836475             promise, the (versprechen, das) (1994)   \n",
       "836476        five wives, three secretaries and me (1998)   \n",
       "836477  identification of a woman (identificazione di ...   \n",
       "\n",
       "                       genre  \n",
       "0                      Drama  \n",
       "1                      Drama  \n",
       "2                      Drama  \n",
       "3                      Drama  \n",
       "4                      Drama  \n",
       "...                      ...  \n",
       "836473  Comedy|Drama|Western  \n",
       "836474                Horror  \n",
       "836475               Romance  \n",
       "836476           Documentary  \n",
       "836477                 Drama  \n",
       "\n",
       "[836478 rows x 5 columns]"
      ]
     },
     "execution_count": 13,
     "metadata": {},
     "output_type": "execute_result"
    }
   ],
   "source": [
    "ratings"
   ]
  },
  {
   "cell_type": "code",
   "execution_count": 14,
   "id": "d0514bd2",
   "metadata": {},
   "outputs": [
    {
     "data": {
      "text/html": [
       "<div>\n",
       "<style scoped>\n",
       "    .dataframe tbody tr th:only-of-type {\n",
       "        vertical-align: middle;\n",
       "    }\n",
       "\n",
       "    .dataframe tbody tr th {\n",
       "        vertical-align: top;\n",
       "    }\n",
       "\n",
       "    .dataframe thead th {\n",
       "        text-align: right;\n",
       "    }\n",
       "</style>\n",
       "<table border=\"1\" class=\"dataframe\">\n",
       "  <thead>\n",
       "    <tr style=\"text-align: right;\">\n",
       "      <th></th>\n",
       "      <th>user_id</th>\n",
       "      <th>movie_id</th>\n",
       "      <th>counts</th>\n",
       "      <th>title</th>\n",
       "      <th>genre</th>\n",
       "    </tr>\n",
       "  </thead>\n",
       "  <tbody>\n",
       "    <tr>\n",
       "      <th>0</th>\n",
       "      <td>1</td>\n",
       "      <td>1193</td>\n",
       "      <td>5</td>\n",
       "      <td>one flew over the cuckoo's nest (1975)</td>\n",
       "      <td>Drama</td>\n",
       "    </tr>\n",
       "    <tr>\n",
       "      <th>1</th>\n",
       "      <td>2</td>\n",
       "      <td>1193</td>\n",
       "      <td>5</td>\n",
       "      <td>one flew over the cuckoo's nest (1975)</td>\n",
       "      <td>Drama</td>\n",
       "    </tr>\n",
       "    <tr>\n",
       "      <th>2</th>\n",
       "      <td>12</td>\n",
       "      <td>1193</td>\n",
       "      <td>4</td>\n",
       "      <td>one flew over the cuckoo's nest (1975)</td>\n",
       "      <td>Drama</td>\n",
       "    </tr>\n",
       "    <tr>\n",
       "      <th>3</th>\n",
       "      <td>15</td>\n",
       "      <td>1193</td>\n",
       "      <td>4</td>\n",
       "      <td>one flew over the cuckoo's nest (1975)</td>\n",
       "      <td>Drama</td>\n",
       "    </tr>\n",
       "    <tr>\n",
       "      <th>4</th>\n",
       "      <td>17</td>\n",
       "      <td>1193</td>\n",
       "      <td>5</td>\n",
       "      <td>one flew over the cuckoo's nest (1975)</td>\n",
       "      <td>Drama</td>\n",
       "    </tr>\n",
       "    <tr>\n",
       "      <th>...</th>\n",
       "      <td>...</td>\n",
       "      <td>...</td>\n",
       "      <td>...</td>\n",
       "      <td>...</td>\n",
       "      <td>...</td>\n",
       "    </tr>\n",
       "    <tr>\n",
       "      <th>836473</th>\n",
       "      <td>5851</td>\n",
       "      <td>3607</td>\n",
       "      <td>5</td>\n",
       "      <td>one little indian (1973)</td>\n",
       "      <td>Comedy|Drama|Western</td>\n",
       "    </tr>\n",
       "    <tr>\n",
       "      <th>836474</th>\n",
       "      <td>5854</td>\n",
       "      <td>3026</td>\n",
       "      <td>4</td>\n",
       "      <td>slaughterhouse (1987)</td>\n",
       "      <td>Horror</td>\n",
       "    </tr>\n",
       "    <tr>\n",
       "      <th>836475</th>\n",
       "      <td>5854</td>\n",
       "      <td>690</td>\n",
       "      <td>3</td>\n",
       "      <td>promise, the (versprechen, das) (1994)</td>\n",
       "      <td>Romance</td>\n",
       "    </tr>\n",
       "    <tr>\n",
       "      <th>836476</th>\n",
       "      <td>5938</td>\n",
       "      <td>2909</td>\n",
       "      <td>4</td>\n",
       "      <td>five wives, three secretaries and me (1998)</td>\n",
       "      <td>Documentary</td>\n",
       "    </tr>\n",
       "    <tr>\n",
       "      <th>836477</th>\n",
       "      <td>5948</td>\n",
       "      <td>1360</td>\n",
       "      <td>5</td>\n",
       "      <td>identification of a woman (identificazione di ...</td>\n",
       "      <td>Drama</td>\n",
       "    </tr>\n",
       "  </tbody>\n",
       "</table>\n",
       "<p>836478 rows × 5 columns</p>\n",
       "</div>"
      ],
      "text/plain": [
       "        user_id  movie_id  counts  \\\n",
       "0             1      1193       5   \n",
       "1             2      1193       5   \n",
       "2            12      1193       4   \n",
       "3            15      1193       4   \n",
       "4            17      1193       5   \n",
       "...         ...       ...     ...   \n",
       "836473     5851      3607       5   \n",
       "836474     5854      3026       4   \n",
       "836475     5854       690       3   \n",
       "836476     5938      2909       4   \n",
       "836477     5948      1360       5   \n",
       "\n",
       "                                                    title  \\\n",
       "0                  one flew over the cuckoo's nest (1975)   \n",
       "1                  one flew over the cuckoo's nest (1975)   \n",
       "2                  one flew over the cuckoo's nest (1975)   \n",
       "3                  one flew over the cuckoo's nest (1975)   \n",
       "4                  one flew over the cuckoo's nest (1975)   \n",
       "...                                                   ...   \n",
       "836473                           one little indian (1973)   \n",
       "836474                              slaughterhouse (1987)   \n",
       "836475             promise, the (versprechen, das) (1994)   \n",
       "836476        five wives, three secretaries and me (1998)   \n",
       "836477  identification of a woman (identificazione di ...   \n",
       "\n",
       "                       genre  \n",
       "0                      Drama  \n",
       "1                      Drama  \n",
       "2                      Drama  \n",
       "3                      Drama  \n",
       "4                      Drama  \n",
       "...                      ...  \n",
       "836473  Comedy|Drama|Western  \n",
       "836474                Horror  \n",
       "836475               Romance  \n",
       "836476           Documentary  \n",
       "836477                 Drama  \n",
       "\n",
       "[836478 rows x 5 columns]"
      ]
     },
     "execution_count": 14,
     "metadata": {},
     "output_type": "execute_result"
    }
   ],
   "source": [
    "#nan값 다 지움 \n",
    "ratings=ratings.dropna(axis=0)\n",
    "ratings"
   ]
  },
  {
   "cell_type": "code",
   "execution_count": 15,
   "id": "320cbe4b",
   "metadata": {},
   "outputs": [
    {
     "data": {
      "text/html": [
       "<div>\n",
       "<style scoped>\n",
       "    .dataframe tbody tr th:only-of-type {\n",
       "        vertical-align: middle;\n",
       "    }\n",
       "\n",
       "    .dataframe tbody tr th {\n",
       "        vertical-align: top;\n",
       "    }\n",
       "\n",
       "    .dataframe thead th {\n",
       "        text-align: right;\n",
       "    }\n",
       "</style>\n",
       "<table border=\"1\" class=\"dataframe\">\n",
       "  <thead>\n",
       "    <tr style=\"text-align: right;\">\n",
       "      <th></th>\n",
       "      <th>user_id</th>\n",
       "      <th>movie_id</th>\n",
       "      <th>counts</th>\n",
       "      <th>title</th>\n",
       "      <th>genre</th>\n",
       "    </tr>\n",
       "  </thead>\n",
       "  <tbody>\n",
       "    <tr>\n",
       "      <th>836473</th>\n",
       "      <td>5851</td>\n",
       "      <td>3607</td>\n",
       "      <td>5</td>\n",
       "      <td>one little indian (1973)</td>\n",
       "      <td>Comedy|Drama|Western</td>\n",
       "    </tr>\n",
       "    <tr>\n",
       "      <th>836474</th>\n",
       "      <td>5854</td>\n",
       "      <td>3026</td>\n",
       "      <td>4</td>\n",
       "      <td>slaughterhouse (1987)</td>\n",
       "      <td>Horror</td>\n",
       "    </tr>\n",
       "    <tr>\n",
       "      <th>836475</th>\n",
       "      <td>5854</td>\n",
       "      <td>690</td>\n",
       "      <td>3</td>\n",
       "      <td>promise, the (versprechen, das) (1994)</td>\n",
       "      <td>Romance</td>\n",
       "    </tr>\n",
       "    <tr>\n",
       "      <th>836476</th>\n",
       "      <td>5938</td>\n",
       "      <td>2909</td>\n",
       "      <td>4</td>\n",
       "      <td>five wives, three secretaries and me (1998)</td>\n",
       "      <td>Documentary</td>\n",
       "    </tr>\n",
       "    <tr>\n",
       "      <th>836477</th>\n",
       "      <td>5948</td>\n",
       "      <td>1360</td>\n",
       "      <td>5</td>\n",
       "      <td>identification of a woman (identificazione di ...</td>\n",
       "      <td>Drama</td>\n",
       "    </tr>\n",
       "    <tr>\n",
       "      <th>0</th>\n",
       "      <td>soon</td>\n",
       "      <td>3949</td>\n",
       "      <td>3</td>\n",
       "      <td>requiem for a dream (2000)</td>\n",
       "      <td>Drama</td>\n",
       "    </tr>\n",
       "    <tr>\n",
       "      <th>1</th>\n",
       "      <td>soon</td>\n",
       "      <td>3951</td>\n",
       "      <td>3</td>\n",
       "      <td>two family house (2000)</td>\n",
       "      <td>Drama</td>\n",
       "    </tr>\n",
       "    <tr>\n",
       "      <th>2</th>\n",
       "      <td>soon</td>\n",
       "      <td>3950</td>\n",
       "      <td>3</td>\n",
       "      <td>tigerland (2000)</td>\n",
       "      <td>Drama</td>\n",
       "    </tr>\n",
       "    <tr>\n",
       "      <th>3</th>\n",
       "      <td>soon</td>\n",
       "      <td>4</td>\n",
       "      <td>3</td>\n",
       "      <td>waiting to exhale (1995)</td>\n",
       "      <td>Comedy|Drama</td>\n",
       "    </tr>\n",
       "    <tr>\n",
       "      <th>4</th>\n",
       "      <td>soon</td>\n",
       "      <td>5</td>\n",
       "      <td>3</td>\n",
       "      <td>father of the bride part ii (1995)</td>\n",
       "      <td>Comedy</td>\n",
       "    </tr>\n",
       "  </tbody>\n",
       "</table>\n",
       "</div>"
      ],
      "text/plain": [
       "       user_id  movie_id  counts  \\\n",
       "836473    5851      3607       5   \n",
       "836474    5854      3026       4   \n",
       "836475    5854       690       3   \n",
       "836476    5938      2909       4   \n",
       "836477    5948      1360       5   \n",
       "0         soon      3949       3   \n",
       "1         soon      3951       3   \n",
       "2         soon      3950       3   \n",
       "3         soon         4       3   \n",
       "4         soon         5       3   \n",
       "\n",
       "                                                    title  \\\n",
       "836473                           one little indian (1973)   \n",
       "836474                              slaughterhouse (1987)   \n",
       "836475             promise, the (versprechen, das) (1994)   \n",
       "836476        five wives, three secretaries and me (1998)   \n",
       "836477  identification of a woman (identificazione di ...   \n",
       "0                              requiem for a dream (2000)   \n",
       "1                                 two family house (2000)   \n",
       "2                                        tigerland (2000)   \n",
       "3                                waiting to exhale (1995)   \n",
       "4                      father of the bride part ii (1995)   \n",
       "\n",
       "                       genre  \n",
       "836473  Comedy|Drama|Western  \n",
       "836474                Horror  \n",
       "836475               Romance  \n",
       "836476           Documentary  \n",
       "836477                 Drama  \n",
       "0                      Drama  \n",
       "1                      Drama  \n",
       "2                      Drama  \n",
       "3               Comedy|Drama  \n",
       "4                     Comedy  "
      ]
     },
     "execution_count": 15,
     "metadata": {},
     "output_type": "execute_result"
    }
   ],
   "source": [
    "my_favorite = ['requiem for a dream (2000)','two family house (2000)','tigerland (2000)','waiting to exhale (1995)','father of the bride part ii (1995)']\n",
    "genre=['Drama','Drama','Drama','Comedy|Drama','Comedy']\n",
    "mov_id=[3949,3951,3950,4,5]\n",
    "my_movlist = pd.DataFrame({'user_id': ['soon']*5,'movie_id':mov_id ,'title': my_favorite,'genre':genre,'counts':[3]*5})\n",
    "\n",
    "if not ratings.isin({'user_id':['soon']})['user_id'].any():  # user_id에 'zimin'이라는 데이터가 없다면\n",
    "    ratings = ratings.append(my_movlist)                           # 위에 임의로 만든 my_favorite 데이터를 추가해 줍니다. \n",
    "\n",
    "ratings.tail(10)       # 잘 추가되었는지 확인해 봅시다."
   ]
  },
  {
   "cell_type": "code",
   "execution_count": 16,
   "id": "61a6f6fc",
   "metadata": {},
   "outputs": [],
   "source": [
    "user_unique = ratings['user_id'].unique()\n",
    "movie_unique = ratings['title'].unique()\n",
    "\n",
    "user_to_idx = {v:k for k,v in enumerate(user_unique)}\n",
    "movie_to_idx = {v:k for k,v in enumerate(movie_unique)}"
   ]
  },
  {
   "cell_type": "code",
   "execution_count": 17,
   "id": "ef1f83b9",
   "metadata": {},
   "outputs": [
    {
     "name": "stdout",
     "output_type": "stream",
     "text": [
      "6039\n"
     ]
    }
   ],
   "source": [
    "print(user_to_idx['soon'])"
   ]
  },
  {
   "cell_type": "code",
   "execution_count": 18,
   "id": "6f1945b3",
   "metadata": {},
   "outputs": [
    {
     "name": "stdout",
     "output_type": "stream",
     "text": [
      "user_id column indexing OK!!\n",
      "mociet column indexing OK!!\n"
     ]
    },
    {
     "data": {
      "text/html": [
       "<div>\n",
       "<style scoped>\n",
       "    .dataframe tbody tr th:only-of-type {\n",
       "        vertical-align: middle;\n",
       "    }\n",
       "\n",
       "    .dataframe tbody tr th {\n",
       "        vertical-align: top;\n",
       "    }\n",
       "\n",
       "    .dataframe thead th {\n",
       "        text-align: right;\n",
       "    }\n",
       "</style>\n",
       "<table border=\"1\" class=\"dataframe\">\n",
       "  <thead>\n",
       "    <tr style=\"text-align: right;\">\n",
       "      <th></th>\n",
       "      <th>user_id</th>\n",
       "      <th>movie_id</th>\n",
       "      <th>counts</th>\n",
       "      <th>title</th>\n",
       "      <th>genre</th>\n",
       "    </tr>\n",
       "  </thead>\n",
       "  <tbody>\n",
       "    <tr>\n",
       "      <th>0</th>\n",
       "      <td>0</td>\n",
       "      <td>1193</td>\n",
       "      <td>5</td>\n",
       "      <td>0</td>\n",
       "      <td>Drama</td>\n",
       "    </tr>\n",
       "    <tr>\n",
       "      <th>1</th>\n",
       "      <td>1</td>\n",
       "      <td>1193</td>\n",
       "      <td>5</td>\n",
       "      <td>0</td>\n",
       "      <td>Drama</td>\n",
       "    </tr>\n",
       "    <tr>\n",
       "      <th>2</th>\n",
       "      <td>2</td>\n",
       "      <td>1193</td>\n",
       "      <td>4</td>\n",
       "      <td>0</td>\n",
       "      <td>Drama</td>\n",
       "    </tr>\n",
       "    <tr>\n",
       "      <th>3</th>\n",
       "      <td>3</td>\n",
       "      <td>1193</td>\n",
       "      <td>4</td>\n",
       "      <td>0</td>\n",
       "      <td>Drama</td>\n",
       "    </tr>\n",
       "    <tr>\n",
       "      <th>4</th>\n",
       "      <td>4</td>\n",
       "      <td>1193</td>\n",
       "      <td>5</td>\n",
       "      <td>0</td>\n",
       "      <td>Drama</td>\n",
       "    </tr>\n",
       "    <tr>\n",
       "      <th>...</th>\n",
       "      <td>...</td>\n",
       "      <td>...</td>\n",
       "      <td>...</td>\n",
       "      <td>...</td>\n",
       "      <td>...</td>\n",
       "    </tr>\n",
       "    <tr>\n",
       "      <th>0</th>\n",
       "      <td>6039</td>\n",
       "      <td>3949</td>\n",
       "      <td>3</td>\n",
       "      <td>1318</td>\n",
       "      <td>Drama</td>\n",
       "    </tr>\n",
       "    <tr>\n",
       "      <th>1</th>\n",
       "      <td>6039</td>\n",
       "      <td>3951</td>\n",
       "      <td>3</td>\n",
       "      <td>2498</td>\n",
       "      <td>Drama</td>\n",
       "    </tr>\n",
       "    <tr>\n",
       "      <th>2</th>\n",
       "      <td>6039</td>\n",
       "      <td>3950</td>\n",
       "      <td>3</td>\n",
       "      <td>2398</td>\n",
       "      <td>Drama</td>\n",
       "    </tr>\n",
       "    <tr>\n",
       "      <th>3</th>\n",
       "      <td>6039</td>\n",
       "      <td>4</td>\n",
       "      <td>3</td>\n",
       "      <td>397</td>\n",
       "      <td>Comedy|Drama</td>\n",
       "    </tr>\n",
       "    <tr>\n",
       "      <th>4</th>\n",
       "      <td>6039</td>\n",
       "      <td>5</td>\n",
       "      <td>3</td>\n",
       "      <td>1180</td>\n",
       "      <td>Comedy</td>\n",
       "    </tr>\n",
       "  </tbody>\n",
       "</table>\n",
       "<p>836483 rows × 5 columns</p>\n",
       "</div>"
      ],
      "text/plain": [
       "    user_id  movie_id  counts  title         genre\n",
       "0         0      1193       5      0         Drama\n",
       "1         1      1193       5      0         Drama\n",
       "2         2      1193       4      0         Drama\n",
       "3         3      1193       4      0         Drama\n",
       "4         4      1193       5      0         Drama\n",
       "..      ...       ...     ...    ...           ...\n",
       "0      6039      3949       3   1318         Drama\n",
       "1      6039      3951       3   2498         Drama\n",
       "2      6039      3950       3   2398         Drama\n",
       "3      6039         4       3    397  Comedy|Drama\n",
       "4      6039         5       3   1180        Comedy\n",
       "\n",
       "[836483 rows x 5 columns]"
      ]
     },
     "execution_count": 18,
     "metadata": {},
     "output_type": "execute_result"
    }
   ],
   "source": [
    "# indexing을 통해 데이터 컬럼 내 값을 바꾸는 코드\n",
    "# dictionary 자료형의 get 함수는 https://wikidocs.net/16 을 참고하세요.\n",
    "\n",
    " \n",
    "temp_user_data = ratings['user_id'].map(user_to_idx.get).dropna()\n",
    "if len(temp_user_data) == len(ratings):   # 모든 row가 정상적으로 인덱싱되었다면\n",
    "    print('user_id column indexing OK!!')\n",
    "    ratings['user_id'] = temp_user_data   # data['user_id']을 인덱싱된 Series로 교체해 줍니다. \n",
    "else:\n",
    "    print('user_id column indexing Fail!!')\n",
    "\n",
    "# artist_to_idx을 통해 artist 컬럼도 동일한 방식으로 인덱싱해 줍니다. \n",
    "temp_movie_data = ratings['title'].map(movie_to_idx.get).dropna()\n",
    "if len(temp_movie_data) == len(ratings):\n",
    "    print('mociet column indexing OK!!')\n",
    "    ratings['title'] = temp_movie_data\n",
    "else:\n",
    "    print('movie column indexing Fail!!')\n",
    "\n",
    "ratings"
   ]
  },
  {
   "cell_type": "markdown",
   "id": "8b73b3d7",
   "metadata": {},
   "source": [
    "## 4) CSR matrix를 직접 만들어 봅시다."
   ]
  },
  {
   "cell_type": "code",
   "execution_count": 19,
   "id": "1327f0eb",
   "metadata": {},
   "outputs": [
    {
     "data": {
      "text/plain": [
       "6040"
      ]
     },
     "execution_count": 19,
     "metadata": {},
     "output_type": "execute_result"
    }
   ],
   "source": [
    "num_user = ratings['user_id'].nunique()\n",
    "num_user"
   ]
  },
  {
   "cell_type": "code",
   "execution_count": 20,
   "id": "6f9a3d66",
   "metadata": {},
   "outputs": [
    {
     "data": {
      "text/plain": [
       "3628"
      ]
     },
     "execution_count": 20,
     "metadata": {},
     "output_type": "execute_result"
    }
   ],
   "source": [
    "num_movie = ratings['title'].nunique()\n",
    "num_movie"
   ]
  },
  {
   "cell_type": "code",
   "execution_count": 21,
   "id": "fe656c2e",
   "metadata": {
    "scrolled": true
   },
   "outputs": [],
   "source": [
    "from scipy.sparse import csr_matrix\n",
    "\n",
    "num_user = ratings['user_id'].nunique()\n",
    "num_movie = ratings['title'].nunique()\n",
    "\n",
    "csr_data = csr_matrix((ratings.counts, (ratings.user_id, ratings.title)), shape= (num_user, num_movie))"
   ]
  },
  {
   "cell_type": "markdown",
   "id": "4800c878",
   "metadata": {},
   "source": [
    "## 5) als_model = AlternatingLeastSquares 모델을 직접 구성하여 훈련시켜 봅시다."
   ]
  },
  {
   "cell_type": "code",
   "execution_count": 22,
   "id": "5ddb7393",
   "metadata": {},
   "outputs": [],
   "source": [
    "from implicit.als import AlternatingLeastSquares\n",
    "import os\n",
    "import numpy as np\n",
    "\n",
    "# implicit 라이브러리에서 권장하고 있는 부분입니다. 학습 내용과는 무관합니다.\n",
    "os.environ['OPENBLAS_NUM_THREADS']='1'\n",
    "os.environ['KMP_DUPLICATE_LIB_OK']='True'\n",
    "os.environ['MKL_NUM_THREADS']='1'"
   ]
  },
  {
   "cell_type": "code",
   "execution_count": 33,
   "id": "3b57b9bd",
   "metadata": {},
   "outputs": [],
   "source": [
    "# Implicit AlternatingLeastSquares 모델의 선언\n",
    "als_model1= AlternatingLeastSquares(factors=200, regularization=0.01, use_gpu=False, iterations=50, dtype=np.float32)"
   ]
  },
  {
   "cell_type": "code",
   "execution_count": 34,
   "id": "fb92dd94",
   "metadata": {},
   "outputs": [
    {
     "data": {
      "text/plain": [
       "<3628x6040 sparse matrix of type '<class 'numpy.int64'>'\n",
       "\twith 836483 stored elements in Compressed Sparse Column format>"
      ]
     },
     "execution_count": 34,
     "metadata": {},
     "output_type": "execute_result"
    }
   ],
   "source": [
    "# als 모델은 input으로 (item X user 꼴의 matrix를 받기 때문에 Transpose해줍니다.)\n",
    "csr_data_transpose = csr_data.T\n",
    "csr_data_transpose"
   ]
  },
  {
   "cell_type": "code",
   "execution_count": 35,
   "id": "0308b3ea",
   "metadata": {},
   "outputs": [
    {
     "data": {
      "application/vnd.jupyter.widget-view+json": {
       "model_id": "4039162103924c22bb3a83d70c5f7efc",
       "version_major": 2,
       "version_minor": 0
      },
      "text/plain": [
       "  0%|          | 0/50 [00:00<?, ?it/s]"
      ]
     },
     "metadata": {},
     "output_type": "display_data"
    }
   ],
   "source": [
    "# 모델 훈련\n",
    "als_model1.fit(csr_data_transpose)"
   ]
  },
  {
   "cell_type": "markdown",
   "id": "f120b141",
   "metadata": {},
   "source": [
    "## 6) 내가 선호하는 5가지 영화 중 하나와 그 외의 영화 하나를 골라 훈련된 모델이 예측한 나의 선호도를 파악해 보세요."
   ]
  },
  {
   "cell_type": "markdown",
   "id": "951a84cd",
   "metadata": {},
   "source": [
    "#### 5개 추가로 넣은 영화중 하나인 tigerland로 실험"
   ]
  },
  {
   "cell_type": "code",
   "execution_count": 36,
   "id": "497a5121",
   "metadata": {},
   "outputs": [],
   "source": [
    "soon,tigerland = user_to_idx['soon'], movie_to_idx['tigerland (2000)']\n",
    "soon_vector, tigerland_vector = als_model1.user_factors[soon], als_model1.item_factors[tigerland]\n"
   ]
  },
  {
   "cell_type": "code",
   "execution_count": 37,
   "id": "e79142c0",
   "metadata": {},
   "outputs": [
    {
     "data": {
      "text/plain": [
       "array([ 0.04097557, -0.10422312, -0.17610793, -0.19347431,  0.29293337,\n",
       "        0.09011723,  0.18903369, -0.04003558,  0.14696571,  0.03467905,\n",
       "        0.10111357,  0.01686911, -0.32734078,  0.1900918 , -0.09185813,\n",
       "        0.08537172, -0.05421869,  0.06121325,  0.11651979, -0.1544339 ,\n",
       "       -0.08989438,  0.16226453, -0.06750368, -0.06183898, -0.02848781,\n",
       "       -0.13323328,  0.07562458,  0.04987546, -0.05214698,  0.21303214,\n",
       "        0.07483377, -0.14021508, -0.07392525,  0.23905426, -0.16929254,\n",
       "        0.27070385,  0.07289355, -0.0178685 ,  0.11933191, -0.09702702,\n",
       "        0.09976662,  0.05002536, -0.11771712,  0.07815167,  0.2839128 ,\n",
       "       -0.08470601,  0.25745586, -0.10580559,  0.1667664 , -0.06814303,\n",
       "        0.20499814,  0.04311161, -0.01721488, -0.07860804, -0.21727696,\n",
       "        0.22605054, -0.19993906,  0.21354601,  0.25826618, -0.13258487,\n",
       "        0.0280307 , -0.03884595, -0.12586759, -0.11215744, -0.12139384,\n",
       "        0.13612482,  0.04562961, -0.13148654,  0.17375153, -0.12459496,\n",
       "        0.03209728, -0.18209466, -0.09754787, -0.41910923,  0.13500331,\n",
       "        0.05407977,  0.10326567,  0.06539787, -0.06047524,  0.2688889 ,\n",
       "       -0.09938534, -0.22143818, -0.16936338, -0.00749302, -0.02800122,\n",
       "        0.05925438, -0.06508113,  0.2320605 ,  0.00229333,  0.23111664,\n",
       "        0.11257372,  0.00888008, -0.03517095,  0.20492083, -0.26436225,\n",
       "       -0.02826577,  0.00892484,  0.09858536, -0.15684196,  0.2216565 ,\n",
       "       -0.1533883 ,  0.16644342,  0.09604504, -0.19044879,  0.4797368 ,\n",
       "        0.22148243,  0.07389254,  0.01284377, -0.09100735,  0.12089399,\n",
       "        0.0631834 ,  0.0761044 ,  0.05217236,  0.0442716 , -0.4023271 ,\n",
       "       -0.13176703,  0.10721012,  0.15104963, -0.1157698 , -0.08514392,\n",
       "        0.05709068, -0.31235328,  0.13447623, -0.00050201,  0.20282583,\n",
       "       -0.23007512,  0.01584126,  0.07969343, -0.02460288,  0.2745729 ,\n",
       "       -0.00349185,  0.05312031, -0.21595062,  0.14146487,  0.02004321,\n",
       "        0.22528146, -0.03253897,  0.15886259, -0.16772434,  0.06537078,\n",
       "        0.06362223,  0.08833886,  0.05348356, -0.05784987, -0.10382856,\n",
       "        0.07174908,  0.15015575,  0.01234066, -0.27456477, -0.06482504,\n",
       "        0.08246865,  0.05340952, -0.00649095,  0.17300138, -0.35437086,\n",
       "        0.04860531, -0.08311009, -0.09380701, -0.00939888, -0.05177022,\n",
       "       -0.11782578, -0.26155114, -0.04786269,  0.1868627 , -0.09460922,\n",
       "       -0.20315447, -0.05028914, -0.1865912 ,  0.06396143,  0.05763747,\n",
       "       -0.18713114,  0.00660178,  0.17460795, -0.04311432, -0.08871757,\n",
       "       -0.06757632, -0.16274163, -0.10411198, -0.2627437 , -0.30277708,\n",
       "        0.10350556,  0.09157263,  0.081563  , -0.09459575,  0.08242347,\n",
       "       -0.11992104, -0.07580181, -0.13184784, -0.22003005,  0.061207  ,\n",
       "       -0.07145079,  0.23249458,  0.08840291,  0.16148967,  0.03720202,\n",
       "       -0.01168338,  0.39345074,  0.04394165,  0.13576603, -0.17551427],\n",
       "      dtype=float32)"
      ]
     },
     "execution_count": 37,
     "metadata": {},
     "output_type": "execute_result"
    }
   ],
   "source": [
    "soon_vector"
   ]
  },
  {
   "cell_type": "code",
   "execution_count": 38,
   "id": "c808ef38",
   "metadata": {
    "scrolled": true
   },
   "outputs": [
    {
     "data": {
      "text/plain": [
       "array([ 1.25604160e-02,  2.59922491e-03,  1.09720300e-03,  4.65690624e-03,\n",
       "        1.94657445e-02,  8.36833846e-03,  9.18601640e-03,  2.51018088e-02,\n",
       "        9.73908976e-03, -4.84873448e-03,  7.51865748e-03,  4.76274593e-03,\n",
       "        4.99077607e-04,  3.72714712e-03, -4.07281425e-03,  2.99970270e-03,\n",
       "       -5.12787839e-03,  1.54936761e-02,  8.68950505e-03, -3.31092207e-03,\n",
       "        8.10554065e-03,  9.04307235e-03,  9.06218588e-03,  4.82804608e-03,\n",
       "        9.42173880e-03,  5.03586186e-03,  1.14233932e-02,  1.36373779e-02,\n",
       "        8.87936912e-03,  1.60714053e-02,  2.68345978e-03,  7.41332211e-03,\n",
       "        4.44053812e-03,  5.87597676e-03,  3.19854892e-03,  1.55467438e-02,\n",
       "        8.02647136e-03,  1.54990572e-04,  9.78856068e-03, -4.98515554e-04,\n",
       "        1.17037222e-02,  7.74328131e-03,  6.94237184e-03,  9.09936894e-03,\n",
       "        4.98855906e-03,  1.10175889e-02,  7.72963604e-03, -6.78065990e-04,\n",
       "        1.37291374e-02,  1.94617026e-02, -4.27446328e-03,  1.07813179e-02,\n",
       "        2.80104019e-03,  1.24669326e-02, -1.92418019e-03,  8.45716894e-03,\n",
       "        3.52975540e-03,  1.25586726e-02,  3.28968186e-03,  2.19873525e-03,\n",
       "        9.20994487e-03,  1.52748628e-02,  4.31811996e-03, -5.35078999e-03,\n",
       "        1.32477516e-03,  5.52929100e-03,  1.59017667e-02,  1.00940680e-02,\n",
       "        9.59519949e-03,  6.14521035e-04, -5.88809233e-03,  4.91348282e-03,\n",
       "        9.08769947e-03, -9.12049599e-03,  1.05510913e-02,  5.39942691e-03,\n",
       "        3.84343602e-03,  6.49001868e-03,  3.03409831e-03,  1.11449063e-02,\n",
       "       -3.87456524e-03, -3.80099053e-03,  4.85207001e-03,  1.06063662e-02,\n",
       "        8.67463369e-03,  2.14775912e-02,  3.45214317e-03,  2.39346866e-02,\n",
       "        2.59386119e-03,  1.43943494e-02,  1.29530644e-02,  1.24838157e-02,\n",
       "       -1.31028029e-03,  1.62033997e-02,  6.70528458e-03, -4.68117325e-03,\n",
       "        1.95647590e-03,  7.16231111e-03,  1.08916992e-02,  3.40685621e-03,\n",
       "        2.18205526e-03,  1.44148329e-02,  4.77178860e-03,  3.16058053e-03,\n",
       "        2.95980386e-02,  1.19104236e-02,  8.31176993e-03,  1.02820490e-02,\n",
       "        3.02707963e-03,  6.74106879e-03,  3.19722487e-04,  1.33193443e-02,\n",
       "        1.21607240e-02,  7.10446201e-03,  8.48859781e-04,  4.03160369e-03,\n",
       "        8.49528052e-03,  2.54669273e-03,  1.20988647e-02,  9.00463853e-03,\n",
       "        1.30967908e-02, -3.12706269e-03,  1.00218542e-02,  1.11351795e-02,\n",
       "        1.94804035e-02, -4.41686949e-03,  7.45836087e-03,  1.44151784e-02,\n",
       "        1.47423975e-03,  1.75095666e-02,  7.16520799e-03,  9.81439371e-04,\n",
       "        6.20438857e-03,  1.50292693e-02,  3.86959454e-03,  2.18392275e-02,\n",
       "       -4.57860478e-05,  9.89133213e-03,  3.21004610e-03,  1.35848699e-02,\n",
       "        1.26607306e-02,  7.75028672e-03,  1.50335282e-02,  6.31380733e-03,\n",
       "        1.57989946e-03,  6.72790734e-03,  1.21458629e-02, -6.34262338e-04,\n",
       "       -4.75748442e-03,  3.86888417e-03,  7.37020327e-03,  3.93242063e-03,\n",
       "       -2.21087830e-03,  1.43612456e-02, -1.13300625e-02,  4.94570518e-03,\n",
       "        1.28517430e-02,  9.11820494e-03, -1.29620254e-03,  7.41007645e-03,\n",
       "        4.32905275e-03, -4.69725579e-04,  1.38564054e-02,  3.29081295e-03,\n",
       "        7.54913315e-03,  1.65842881e-03,  8.51783669e-04, -1.95064151e-03,\n",
       "        6.55954354e-05,  7.25570787e-03,  9.32635833e-03,  4.77991719e-03,\n",
       "        3.94546892e-03,  6.50952396e-04,  6.23724097e-03,  1.84341392e-03,\n",
       "        7.90340174e-03,  1.19746465e-03,  6.37258915e-03, -9.48252063e-03,\n",
       "        2.07853457e-03,  7.11549947e-04,  6.63485518e-03,  2.59153382e-03,\n",
       "        8.09748378e-03,  6.39878120e-03,  1.51810218e-02,  6.90479996e-03,\n",
       "       -4.64587379e-03,  9.31918249e-03, -3.04795988e-03,  1.38211912e-02,\n",
       "        8.74149986e-03,  1.17477356e-02,  9.74576641e-03,  1.82199711e-03,\n",
       "        1.44877797e-02,  4.14348487e-03, -1.58218353e-03, -1.84518788e-02],\n",
       "      dtype=float32)"
      ]
     },
     "execution_count": 38,
     "metadata": {},
     "output_type": "execute_result"
    }
   ],
   "source": [
    "tigerland_vector"
   ]
  },
  {
   "cell_type": "code",
   "execution_count": 39,
   "id": "df7f591f",
   "metadata": {},
   "outputs": [
    {
     "data": {
      "text/plain": [
       "0.11658661"
      ]
     },
     "execution_count": 39,
     "metadata": {},
     "output_type": "execute_result"
    }
   ],
   "source": [
    "np.dot(soon_vector, tigerland_vector)"
   ]
  },
  {
   "cell_type": "markdown",
   "id": "87a4a1d7",
   "metadata": {},
   "source": [
    "#### factors 와 iteration 수를 늘리니 0.07에서 0.1까지 증가하였다"
   ]
  },
  {
   "cell_type": "code",
   "execution_count": null,
   "id": "67b94221",
   "metadata": {},
   "outputs": [],
   "source": [
    "## contender, the (2000), 드라마 스릴러 "
   ]
  },
  {
   "cell_type": "code",
   "execution_count": 41,
   "id": "f268e969",
   "metadata": {},
   "outputs": [
    {
     "data": {
      "text/plain": [
       "0.20007332"
      ]
     },
     "execution_count": 41,
     "metadata": {},
     "output_type": "execute_result"
    }
   ],
   "source": [
    "rr = movie_to_idx['contender, the (2000)']\n",
    "rr_vector = als_model1.item_factors[rr]\n",
    "np.dot(soon_vector, rr_vector)"
   ]
  },
  {
   "cell_type": "markdown",
   "id": "91d2a400",
   "metadata": {},
   "source": [
    "#### 좋아하는 영화 모두 드라마 장르가 필수적으로 들어있어서 ,드라마 장르가 포함된 드라마 스릴러 영화 장르를 하나 넣어봤는데 0.2정도 관계도를 보인다.. "
   ]
  },
  {
   "cell_type": "markdown",
   "id": "9077ddbd",
   "metadata": {},
   "source": [
    "## 7) 내가 좋아하는 영화와 비슷한 영화를 추천받아 봅시다."
   ]
  },
  {
   "cell_type": "code",
   "execution_count": 44,
   "id": "c8f213dd",
   "metadata": {},
   "outputs": [
    {
     "data": {
      "text/plain": [
       "[(40, 1.0),\n",
       " (50, 0.5653399),\n",
       " (33, 0.325613),\n",
       " (4, 0.32449278),\n",
       " (322, 0.31235576),\n",
       " (330, 0.27171442),\n",
       " (255, 0.24997225),\n",
       " (110, 0.24591392),\n",
       " (10, 0.23548427),\n",
       " (2938, 0.20302095),\n",
       " (126, 0.19583596),\n",
       " (288, 0.19401854),\n",
       " (3589, 0.19400373),\n",
       " (160, 0.19222268),\n",
       " (1736, 0.19179791)]"
      ]
     },
     "execution_count": 44,
     "metadata": {},
     "output_type": "execute_result"
    }
   ],
   "source": [
    "favorite_movie = 'toy story (1995)'\n",
    "movie_id = movie_to_idx[favorite_movie]\n",
    "similar_movie = als_model1.similar_items(movie_id, N=15)\n",
    "similar_movie"
   ]
  },
  {
   "cell_type": "code",
   "execution_count": 45,
   "id": "25185550",
   "metadata": {},
   "outputs": [
    {
     "data": {
      "text/plain": [
       "['toy story (1995)',\n",
       " 'toy story 2 (1999)',\n",
       " 'aladdin (1992)',\n",
       " \"bug's life, a (1998)\",\n",
       " 'babe (1995)',\n",
       " 'lion king, the (1994)',\n",
       " \"there's something about mary (1998)\",\n",
       " 'groundhog day (1993)',\n",
       " 'beauty and the beast (1991)',\n",
       " 'nobody loves me (keiner liebt mich) (1994)',\n",
       " 'shakespeare in love (1998)',\n",
       " 'austin powers: international man of mystery (1997)',\n",
       " 'soft toilet seats (1999)',\n",
       " 'forrest gump (1994)',\n",
       " 'small soldiers (1998)']"
      ]
     },
     "execution_count": 45,
     "metadata": {},
     "output_type": "execute_result"
    }
   ],
   "source": [
    "#, index로부터 movie 이름을 얻는 dict를 생성합니다. \n",
    "idx_to_movie = {v:k for k,v in movie_to_idx.items()}\n",
    "[idx_to_movie[i[0]] for i in similar_movie]"
   ]
  },
  {
   "cell_type": "markdown",
   "id": "e2a0c528",
   "metadata": {},
   "source": [
    "#### !!!! 오 토이 스트리로 추천을 받아보니 토이 스토리 시리즈 추천과 버그 라이프, 라이온킹 등 애니메이션 위주로 추천해주고 있다"
   ]
  },
  {
   "cell_type": "code",
   "execution_count": 47,
   "id": "b1d6e36d",
   "metadata": {},
   "outputs": [],
   "source": [
    "def get_similar_movie(movie_name: str):\n",
    "    movie_id = movie_to_idx[movie_name]\n",
    "    similar_movie = als_model1.similar_items(movie_id)\n",
    "    similar_movie = [idx_to_movie[i[0]] for i in similar_movie]\n",
    "    return similar_movie\n"
   ]
  },
  {
   "cell_type": "markdown",
   "id": "96f67959",
   "metadata": {},
   "source": [
    "#### 스타워즈나 매트릭스로 추천을 한번 더 받아보겠당"
   ]
  },
  {
   "cell_type": "code",
   "execution_count": 48,
   "id": "0487bfc1",
   "metadata": {},
   "outputs": [
    {
     "data": {
      "text/plain": [
       "['star wars: episode iv - a new hope (1977)',\n",
       " 'star wars: episode v - the empire strikes back (1980)',\n",
       " 'raiders of the lost ark (1981)',\n",
       " 'star wars: episode vi - return of the jedi (1983)',\n",
       " 'alien (1979)',\n",
       " 'star wars: episode i - the phantom menace (1999)',\n",
       " 'simon sez (1999)',\n",
       " 'loser (1991)',\n",
       " 'match, the (1999)',\n",
       " 'bushwhacked (1995)']"
      ]
     },
     "execution_count": 48,
     "metadata": {},
     "output_type": "execute_result"
    }
   ],
   "source": [
    "get_similar_movie('star wars: episode iv - a new hope (1977)')"
   ]
  },
  {
   "cell_type": "code",
   "execution_count": 49,
   "id": "db1fabd1",
   "metadata": {},
   "outputs": [
    {
     "data": {
      "text/plain": [
       "['matrix, the (1999)',\n",
       " 'terminator 2: judgment day (1991)',\n",
       " 'total recall (1990)',\n",
       " 'terminator, the (1984)',\n",
       " 'fugitive, the (1993)',\n",
       " 'fifth element, the (1997)',\n",
       " 'face/off (1997)',\n",
       " 'running free (2000)',\n",
       " 'star wars: episode v - the empire strikes back (1980)',\n",
       " 'surviving picasso (1996)']"
      ]
     },
     "execution_count": 49,
     "metadata": {},
     "output_type": "execute_result"
    }
   ],
   "source": [
    "get_similar_movie('matrix, the (1999)')"
   ]
  },
  {
   "cell_type": "markdown",
   "id": "e5e1be53",
   "metadata": {},
   "source": [
    "추천 시스템이 잘 작동하고 있다. 같은 판타지 계열인 것과 시리즈 물의 경우 후속 시리즈 물들을 추천해주고 있다"
   ]
  },
  {
   "cell_type": "markdown",
   "id": "38c97609",
   "metadata": {},
   "source": [
    "## 8) 내가 가장 좋아할 만한 영화들을 추천받아 봅시다."
   ]
  },
  {
   "cell_type": "code",
   "execution_count": 50,
   "id": "4e9c1d87",
   "metadata": {},
   "outputs": [
    {
     "data": {
      "text/plain": [
       "[(1099, 0.2000733),\n",
       " (1853, 0.18330666),\n",
       " (755, 0.17274795),\n",
       " (1852, 0.15515065),\n",
       " (1814, 0.12714317),\n",
       " (2537, 0.12584895),\n",
       " (461, 0.11412127),\n",
       " (859, 0.10772695),\n",
       " (1117, 0.09920907),\n",
       " (904, 0.09691189),\n",
       " (254, 0.08981713),\n",
       " (2027, 0.08960904),\n",
       " (1887, 0.089246005),\n",
       " (1470, 0.088773765),\n",
       " (878, 0.08842312),\n",
       " (788, 0.08746851),\n",
       " (1857, 0.084600545),\n",
       " (41, 0.08167934),\n",
       " (1808, 0.081001714),\n",
       " (2243, 0.08008744)]"
      ]
     },
     "execution_count": 50,
     "metadata": {},
     "output_type": "execute_result"
    }
   ],
   "source": [
    "user = user_to_idx['soon']\n",
    "# recommend에서는 user*item CSR Matrix를 받습니다.\n",
    "movie_recommended = als_model1.recommend(user, csr_data, N=20, filter_already_liked_items=True)\n",
    "movie_recommended"
   ]
  },
  {
   "cell_type": "code",
   "execution_count": 53,
   "id": "51b67c61",
   "metadata": {},
   "outputs": [
    {
     "data": {
      "text/plain": [
       "['contender, the (2000)',\n",
       " 'best in show (2000)',\n",
       " 'almost famous (2000)',\n",
       " 'dancer in the dark (2000)',\n",
       " 'nurse betty (2000)',\n",
       " 'girlfight (2000)',\n",
       " 'meet the parents (2000)',\n",
       " 'cell, the (2000)',\n",
       " 'virgin suicides, the (1999)',\n",
       " 'clockwork orange, a (1971)',\n",
       " 'pi (1998)',\n",
       " 'croupier (1998)',\n",
       " 'wonder boys (2000)',\n",
       " 'tao of steve, the (2000)',\n",
       " 'strange days (1995)',\n",
       " 'bringing out the dead (1999)',\n",
       " 'bring it on (2000)',\n",
       " 'rain man (1988)',\n",
       " 'chuck & buck (2000)',\n",
       " 'yards, the (1999)']"
      ]
     },
     "execution_count": 53,
     "metadata": {},
     "output_type": "execute_result"
    }
   ],
   "source": [
    "[idx_to_movie[i[0]] for i in artist_recommended]"
   ]
  },
  {
   "cell_type": "markdown",
   "id": "205581fb",
   "metadata": {},
   "source": [
    "## 회고 "
   ]
  },
  {
   "cell_type": "markdown",
   "id": "b0f5216a",
   "metadata": {},
   "source": [
    "바로 위에서 추천 받은 영화들 장르 대부분이 드라마이다. \n",
    "추가로 넣은 영화들 모두 드라마 장르가 공통되게 넣어서 가장 첫번째 영화로 contender 영화가 드라마 스릴러 장르로 드라마 계열 영화가 출력되는 것을 볼 수 있다.\n",
    "\n"
   ]
  },
  {
   "cell_type": "markdown",
   "id": "88b18c44",
   "metadata": {},
   "source": [
    "추천 시스템에서는 말했듯이 아주 추천이 잘된다."
   ]
  },
  {
   "cell_type": "markdown",
   "id": "8a60cd4c",
   "metadata": {},
   "source": [
    "하지만 내적을 계산하여 직접 값의 수치를 보는 것은 잘 이행되지 않았다. 앞서 말했듯이 contender 영화로 내적 값을 수행하였을 떄 0.2 밖에 나오지 않았다. 같은 조건으로 추천 받았을 떄 contender 영화가 추천 시스템으로 바로 상위권에 뜰 정도라면 0.8 정도의 내적 값이 나올줄 알았는데.. 0.2 라니.. 이것도 높은건가? 수치 값은 사실 잘 와닿지 않는다"
   ]
  },
  {
   "cell_type": "code",
   "execution_count": null,
   "id": "48f1a867",
   "metadata": {},
   "outputs": [],
   "source": []
  }
 ],
 "metadata": {
  "kernelspec": {
   "display_name": "Python 3 (ipykernel)",
   "language": "python",
   "name": "python3"
  },
  "language_info": {
   "codemirror_mode": {
    "name": "ipython",
    "version": 3
   },
   "file_extension": ".py",
   "mimetype": "text/x-python",
   "name": "python",
   "nbconvert_exporter": "python",
   "pygments_lexer": "ipython3",
   "version": "3.9.7"
  }
 },
 "nbformat": 4,
 "nbformat_minor": 5
}
