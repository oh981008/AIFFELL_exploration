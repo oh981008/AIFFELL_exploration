{
 "cells": [
  {
   "cell_type": "markdown",
   "id": "51f8b25c",
   "metadata": {},
   "source": [
    "## 프로젝트: 뉴스기사 요약해보기"
   ]
  },
  {
   "cell_type": "code",
   "execution_count": 1,
   "id": "561f44b5",
   "metadata": {},
   "outputs": [
    {
     "name": "stdout",
     "output_type": "stream",
     "text": [
      "3.6.5\n",
      "2.6.0\n",
      "1.2.0\n"
     ]
    }
   ],
   "source": [
    "from importlib.metadata import version\n",
    "import nltk\n",
    "import tensorflow\n",
    "import summa\n",
    "\n",
    "print(nltk.__version__)\n",
    "print(tensorflow.__version__)\n",
    "print(version('summa'))"
   ]
  },
  {
   "cell_type": "code",
   "execution_count": 2,
   "id": "0f93bedd",
   "metadata": {},
   "outputs": [
    {
     "name": "stderr",
     "output_type": "stream",
     "text": [
      "[nltk_data] Downloading package stopwords to /aiffel/nltk_data...\n",
      "[nltk_data]   Package stopwords is already up-to-date!\n"
     ]
    },
    {
     "name": "stdout",
     "output_type": "stream",
     "text": [
      "=3\n"
     ]
    }
   ],
   "source": [
    "import nltk\n",
    "nltk.download('stopwords')\n",
    "\n",
    "import numpy as np\n",
    "import pandas as pd\n",
    "import os\n",
    "import re\n",
    "import matplotlib.pyplot as plt\n",
    "from nltk.corpus import stopwords\n",
    "from bs4 import BeautifulSoup \n",
    "from tensorflow.keras.preprocessing.text import Tokenizer \n",
    "from tensorflow.keras.preprocessing.sequence import pad_sequences\n",
    "import urllib.request\n",
    "import warnings\n",
    "warnings.filterwarnings(\"ignore\", category=UserWarning, module='bs4')\n",
    "\n",
    "print('=3')"
   ]
  },
  {
   "cell_type": "code",
   "execution_count": 3,
   "id": "dd893436",
   "metadata": {},
   "outputs": [],
   "source": [
    "import pandas as pd\n",
    "import urllib.request\n",
    "urllib.request.urlretrieve(\"https://raw.githubusercontent.com/sunnysai12345/News_Summary/master/news_summary_more.csv\", filename=\"news_summary_more.csv\")\n",
    "data = pd.read_csv('news_summary_more.csv', encoding='iso-8859-1')"
   ]
  },
  {
   "cell_type": "code",
   "execution_count": 4,
   "id": "0e89220a",
   "metadata": {},
   "outputs": [
    {
     "data": {
      "text/html": [
       "<div>\n",
       "<style scoped>\n",
       "    .dataframe tbody tr th:only-of-type {\n",
       "        vertical-align: middle;\n",
       "    }\n",
       "\n",
       "    .dataframe tbody tr th {\n",
       "        vertical-align: top;\n",
       "    }\n",
       "\n",
       "    .dataframe thead th {\n",
       "        text-align: right;\n",
       "    }\n",
       "</style>\n",
       "<table border=\"1\" class=\"dataframe\">\n",
       "  <thead>\n",
       "    <tr style=\"text-align: right;\">\n",
       "      <th></th>\n",
       "      <th>headlines</th>\n",
       "      <th>text</th>\n",
       "    </tr>\n",
       "  </thead>\n",
       "  <tbody>\n",
       "    <tr>\n",
       "      <th>91824</th>\n",
       "      <td>Wheat production to touch record 98 MT this cr...</td>\n",
       "      <td>The government has predicted the country's whe...</td>\n",
       "    </tr>\n",
       "    <tr>\n",
       "      <th>8048</th>\n",
       "      <td>Hotel chain Marriott reveals hack affecting ha...</td>\n",
       "      <td>US hotel giant Marriott on Friday said the gue...</td>\n",
       "    </tr>\n",
       "    <tr>\n",
       "      <th>60768</th>\n",
       "      <td>TMC leader threatens to break legs of oppositi...</td>\n",
       "      <td>Alleging that they were playing \"dirty politic...</td>\n",
       "    </tr>\n",
       "    <tr>\n",
       "      <th>31857</th>\n",
       "      <td>Wish Rajasthan Royals had 2 or 3 Jos Buttlers:...</td>\n",
       "      <td>Following RR wicketkeeper Jos Buttler's match-...</td>\n",
       "    </tr>\n",
       "    <tr>\n",
       "      <th>74590</th>\n",
       "      <td>IndiGo, SpiceJet could be forced to move to De...</td>\n",
       "      <td>The Delhi Airport has asked IndiGo, SpiceJet a...</td>\n",
       "    </tr>\n",
       "    <tr>\n",
       "      <th>49445</th>\n",
       "      <td>Had to wait longer to get a milestone in my ca...</td>\n",
       "      <td>Shahid Kapoor said he always had to work much ...</td>\n",
       "    </tr>\n",
       "    <tr>\n",
       "      <th>7947</th>\n",
       "      <td>Mithali should work on game instead of mud-sli...</td>\n",
       "      <td>Former Indian cricketer Madan Lal said that Ra...</td>\n",
       "    </tr>\n",
       "    <tr>\n",
       "      <th>66841</th>\n",
       "      <td>Pakistan Army admits to links between ISI, ter...</td>\n",
       "      <td>Pakistan Army spokesperson Major General Asif ...</td>\n",
       "    </tr>\n",
       "    <tr>\n",
       "      <th>22088</th>\n",
       "      <td>Separatist group warns Amarinder citing ex-Pun...</td>\n",
       "      <td>A Twitter account purportedly operated by sepa...</td>\n",
       "    </tr>\n",
       "    <tr>\n",
       "      <th>90468</th>\n",
       "      <td>Modi govt electrifies 13k villages, 4k village...</td>\n",
       "      <td>Union Minister Piyush Goyal has said the remai...</td>\n",
       "    </tr>\n",
       "  </tbody>\n",
       "</table>\n",
       "</div>"
      ],
      "text/plain": [
       "                                               headlines  \\\n",
       "91824  Wheat production to touch record 98 MT this cr...   \n",
       "8048   Hotel chain Marriott reveals hack affecting ha...   \n",
       "60768  TMC leader threatens to break legs of oppositi...   \n",
       "31857  Wish Rajasthan Royals had 2 or 3 Jos Buttlers:...   \n",
       "74590  IndiGo, SpiceJet could be forced to move to De...   \n",
       "49445  Had to wait longer to get a milestone in my ca...   \n",
       "7947   Mithali should work on game instead of mud-sli...   \n",
       "66841  Pakistan Army admits to links between ISI, ter...   \n",
       "22088  Separatist group warns Amarinder citing ex-Pun...   \n",
       "90468  Modi govt electrifies 13k villages, 4k village...   \n",
       "\n",
       "                                                    text  \n",
       "91824  The government has predicted the country's whe...  \n",
       "8048   US hotel giant Marriott on Friday said the gue...  \n",
       "60768  Alleging that they were playing \"dirty politic...  \n",
       "31857  Following RR wicketkeeper Jos Buttler's match-...  \n",
       "74590  The Delhi Airport has asked IndiGo, SpiceJet a...  \n",
       "49445  Shahid Kapoor said he always had to work much ...  \n",
       "7947   Former Indian cricketer Madan Lal said that Ra...  \n",
       "66841  Pakistan Army spokesperson Major General Asif ...  \n",
       "22088  A Twitter account purportedly operated by sepa...  \n",
       "90468  Union Minister Piyush Goyal has said the remai...  "
      ]
     },
     "execution_count": 4,
     "metadata": {},
     "output_type": "execute_result"
    }
   ],
   "source": [
    "data.sample(10)"
   ]
  },
  {
   "cell_type": "markdown",
   "id": "6fdd1413",
   "metadata": {},
   "source": [
    "추상적 요약을 하는 경우에는 text를 본문, headlines를 이미 요약된 데이터로 삼아서 모델을 학습할 수 있어요. 추출적 요약을 하는 경우에는 오직 text열만을 사용"
   ]
  },
  {
   "cell_type": "markdown",
   "id": "eedd08c2",
   "metadata": {},
   "source": [
    "## Step 2. 데이터 전처리하기 (추상적 요약)"
   ]
  },
  {
   "cell_type": "markdown",
   "id": "7f853fc7",
   "metadata": {},
   "source": [
    " - 정규화 또는 정제\n",
    " - 불용어 제거를 선택한다면 상대적으로 길이가 짧은 요약 데이터에 대해서도 불용어를 제거하는 것이 좋을지 고민해 보세요."
   ]
  },
  {
   "cell_type": "markdown",
   "id": "e0848480",
   "metadata": {},
   "source": [
    "#### 중복 샘플과 NULL 값이 존재하는 샘플 제거"
   ]
  },
  {
   "cell_type": "code",
   "execution_count": 5,
   "id": "ac621e25",
   "metadata": {},
   "outputs": [
    {
     "data": {
      "text/plain": [
       "98401"
      ]
     },
     "execution_count": 5,
     "metadata": {},
     "output_type": "execute_result"
    }
   ],
   "source": [
    "# 전체 행 \n",
    "len(data['text'])"
   ]
  },
  {
   "cell_type": "code",
   "execution_count": 6,
   "id": "0d0f9798",
   "metadata": {},
   "outputs": [
    {
     "name": "stdout",
     "output_type": "stream",
     "text": [
      "Text 열에서 중복을 배제한 유일한 샘플의 수 : 98360\n",
      "Summary 열에서 중복을 배제한 유일한 샘플의 수 : 98280\n"
     ]
    }
   ],
   "source": [
    "print('Text 열에서 중복을 배제한 유일한 샘플의 수 :', data['text'].nunique())\n",
    "print('Summary 열에서 중복을 배제한 유일한 샘플의 수 :', data['headlines'].nunique())"
   ]
  },
  {
   "cell_type": "code",
   "execution_count": 7,
   "id": "65eae3ca",
   "metadata": {},
   "outputs": [
    {
     "name": "stdout",
     "output_type": "stream",
     "text": [
      "전체 샘플수 : 98360\n"
     ]
    }
   ],
   "source": [
    "# Text 자체가 중복이 된 경우는 중복 샘플이므로 제거\n",
    "# inplace=True 를 설정하면 DataFrame 타입 값을 return 하지 않고 data 내부를 직접적으로 바꿉니다\n",
    "data.drop_duplicates(subset = ['text'], inplace=True)\n",
    "print('전체 샘플수 :', (len(data)))"
   ]
  },
  {
   "cell_type": "code",
   "execution_count": 8,
   "id": "46a9423c",
   "metadata": {},
   "outputs": [
    {
     "name": "stdout",
     "output_type": "stream",
     "text": [
      "headlines    0\n",
      "text         0\n",
      "dtype: int64\n"
     ]
    }
   ],
   "source": [
    "#데이터 null값 확인 \n",
    "print(data.isnull().sum())"
   ]
  },
  {
   "cell_type": "markdown",
   "id": "de855dc6",
   "metadata": {},
   "source": [
    "#### 텍스트 정규화"
   ]
  },
  {
   "cell_type": "code",
   "execution_count": 9,
   "id": "811edfed",
   "metadata": {},
   "outputs": [
    {
     "name": "stdout",
     "output_type": "stream",
     "text": [
      "정규화 사전의 수:  120\n"
     ]
    }
   ],
   "source": [
    "contractions = {\"ain't\": \"is not\", \"aren't\": \"are not\",\"can't\": \"cannot\", \"'cause\": \"because\", \"could've\": \"could have\", \"couldn't\": \"could not\",\n",
    "                           \"didn't\": \"did not\",  \"doesn't\": \"does not\", \"don't\": \"do not\", \"hadn't\": \"had not\", \"hasn't\": \"has not\", \"haven't\": \"have not\",\n",
    "                           \"he'd\": \"he would\",\"he'll\": \"he will\", \"he's\": \"he is\", \"how'd\": \"how did\", \"how'd'y\": \"how do you\", \"how'll\": \"how will\", \"how's\": \"how is\",\n",
    "                           \"I'd\": \"I would\", \"I'd've\": \"I would have\", \"I'll\": \"I will\", \"I'll've\": \"I will have\",\"I'm\": \"I am\", \"I've\": \"I have\", \"i'd\": \"i would\",\n",
    "                           \"i'd've\": \"i would have\", \"i'll\": \"i will\",  \"i'll've\": \"i will have\",\"i'm\": \"i am\", \"i've\": \"i have\", \"isn't\": \"is not\", \"it'd\": \"it would\",\n",
    "                           \"it'd've\": \"it would have\", \"it'll\": \"it will\", \"it'll've\": \"it will have\",\"it's\": \"it is\", \"let's\": \"let us\", \"ma'am\": \"madam\",\n",
    "                           \"mayn't\": \"may not\", \"might've\": \"might have\",\"mightn't\": \"might not\",\"mightn't've\": \"might not have\", \"must've\": \"must have\",\n",
    "                           \"mustn't\": \"must not\", \"mustn't've\": \"must not have\", \"needn't\": \"need not\", \"needn't've\": \"need not have\",\"o'clock\": \"of the clock\",\n",
    "                           \"oughtn't\": \"ought not\", \"oughtn't've\": \"ought not have\", \"shan't\": \"shall not\", \"sha'n't\": \"shall not\", \"shan't've\": \"shall not have\",\n",
    "                           \"she'd\": \"she would\", \"she'd've\": \"she would have\", \"she'll\": \"she will\", \"she'll've\": \"she will have\", \"she's\": \"she is\",\n",
    "                           \"should've\": \"should have\", \"shouldn't\": \"should not\", \"shouldn't've\": \"should not have\", \"so've\": \"so have\",\"so's\": \"so as\",\n",
    "                           \"this's\": \"this is\",\"that'd\": \"that would\", \"that'd've\": \"that would have\", \"that's\": \"that is\", \"there'd\": \"there would\",\n",
    "                           \"there'd've\": \"there would have\", \"there's\": \"there is\", \"here's\": \"here is\",\"they'd\": \"they would\", \"they'd've\": \"they would have\",\n",
    "                           \"they'll\": \"they will\", \"they'll've\": \"they will have\", \"they're\": \"they are\", \"they've\": \"they have\", \"to've\": \"to have\",\n",
    "                           \"wasn't\": \"was not\", \"we'd\": \"we would\", \"we'd've\": \"we would have\", \"we'll\": \"we will\", \"we'll've\": \"we will have\", \"we're\": \"we are\",\n",
    "                           \"we've\": \"we have\", \"weren't\": \"were not\", \"what'll\": \"what will\", \"what'll've\": \"what will have\", \"what're\": \"what are\",\n",
    "                           \"what's\": \"what is\", \"what've\": \"what have\", \"when's\": \"when is\", \"when've\": \"when have\", \"where'd\": \"where did\", \"where's\": \"where is\",\n",
    "                           \"where've\": \"where have\", \"who'll\": \"who will\", \"who'll've\": \"who will have\", \"who's\": \"who is\", \"who've\": \"who have\",\n",
    "                           \"why's\": \"why is\", \"why've\": \"why have\", \"will've\": \"will have\", \"won't\": \"will not\", \"won't've\": \"will not have\",\n",
    "                           \"would've\": \"would have\", \"wouldn't\": \"would not\", \"wouldn't've\": \"would not have\", \"y'all\": \"you all\",\n",
    "                           \"y'all'd\": \"you all would\",\"y'all'd've\": \"you all would have\",\"y'all're\": \"you all are\",\"y'all've\": \"you all have\",\n",
    "                           \"you'd\": \"you would\", \"you'd've\": \"you would have\", \"you'll\": \"you will\", \"you'll've\": \"you will have\",\n",
    "                           \"you're\": \"you are\", \"you've\": \"you have\"}\n",
    "\n",
    "print(\"정규화 사전의 수: \", len(contractions))"
   ]
  },
  {
   "cell_type": "markdown",
   "id": "ff3db90d",
   "metadata": {},
   "source": [
    "#### 불용어 리스트  및 불용어 제거\n",
    "- NLTK에서 제공하는 불용어 리스트"
   ]
  },
  {
   "cell_type": "code",
   "execution_count": 10,
   "id": "0810356c",
   "metadata": {},
   "outputs": [
    {
     "name": "stdout",
     "output_type": "stream",
     "text": [
      "불용어 개수 : 179\n",
      "['i', 'me', 'my', 'myself', 'we', 'our', 'ours', 'ourselves', 'you', \"you're\", \"you've\", \"you'll\", \"you'd\", 'your', 'yours', 'yourself', 'yourselves', 'he', 'him', 'his', 'himself', 'she', \"she's\", 'her', 'hers', 'herself', 'it', \"it's\", 'its', 'itself', 'they', 'them', 'their', 'theirs', 'themselves', 'what', 'which', 'who', 'whom', 'this', 'that', \"that'll\", 'these', 'those', 'am', 'is', 'are', 'was', 'were', 'be', 'been', 'being', 'have', 'has', 'had', 'having', 'do', 'does', 'did', 'doing', 'a', 'an', 'the', 'and', 'but', 'if', 'or', 'because', 'as', 'until', 'while', 'of', 'at', 'by', 'for', 'with', 'about', 'against', 'between', 'into', 'through', 'during', 'before', 'after', 'above', 'below', 'to', 'from', 'up', 'down', 'in', 'out', 'on', 'off', 'over', 'under', 'again', 'further', 'then', 'once', 'here', 'there', 'when', 'where', 'why', 'how', 'all', 'any', 'both', 'each', 'few', 'more', 'most', 'other', 'some', 'such', 'no', 'nor', 'not', 'only', 'own', 'same', 'so', 'than', 'too', 'very', 's', 't', 'can', 'will', 'just', 'don', \"don't\", 'should', \"should've\", 'now', 'd', 'll', 'm', 'o', 're', 've', 'y', 'ain', 'aren', \"aren't\", 'couldn', \"couldn't\", 'didn', \"didn't\", 'doesn', \"doesn't\", 'hadn', \"hadn't\", 'hasn', \"hasn't\", 'haven', \"haven't\", 'isn', \"isn't\", 'ma', 'mightn', \"mightn't\", 'mustn', \"mustn't\", 'needn', \"needn't\", 'shan', \"shan't\", 'shouldn', \"shouldn't\", 'wasn', \"wasn't\", 'weren', \"weren't\", 'won', \"won't\", 'wouldn', \"wouldn't\"]\n"
     ]
    }
   ],
   "source": [
    "print('불용어 개수 :', len(stopwords.words('english') ))\n",
    "print(stopwords.words('english'))"
   ]
  },
  {
   "cell_type": "code",
   "execution_count": 11,
   "id": "e8dbf352",
   "metadata": {},
   "outputs": [],
   "source": [
    "# 데이터 전처리 함수\n",
    "def preprocess_sentence(sentence, remove_stopwords=True):\n",
    "    sentence = sentence.lower() # 텍스트 소문자화\n",
    "    sentence = BeautifulSoup(sentence, \"lxml\").text # <br />, <a href = ...> 등의 html 태그 제거\n",
    "    sentence = re.sub(r'\\([^)]*\\)', '', sentence) # 괄호로 닫힌 문자열 (...) 제거 Ex) my husband (and myself!) for => my husband for\n",
    "    sentence = re.sub('\"','', sentence) # 쌍따옴표 \" 제거\n",
    "    sentence = ' '.join([contractions[t] if t in contractions else t for t in sentence.split(\" \")]) # 약어 정규화\n",
    "    sentence = re.sub(r\"'s\\b\",\"\", sentence) # 소유격 제거. Ex) roland's -> roland\n",
    "    sentence = re.sub(\"[^a-zA-Z]\", \" \", sentence) # 영어 외 문자(숫자, 특수문자 등) 공백으로 변환\n",
    "    sentence = re.sub('[m]{2,}', 'mm', sentence) # m이 3개 이상이면 2개로 변경. Ex) ummmmmmm yeah -> umm yeah\n",
    "    \n",
    "    # 불용어 제거 (Text)\n",
    "    if remove_stopwords:\n",
    "        tokens = ' '.join(word for word in sentence.split() if not word in stopwords.words('english') if len(word) > 1)\n",
    "    # 불용어 미제거 (Summary)\n",
    "    else:\n",
    "        tokens = ' '.join(word for word in sentence.split() if len(word) > 1)\n",
    "    return tokens"
   ]
  },
  {
   "cell_type": "code",
   "execution_count": 13,
   "id": "a1c82247",
   "metadata": {},
   "outputs": [
    {
     "name": "stdout",
     "output_type": "stream",
     "text": [
      "text:  everything bought great infact ordered twice third ordered wasfor mother father\n",
      "headlines: great way to start the day\n"
     ]
    }
   ],
   "source": [
    "# 전처리 전, 후의 결과를 확인하기 위해서 임의의 text와 summary를 만들어 함수를 호출\n",
    "\n",
    "temp_text = 'Everything I bought was great, infact I ordered twice and the third ordered was<br />for my mother and father.'\n",
    "temp_headlines = 'Great way to start (or finish) the day!!!'\n",
    "\n",
    "print(\"text: \", preprocess_sentence(temp_text))\n",
    "print(\"headlines:\", preprocess_sentence(temp_headlines, False))  # 불용어를 제거하지 않습니다."
   ]
  },
  {
   "cell_type": "code",
   "execution_count": 14,
   "id": "0ca8c46f",
   "metadata": {},
   "outputs": [
    {
     "name": "stdout",
     "output_type": "stream",
     "text": [
      "text 전처리 후 결과:  ['saurav kant alumnus upgrad iiit pg program machine learning artificial intelligence sr systems engineer infosys almost years work experience program upgrad degree career support helped transition data scientist tech mahindra salary hike upgrad online power learning powered lakh careers', 'kunal shah credit card bill payment platform cred gave users chance win free food swiggy one year pranav kaushik delhi techie bagged reward spending cred coins users get one cred coin per rupee bill paid used avail rewards brands like ixigo bookmyshow ubereats cult fit', 'new zealand defeated india wickets fourth odi hamilton thursday win first match five match odi series india lost international match rohit sharma captaincy consecutive victories dating back march match witnessed india getting seventh lowest total odi cricket history', 'aegon life iterm insurance plan customers enjoy tax benefits premiums paid save taxes plan provides life cover age years also customers options insure critical illnesses disability accidental death benefit rider life cover age years', 'speaking sexual harassment allegations rajkumar hirani sonam kapoor said known hirani many years true metoo movement get derailed metoo movement always believe woman case need reserve judgment added hirani accused assistant worked sanju']\n"
     ]
    }
   ],
   "source": [
    "# Texts는 불용어 제거, Summary 불용어를 제거하지 않음\n",
    "clean_text = []\n",
    "\n",
    "for s in data['text']:\n",
    "    clean_text.append(preprocess_sentence(s))\n",
    "\n",
    "print(\"text 전처리 후 결과: \", clean_text[:5])"
   ]
  },
  {
   "cell_type": "code",
   "execution_count": 15,
   "id": "0de0c574",
   "metadata": {},
   "outputs": [
    {
     "name": "stdout",
     "output_type": "stream",
     "text": [
      "Summary 전처리 후 결과:  ['upgrad learner switches to career in ml al with salary hike', 'delhi techie wins free food from swiggy for one year on cred', 'new zealand end rohit sharma led india match winning streak', 'aegon life iterm insurance plan helps customers save tax', 'have known hirani for yrs what if metoo claims are not true sonam']\n"
     ]
    }
   ],
   "source": [
    "#요약에는 불용어 제거 안함 \n",
    "clean_headlines = []\n",
    "# 전체 Summary 데이터에 대한 전처리 : 5분 이상 시간이 걸릴 수 있습니다. \n",
    "for s in data['headlines']:\n",
    "    clean_headlines.append(preprocess_sentence(s, False))\n",
    "\n",
    "print(\"Summary 전처리 후 결과: \", clean_headlines[:5])"
   ]
  },
  {
   "cell_type": "code",
   "execution_count": 16,
   "id": "81240d0e",
   "metadata": {},
   "outputs": [],
   "source": [
    "# 빈값을 가진 샘플들이 있다면 null 샘플로 대체 \n",
    "data['text'] = clean_text\n",
    "data['headlines'] = clean_headlines\n",
    "\n",
    "# 빈 값을 Null 값으로 변환\n",
    "data.replace('', np.nan, inplace=True)"
   ]
  },
  {
   "cell_type": "code",
   "execution_count": 17,
   "id": "507095c7",
   "metadata": {},
   "outputs": [
    {
     "data": {
      "text/plain": [
       "headlines    0\n",
       "text         0\n",
       "dtype: int64"
      ]
     },
     "execution_count": 17,
     "metadata": {},
     "output_type": "execute_result"
    }
   ],
   "source": [
    "data.isnull().sum()"
   ]
  },
  {
   "cell_type": "markdown",
   "id": "1bfadd84",
   "metadata": {},
   "source": [
    "#### 훈련 데이터와 테스트 데이터 나누기"
   ]
  },
  {
   "cell_type": "code",
   "execution_count": 18,
   "id": "19eb2c35",
   "metadata": {},
   "outputs": [
    {
     "name": "stdout",
     "output_type": "stream",
     "text": [
      "텍스트의 최소 길이 : 1\n",
      "텍스트의 최대 길이 : 60\n",
      "텍스트의 평균 길이 : 35.09968483123221\n",
      "요약의 최소 길이 : 1\n",
      "요약의 최대 길이 : 16\n",
      "요약의 평균 길이 : 9.299532330215534\n"
     ]
    },
    {
     "data": {
      "image/png": "[encoded data removed]",
      "text/plain": [
       "<Figure size 432x288 with 2 Axes>"
      ]
     },
     "metadata": {
      "needs_background": "light"
     },
     "output_type": "display_data"
    },
    {
     "data": {
      "image/png": "[encoded data removed]",
      "text/plain": [
       "<Figure size 432x288 with 1 Axes>"
      ]
     },
     "metadata": {
      "needs_background": "light"
     },
     "output_type": "display_data"
    },
    {
     "data": {
      "image/png": "[encoded data removed]",
      "text/plain": [
       "<Figure size 432x288 with 1 Axes>"
      ]
     },
     "metadata": {
      "needs_background": "light"
     },
     "output_type": "display_data"
    }
   ],
   "source": [
    "#샘플 길이 구하기 \n",
    "\n",
    "# 길이 분포 출력\n",
    "import matplotlib.pyplot as plt\n",
    "\n",
    "text_len = [len(s.split()) for s in data['text']]\n",
    "headlines_len = [len(s.split()) for s in data['headlines']]\n",
    "\n",
    "print('텍스트의 최소 길이 : {}'.format(np.min(text_len)))\n",
    "print('텍스트의 최대 길이 : {}'.format(np.max(text_len)))\n",
    "print('텍스트의 평균 길이 : {}'.format(np.mean(text_len)))\n",
    "print('요약의 최소 길이 : {}'.format(np.min(headlines_len)))\n",
    "print('요약의 최대 길이 : {}'.format(np.max(headlines_len)))\n",
    "print('요약의 평균 길이 : {}'.format(np.mean(headlines_len)))\n",
    "\n",
    "plt.subplot(1,2,1)\n",
    "plt.boxplot(text_len)\n",
    "plt.title('text')\n",
    "plt.subplot(1,2,2)\n",
    "plt.boxplot(headlines_len)\n",
    "plt.title('headlines')\n",
    "plt.tight_layout()\n",
    "plt.show()\n",
    "\n",
    "plt.title('text')\n",
    "plt.hist(text_len, bins = 40)\n",
    "plt.xlabel('length of samples')\n",
    "plt.ylabel('number of samples')\n",
    "plt.show()\n",
    "\n",
    "plt.title('headlines')\n",
    "plt.hist(headlines_len, bins = 40)\n",
    "plt.xlabel('length of samples')\n",
    "plt.ylabel('number of samples')\n",
    "plt.show()"
   ]
  },
  {
   "cell_type": "markdown",
   "id": "396b9b94",
   "metadata": {},
   "source": [
    "Text의 경우 최소 길이가 2, 최대 길이가 60,. 하지만 평균 길이는 35로 시각화된 그래프로 봤을 때는 대체적으로는 60 내외의 길이를 가진다는 것을 확인할 수 있음.\n",
    "\n",
    "헤드라인의 경우 최소 길이가 1, 최대 길이가 16, 그리고 평균 길이가 9로 Text에 비해 상대적으로 길이가 매우 짧아요. 그래프로 봤을 때에도 대체적으로 16이하의 길이를 가지고 있음"
   ]
  },
  {
   "cell_type": "code",
   "execution_count": 19,
   "id": "873d7dee",
   "metadata": {},
   "outputs": [],
   "source": [
    "text_max_len = 40\n",
    "headlines_max_len = 13"
   ]
  },
  {
   "cell_type": "code",
   "execution_count": 20,
   "id": "c31e5a84",
   "metadata": {},
   "outputs": [],
   "source": [
    "def below_threshold_len(max_len, nested_list):\n",
    "  cnt = 0\n",
    "  for s in nested_list:\n",
    "    if(len(s.split()) <= max_len):\n",
    "        cnt = cnt + 1\n",
    "  print('전체 샘플 중 길이가 %s 이하인 샘플의 비율: %s'%(max_len, (cnt / len(nested_list))))"
   ]
  },
  {
   "cell_type": "code",
   "execution_count": 21,
   "id": "569cc573",
   "metadata": {},
   "outputs": [
    {
     "name": "stdout",
     "output_type": "stream",
     "text": [
      "전체 샘플 중 길이가 40 이하인 샘플의 비율: 0.9238714924766165\n",
      "전체 샘플 중 길이가 13 이하인 샘플의 비율: 0.9981699877999186\n"
     ]
    }
   ],
   "source": [
    "below_threshold_len(text_max_len, data['text'])\n",
    "below_threshold_len(headlines_max_len,  data['headlines'])"
   ]
  },
  {
   "cell_type": "code",
   "execution_count": 22,
   "id": "f2d8cda0",
   "metadata": {},
   "outputs": [
    {
     "name": "stdout",
     "output_type": "stream",
     "text": [
      "전체 샘플수 : 90700\n"
     ]
    }
   ],
   "source": [
    "data = data[data['text'].apply(lambda x: len(x.split()) <= text_max_len)]\n",
    "data = data[data['headlines'].apply(lambda x: len(x.split()) <= headlines_max_len)]\n",
    "print('전체 샘플수 :', (len(data)))"
   ]
  },
  {
   "cell_type": "markdown",
   "id": "5bd43384",
   "metadata": {},
   "source": [
    "#### 시작토큰 종료토큰 추가"
   ]
  },
  {
   "cell_type": "code",
   "execution_count": 23,
   "id": "67c1b0f9",
   "metadata": {},
   "outputs": [
    {
     "data": {
      "text/html": [
       "<div>\n",
       "<style scoped>\n",
       "    .dataframe tbody tr th:only-of-type {\n",
       "        vertical-align: middle;\n",
       "    }\n",
       "\n",
       "    .dataframe tbody tr th {\n",
       "        vertical-align: top;\n",
       "    }\n",
       "\n",
       "    .dataframe thead th {\n",
       "        text-align: right;\n",
       "    }\n",
       "</style>\n",
       "<table border=\"1\" class=\"dataframe\">\n",
       "  <thead>\n",
       "    <tr style=\"text-align: right;\">\n",
       "      <th></th>\n",
       "      <th>headlines</th>\n",
       "      <th>text</th>\n",
       "      <th>decoder_input</th>\n",
       "      <th>decoder_target</th>\n",
       "    </tr>\n",
       "  </thead>\n",
       "  <tbody>\n",
       "    <tr>\n",
       "      <th>0</th>\n",
       "      <td>upgrad learner switches to career in ml al wit...</td>\n",
       "      <td>saurav kant alumnus upgrad iiit pg program mac...</td>\n",
       "      <td>sostoken upgrad learner switches to career in ...</td>\n",
       "      <td>upgrad learner switches to career in ml al wit...</td>\n",
       "    </tr>\n",
       "    <tr>\n",
       "      <th>2</th>\n",
       "      <td>new zealand end rohit sharma led india match w...</td>\n",
       "      <td>new zealand defeated india wickets fourth odi ...</td>\n",
       "      <td>sostoken new zealand end rohit sharma led indi...</td>\n",
       "      <td>new zealand end rohit sharma led india match w...</td>\n",
       "    </tr>\n",
       "    <tr>\n",
       "      <th>3</th>\n",
       "      <td>aegon life iterm insurance plan helps customer...</td>\n",
       "      <td>aegon life iterm insurance plan customers enjo...</td>\n",
       "      <td>sostoken aegon life iterm insurance plan helps...</td>\n",
       "      <td>aegon life iterm insurance plan helps customer...</td>\n",
       "    </tr>\n",
       "    <tr>\n",
       "      <th>4</th>\n",
       "      <td>have known hirani for yrs what if metoo claims...</td>\n",
       "      <td>speaking sexual harassment allegations rajkuma...</td>\n",
       "      <td>sostoken have known hirani for yrs what if met...</td>\n",
       "      <td>have known hirani for yrs what if metoo claims...</td>\n",
       "    </tr>\n",
       "    <tr>\n",
       "      <th>5</th>\n",
       "      <td>rahat fateh ali khan denies getting notice for...</td>\n",
       "      <td>pakistani singer rahat fateh ali khan denied r...</td>\n",
       "      <td>sostoken rahat fateh ali khan denies getting n...</td>\n",
       "      <td>rahat fateh ali khan denies getting notice for...</td>\n",
       "    </tr>\n",
       "  </tbody>\n",
       "</table>\n",
       "</div>"
      ],
      "text/plain": [
       "                                           headlines  \\\n",
       "0  upgrad learner switches to career in ml al wit...   \n",
       "2  new zealand end rohit sharma led india match w...   \n",
       "3  aegon life iterm insurance plan helps customer...   \n",
       "4  have known hirani for yrs what if metoo claims...   \n",
       "5  rahat fateh ali khan denies getting notice for...   \n",
       "\n",
       "                                                text  \\\n",
       "0  saurav kant alumnus upgrad iiit pg program mac...   \n",
       "2  new zealand defeated india wickets fourth odi ...   \n",
       "3  aegon life iterm insurance plan customers enjo...   \n",
       "4  speaking sexual harassment allegations rajkuma...   \n",
       "5  pakistani singer rahat fateh ali khan denied r...   \n",
       "\n",
       "                                       decoder_input  \\\n",
       "0  sostoken upgrad learner switches to career in ...   \n",
       "2  sostoken new zealand end rohit sharma led indi...   \n",
       "3  sostoken aegon life iterm insurance plan helps...   \n",
       "4  sostoken have known hirani for yrs what if met...   \n",
       "5  sostoken rahat fateh ali khan denies getting n...   \n",
       "\n",
       "                                      decoder_target  \n",
       "0  upgrad learner switches to career in ml al wit...  \n",
       "2  new zealand end rohit sharma led india match w...  \n",
       "3  aegon life iterm insurance plan helps customer...  \n",
       "4  have known hirani for yrs what if metoo claims...  \n",
       "5  rahat fateh ali khan denies getting notice for...  "
      ]
     },
     "execution_count": 23,
     "metadata": {},
     "output_type": "execute_result"
    }
   ],
   "source": [
    "# 헤드ㅏ링ㅇ 데이터에는 시작 토큰과 종료 토큰을 추가한다.\n",
    "data['decoder_input'] = data['headlines'].apply(lambda x : 'sostoken '+ x)\n",
    "data['decoder_target'] = data['headlines'].apply(lambda x : x + ' eostoken')\n",
    "data.head()"
   ]
  },
  {
   "cell_type": "code",
   "execution_count": 24,
   "id": "9ca797fd",
   "metadata": {},
   "outputs": [],
   "source": [
    "encoder_input = np.array(data['text']) # 인코더의 입력\n",
    "decoder_input = np.array(data['decoder_input']) # 디코더의 입력\n",
    "decoder_target = np.array(data['decoder_target']) # 디코더의 레이블"
   ]
  },
  {
   "cell_type": "code",
   "execution_count": 25,
   "id": "3a971de4",
   "metadata": {},
   "outputs": [
    {
     "data": {
      "text/plain": [
       "array(['saurav kant alumnus upgrad iiit pg program machine learning artificial intelligence sr systems engineer infosys almost years work experience program upgrad degree career support helped transition data scientist tech mahindra salary hike upgrad online power learning powered lakh careers',\n",
       "       'new zealand defeated india wickets fourth odi hamilton thursday win first match five match odi series india lost international match rohit sharma captaincy consecutive victories dating back march match witnessed india getting seventh lowest total odi cricket history',\n",
       "       'aegon life iterm insurance plan customers enjoy tax benefits premiums paid save taxes plan provides life cover age years also customers options insure critical illnesses disability accidental death benefit rider life cover age years',\n",
       "       ...,\n",
       "       'according reports new version science fiction film matrix development michael jordan reportedly play lead role film screenwriter zak penn talks write script film reports added actor keanu reeves starred original film followed two sequels',\n",
       "       'new music video shows rapper snoop dogg aiming toy gun clown character parodying us president donald trump video also shows tv airing news conference headline ronald klump wants deport doggs airing live clown house video remixed version song lavender',\n",
       "       'madhesi morcha alliance seven political parties withdrawn support pm pushpa kamal dahal led nepal government failed meet seven day ultimatum fulfil demands including endorsement revised constitution amendment bill morcha seats parliament despite withdrawal support immediate threat government'],\n",
       "      dtype=object)"
      ]
     },
     "execution_count": 25,
     "metadata": {},
     "output_type": "execute_result"
    }
   ],
   "source": [
    "encoder_input"
   ]
  },
  {
   "cell_type": "code",
   "execution_count": 26,
   "id": "e6544d5a",
   "metadata": {},
   "outputs": [
    {
     "data": {
      "text/plain": [
       "array(['sostoken upgrad learner switches to career in ml al with salary hike',\n",
       "       'sostoken new zealand end rohit sharma led india match winning streak',\n",
       "       'sostoken aegon life iterm insurance plan helps customers save tax',\n",
       "       ..., 'sostoken the matrix film to get reboot reports',\n",
       "       'sostoken snoop dogg aims gun at clown dressed as trump in new video',\n",
       "       'sostoken madhesi morcha withdraws support to nepalese government'],\n",
       "      dtype=object)"
      ]
     },
     "execution_count": 26,
     "metadata": {},
     "output_type": "execute_result"
    }
   ],
   "source": [
    "decoder_input"
   ]
  },
  {
   "cell_type": "markdown",
   "id": "2dd5304e",
   "metadata": {},
   "source": [
    "#### 훈련 데이터 테스트 데이터 분ㄴ리 "
   ]
  },
  {
   "cell_type": "code",
   "execution_count": 27,
   "id": "c0ff1ff2",
   "metadata": {},
   "outputs": [
    {
     "name": "stdout",
     "output_type": "stream",
     "text": [
      "[ 7878  7847 77463 ... 78020 88396 80750]\n"
     ]
    }
   ],
   "source": [
    "indices = np.arange(encoder_input.shape[0])\n",
    "np.random.shuffle(indices)\n",
    "print(indices) #정수 시퀀스 만듦 "
   ]
  },
  {
   "cell_type": "code",
   "execution_count": 28,
   "id": "727f359e",
   "metadata": {},
   "outputs": [],
   "source": [
    "encoder_input = encoder_input[indices]\n",
    "decoder_input = decoder_input[indices]\n",
    "decoder_target = decoder_target[indices]"
   ]
  },
  {
   "cell_type": "code",
   "execution_count": 29,
   "id": "30321075",
   "metadata": {},
   "outputs": [
    {
     "name": "stdout",
     "output_type": "stream",
     "text": [
      "테스트 데이터의 수 : 18140\n"
     ]
    }
   ],
   "source": [
    "# 2:8의 비율로 나눔 테스트가 2\n",
    "n_of_val = int(len(encoder_input)*0.2)\n",
    "print('테스트 데이터의 수 :', n_of_val)"
   ]
  },
  {
   "cell_type": "code",
   "execution_count": 30,
   "id": "8c0eaf4b",
   "metadata": {},
   "outputs": [
    {
     "name": "stdout",
     "output_type": "stream",
     "text": [
      "훈련 데이터의 개수 : 72560\n",
      "훈련 레이블의 개수 : 72560\n",
      "테스트 데이터의 개수 : 18140\n",
      "테스트 레이블의 개수 : 18140\n"
     ]
    }
   ],
   "source": [
    "encoder_input_train = encoder_input[:-n_of_val]\n",
    "decoder_input_train = decoder_input[:-n_of_val]\n",
    "decoder_target_train = decoder_target[:-n_of_val]\n",
    "\n",
    "encoder_input_test = encoder_input[-n_of_val:]\n",
    "decoder_input_test = decoder_input[-n_of_val:]\n",
    "decoder_target_test = decoder_target[-n_of_val:]\n",
    "\n",
    "print('훈련 데이터의 개수 :', len(encoder_input_train))\n",
    "print('훈련 레이블의 개수 :', len(decoder_input_train))\n",
    "print('테스트 데이터의 개수 :', len(encoder_input_test))\n",
    "print('테스트 레이블의 개수 :', len(decoder_input_test))"
   ]
  },
  {
   "cell_type": "code",
   "execution_count": 31,
   "id": "b564a1dd",
   "metadata": {},
   "outputs": [
    {
     "data": {
      "text/plain": [
       "array(['ex india batsman vvs laxman said virat kohli good captain still work progress virat knows missed great opportunity south africa england team superior occasions opposition added success overseas tours gain experience captain said',\n",
       "       'iranian supreme leader ayatollah ali khamenei said us targeting middle east fears islamic awakening region world powers headed america afraid blows suffered wherever islam spread peoples hearts added tension us iran increased us pulled nuclear deal',\n",
       "       'robert pious one convicts rajiv gandhi assassination case written tamil nadu government seeking mercy killing prison years understand intention government none family members come see find anymore purpose life said',\n",
       "       ...,\n",
       "       'kamal haasan said think regional version reality show bigg boss hosting tarnishing tamil culture nationalistic hindu party filed police complaint show needs banned people perhaps watched similar shows bigg boss necessary cricket india added haasan',\n",
       "       'year old female television journalist subarna nodi hacked death unidentified assailants home bangladesh pabna district unidentified assailants rang doorbell around pm tuesday hacked subarna indiscriminately opened door police said adding leads regarding motive police said trying find killers',\n",
       "       'congress said struggling find enough helicopters ferry leaders lok sabha election campaigning cornered bjp massive resources money disposal pre booked fleets congress leader anand sharma alleged denying charge bjp called congress machine lies'],\n",
       "      dtype=object)"
      ]
     },
     "execution_count": 31,
     "metadata": {},
     "output_type": "execute_result"
    }
   ],
   "source": [
    "encoder_input_train"
   ]
  },
  {
   "cell_type": "code",
   "execution_count": 32,
   "id": "f5868c6b",
   "metadata": {},
   "outputs": [
    {
     "data": {
      "text/plain": [
       "array(['sostoken kohli is good captain but still work in progress vvs laxman',\n",
       "       'sostoken us targets middle east as it fears islamic awakening iran leader',\n",
       "       'sostoken rajiv gandhi killer jailed since seeks mercy killing',\n",
       "       ...,\n",
       "       'sostoken do not think bigg boss is tarnishing tamil culture haasan',\n",
       "       'sostoken female tv journalist hacked to death at home in bangladesh',\n",
       "       'sostoken bjp booked most of the helicopters we cannot find any congress'],\n",
       "      dtype=object)"
      ]
     },
     "execution_count": 32,
     "metadata": {},
     "output_type": "execute_result"
    }
   ],
   "source": [
    "decoder_input_train"
   ]
  },
  {
   "cell_type": "markdown",
   "id": "aa4f19bd",
   "metadata": {},
   "source": [
    "#### 정수 인코딩"
   ]
  },
  {
   "cell_type": "code",
   "execution_count": 33,
   "id": "954c0da3",
   "metadata": {},
   "outputs": [],
   "source": [
    "src_tokenizer = Tokenizer() # 토크나이저 정의\n",
    "src_tokenizer.fit_on_texts(encoder_input_train) # 입력된 데이터로부터 단어 집합 생성"
   ]
  },
  {
   "cell_type": "code",
   "execution_count": 34,
   "id": "4761f356",
   "metadata": {},
   "outputs": [
    {
     "name": "stdout",
     "output_type": "stream",
     "text": [
      "단어 집합(vocabulary)의 크기 : 65730\n",
      "등장 빈도가 6번 이하인 희귀 단어의 수: 44735\n",
      "단어 집합에서 희귀 단어를 제외시킬 경우의 단어 집합의 크기 20995\n",
      "단어 집합에서 희귀 단어의 비율: 68.05872508747908\n",
      "전체 등장 빈도에서 희귀 단어 등장 빈도 비율: 3.635766788894542\n"
     ]
    }
   ],
   "source": [
    "threshold = 7\n",
    "total_cnt = len(src_tokenizer.word_index) # 단어의 수\n",
    "rare_cnt = 0 # 등장 빈도수가 threshold보다 작은 단어의 개수를 카운트\n",
    "total_freq = 0 # 훈련 데이터의 전체 단어 빈도수 총 합\n",
    "rare_freq = 0 # 등장 빈도수가 threshold보다 작은 단어의 등장 빈도수의 총 합\n",
    "\n",
    "# 단어와 빈도수의 쌍(pair)을 key와 value로 받는다.\n",
    "for key, value in src_tokenizer.word_counts.items():\n",
    "    total_freq = total_freq + value\n",
    "\n",
    "    # 단어의 등장 빈도수가 threshold보다 작으면\n",
    "    if(value < threshold):\n",
    "        rare_cnt = rare_cnt + 1\n",
    "        rare_freq = rare_freq + value\n",
    "\n",
    "print('단어 집합(vocabulary)의 크기 :', total_cnt)\n",
    "print('등장 빈도가 %s번 이하인 희귀 단어의 수: %s'%(threshold - 1, rare_cnt))\n",
    "print('단어 집합에서 희귀 단어를 제외시킬 경우의 단어 집합의 크기 %s'%(total_cnt - rare_cnt))\n",
    "print(\"단어 집합에서 희귀 단어의 비율:\", (rare_cnt / total_cnt)*100)\n",
    "print(\"전체 등장 빈도에서 희귀 단어 등장 빈도 비율:\", (rare_freq / total_freq)*100)"
   ]
  },
  {
   "cell_type": "code",
   "execution_count": 35,
   "id": "7d3f1d07",
   "metadata": {},
   "outputs": [],
   "source": [
    "#등장 빈도가 6회 이하인 단어들은 정수 인코딩 과정에서 빼고, 훈련 데이터에서 제거하\n",
    "src_vocab = 8000\n",
    "src_tokenizer = Tokenizer(num_words=src_vocab) # 단어 집합의 크기를 8,000으로 제한\n",
    "src_tokenizer.fit_on_texts(encoder_input_train) # 단어 집합 재생성"
   ]
  },
  {
   "cell_type": "code",
   "execution_count": 36,
   "id": "afd0e355",
   "metadata": {},
   "outputs": [
    {
     "name": "stdout",
     "output_type": "stream",
     "text": [
      "[[491, 3, 553, 6962, 4785, 1, 393, 209, 315, 110, 463, 135, 3291, 393, 2951, 2383, 583, 2066, 147, 602, 247, 41, 4742, 644, 2, 1701, 2522, 7628, 2963, 1250, 110, 1], [1866, 150, 96, 550, 6794, 1, 5, 3461, 1576, 1463, 4380, 976, 738, 20, 3443, 3197, 1602, 4669, 827, 3143, 1411, 6422, 2, 6205, 5, 570, 794, 5, 1806, 462, 238], [3444, 17, 4113, 2297, 138, 4381, 70, 646, 371, 502, 8, 562, 7629, 822, 977, 23, 1638, 4589, 8, 3606, 108, 253, 248, 412, 754, 3445, 3162, 139, 1]]\n"
     ]
    }
   ],
   "source": [
    "# 텍스트 시퀀스를 정수 시퀀스로 변환\n",
    "encoder_input_train = src_tokenizer.texts_to_sequences(encoder_input_train) \n",
    "encoder_input_test = src_tokenizer.texts_to_sequences(encoder_input_test)\n",
    "\n",
    "# 잘 진행되었는지 샘플 출력\n",
    "print(encoder_input_train[:3])"
   ]
  },
  {
   "cell_type": "code",
   "execution_count": 37,
   "id": "1720086d",
   "metadata": {},
   "outputs": [],
   "source": [
    "#헤드라인에 대해 동일한 작업 수행 \n",
    "tar_tokenizer = Tokenizer()\n",
    "tar_tokenizer.fit_on_texts(decoder_input_train)"
   ]
  },
  {
   "cell_type": "code",
   "execution_count": 38,
   "id": "dbd20156",
   "metadata": {},
   "outputs": [
    {
     "name": "stdout",
     "output_type": "stream",
     "text": [
      "단어 집합(vocabulary)의 크기 : 28932\n",
      "등장 빈도가 5번 이하인 희귀 단어의 수: 18953\n",
      "단어 집합에서 희귀 단어를 제외시킬 경우의 단어 집합의 크기 9979\n",
      "단어 집합에서 희귀 단어의 비율: 65.50877920641504\n",
      "전체 등장 빈도에서 희귀 단어 등장 빈도 비율: 4.858778242677824\n"
     ]
    }
   ],
   "source": [
    "threshold = 6\n",
    "total_cnt = len(tar_tokenizer.word_index) # 단어의 수\n",
    "rare_cnt = 0 # 등장 빈도수가 threshold보다 작은 단어의 개수를 카운트\n",
    "total_freq = 0 # 훈련 데이터의 전체 단어 빈도수 총 합\n",
    "rare_freq = 0 # 등장 빈도수가 threshold보다 작은 단어의 등장 빈도수의 총 합\n",
    "\n",
    "# 단어와 빈도수의 쌍(pair)을 key와 value로 받는다.\n",
    "for key, value in tar_tokenizer.word_counts.items():\n",
    "    total_freq = total_freq + value\n",
    "\n",
    "    # 단어의 등장 빈도수가 threshold보다 작으면\n",
    "    if(value < threshold):\n",
    "        rare_cnt = rare_cnt + 1\n",
    "        rare_freq = rare_freq + value\n",
    "\n",
    "print('단어 집합(vocabulary)의 크기 :', total_cnt)\n",
    "print('등장 빈도가 %s번 이하인 희귀 단어의 수: %s'%(threshold - 1, rare_cnt))\n",
    "print('단어 집합에서 희귀 단어를 제외시킬 경우의 단어 집합의 크기 %s'%(total_cnt - rare_cnt))\n",
    "print(\"단어 집합에서 희귀 단어의 비율:\", (rare_cnt / total_cnt)*100)\n",
    "print(\"전체 등장 빈도에서 희귀 단어 등장 빈도 비율:\", (rare_freq / total_freq)*100)"
   ]
  },
  {
   "cell_type": "code",
   "execution_count": 39,
   "id": "739469c1",
   "metadata": {},
   "outputs": [
    {
     "name": "stdout",
     "output_type": "stream",
     "text": [
      "input\n",
      "input  [[1, 104, 19, 406, 276, 323, 650, 199, 4], [1, 14, 1743, 16, 47, 1439, 262, 120], [1, 222, 469, 343, 311, 624], [1, 9, 501, 287, 3, 101, 221, 112, 96, 30, 234], [1, 27, 424, 4, 9, 625, 288, 998]]\n",
      "target\n",
      "decoder  [[104, 19, 406, 276, 323, 650, 199, 4, 2], [14, 1743, 16, 47, 1439, 262, 120, 2], [222, 469, 343, 311, 624, 2], [9, 501, 287, 3, 101, 221, 112, 96, 30, 234, 2], [27, 424, 4, 9, 625, 288, 998, 2]]\n"
     ]
    }
   ],
   "source": [
    "tar_vocab = 2000\n",
    "tar_tokenizer = Tokenizer(num_words=tar_vocab) \n",
    "tar_tokenizer.fit_on_texts(decoder_input_train)\n",
    "tar_tokenizer.fit_on_texts(decoder_target_train)\n",
    "\n",
    "# 텍스트 시퀀스를 정수 시퀀스로 변환\n",
    "decoder_input_train = tar_tokenizer.texts_to_sequences(decoder_input_train) \n",
    "decoder_target_train = tar_tokenizer.texts_to_sequences(decoder_target_train)\n",
    "decoder_input_test = tar_tokenizer.texts_to_sequences(decoder_input_test)\n",
    "decoder_target_test = tar_tokenizer.texts_to_sequences(decoder_target_test)\n",
    "\n",
    "\n",
    "# 잘 변환되었는지 확인\n",
    "print('input')\n",
    "print('input ',decoder_input_train[:5])\n",
    "print('target')\n",
    "print('decoder ',decoder_target_train[:5])"
   ]
  },
  {
   "cell_type": "code",
   "execution_count": 40,
   "id": "a43dac2c",
   "metadata": {},
   "outputs": [
    {
     "name": "stdout",
     "output_type": "stream",
     "text": [
      "삭제할 훈련 데이터의 개수 : 12\n",
      "삭제할 테스트 데이터의 개수 : 2\n",
      "훈련 데이터의 개수 : 72548\n",
      "훈련 레이블의 개수 : 72548\n",
      "테스트 데이터의 개수 : 18138\n",
      "테스트 레이블의 개수 : 18138\n"
     ]
    }
   ],
   "source": [
    "# 훈련 데이터와 테스트 데이터에 대해서 요약문의 길이가 1인 경우의 인덱스를 각각 drop_train과 drop_test에 변수 저장\n",
    " # 이 샘플들은 모두 삭제\n",
    "drop_train = [index for index, sentence in enumerate(decoder_input_train) if len(sentence) == 1]\n",
    "drop_test = [index for index, sentence in enumerate(decoder_input_test) if len(sentence) == 1]\n",
    "\n",
    "print('삭제할 훈련 데이터의 개수 :', len(drop_train))\n",
    "print('삭제할 테스트 데이터의 개수 :', len(drop_test))\n",
    "\n",
    "encoder_input_train = [sentence for index, sentence in enumerate(encoder_input_train) if index not in drop_train]\n",
    "decoder_input_train = [sentence for index, sentence in enumerate(decoder_input_train) if index not in drop_train]\n",
    "decoder_target_train = [sentence for index, sentence in enumerate(decoder_target_train) if index not in drop_train]\n",
    "\n",
    "encoder_input_test = [sentence for index, sentence in enumerate(encoder_input_test) if index not in drop_test]\n",
    "decoder_input_test = [sentence for index, sentence in enumerate(decoder_input_test) if index not in drop_test]\n",
    "decoder_target_test = [sentence for index, sentence in enumerate(decoder_target_test) if index not in drop_test]\n",
    "\n",
    "print('훈련 데이터의 개수 :', len(encoder_input_train))\n",
    "print('훈련 레이블의 개수 :', len(decoder_input_train))\n",
    "print('테스트 데이터의 개수 :', len(encoder_input_test))\n",
    "print('테스트 레이블의 개수 :', len(decoder_input_test))"
   ]
  },
  {
   "cell_type": "code",
   "execution_count": 41,
   "id": "514f023c",
   "metadata": {},
   "outputs": [
    {
     "data": {
      "text/plain": [
       "40"
      ]
     },
     "execution_count": 41,
     "metadata": {},
     "output_type": "execute_result"
    }
   ],
   "source": [
    "text_max_len"
   ]
  },
  {
   "cell_type": "code",
   "execution_count": 42,
   "id": "7c82603c",
   "metadata": {},
   "outputs": [
    {
     "data": {
      "text/plain": [
       "13"
      ]
     },
     "execution_count": 42,
     "metadata": {},
     "output_type": "execute_result"
    }
   ],
   "source": [
    "headlines_max_len"
   ]
  },
  {
   "cell_type": "code",
   "execution_count": 44,
   "id": "1c5b9771",
   "metadata": {},
   "outputs": [],
   "source": [
    "#패딩하기 \n",
    "encoder_input_train = pad_sequences(encoder_input_train, maxlen=40, padding='post')\n",
    "encoder_input_test = pad_sequences(encoder_input_test, maxlen=text_max_len, padding='post')\n",
    "decoder_input_train = pad_sequences(decoder_input_train, maxlen=headlines_max_len, padding='post')\n",
    "decoder_target_train = pad_sequences(decoder_target_train, maxlen=headlines_max_len, padding='post')\n",
    "decoder_input_test = pad_sequences(decoder_input_test, maxlen=headlines_max_len, padding='post')\n",
    "decoder_target_test = pad_sequences(decoder_target_test, maxlen=headlines_max_len, padding='post')"
   ]
  },
  {
   "cell_type": "code",
   "execution_count": null,
   "id": "ecebe2d9",
   "metadata": {},
   "outputs": [],
   "source": [
    "decoder_input_train "
   ]
  },
  {
   "cell_type": "markdown",
   "id": "2f4958b9",
   "metadata": {},
   "source": [
    "## Step 3. 어텐션 메커니즘 사용하기 (추상적 요약)"
   ]
  },
  {
   "cell_type": "markdown",
   "id": "00169708",
   "metadata": {},
   "source": [
    "- 어텐션 메커니즘을 사용한 seq2seq를 설계"
   ]
  },
  {
   "cell_type": "markdown",
   "id": "363edbfc",
   "metadata": {},
   "source": [
    "#### 인코더 설계"
   ]
  },
  {
   "cell_type": "code",
   "execution_count": 45,
   "id": "eab6d9ba",
   "metadata": {},
   "outputs": [],
   "source": [
    "from tensorflow.keras.layers import Input, LSTM, Embedding, Dense, Concatenate, TimeDistributed\n",
    "from tensorflow.keras.models import Model\n",
    "from tensorflow.keras.callbacks import EarlyStopping, ModelCheckpoint\n",
    "\n",
    "\n",
    "# 인코더 설계 시작\n",
    "embedding_dim = 128\n",
    "hidden_size = 256\n",
    "\n",
    "# 인코더\n",
    "encoder_inputs = Input(shape=(text_max_len,))\n",
    "\n",
    "# 인코더의 임베딩 층\n",
    "enc_emb = Embedding(src_vocab, embedding_dim)(encoder_inputs)\n",
    "\n",
    "# 인코더의 LSTM 1\n",
    "# encoder_lstm1 = LSTM(hidden_size, return_sequences=True, return_state=True ,dropout = 0.4, recurrent_dropout = 0.4)\n",
    "encoder_lstm1 = LSTM(hidden_size, return_sequences=True, return_state=True ,dropout = 0.4)\n",
    "encoder_output1, state_h1, state_c1 = encoder_lstm1(enc_emb)\n",
    "\n",
    "# 인코더의 LSTM 2\n",
    "# encoder_lstm2 = LSTM(hidden_size, return_sequences=True, return_state=True, dropout=0.4, recurrent_dropout=0.4)\n",
    "encoder_lstm2 = LSTM(hidden_size, return_sequences=True, return_state=True, dropout=0.4)\n",
    "encoder_output2, state_h2, state_c2 = encoder_lstm2(encoder_output1)\n",
    "\n",
    "# 인코더의 LSTM 3\n",
    "# encoder_lstm3 = LSTM(hidden_size, return_state=True, return_sequences=True, dropout=0.4, recurrent_dropout=0.4)\n",
    "encoder_lstm3 = LSTM(hidden_size, return_state=True, return_sequences=True, dropout=0.4)\n",
    "encoder_outputs, state_h, state_c= encoder_lstm3(encoder_output2)"
   ]
  },
  {
   "cell_type": "markdown",
   "id": "5407abc4",
   "metadata": {},
   "source": [
    "#### 디코더 설계"
   ]
  },
  {
   "cell_type": "code",
   "execution_count": 46,
   "id": "91acd611",
   "metadata": {},
   "outputs": [],
   "source": [
    "# 디코더 설계\n",
    "decoder_inputs = Input(shape=(None,))\n",
    "\n",
    "# 디코더의 임베딩 층\n",
    "dec_emb_layer = Embedding(tar_vocab, embedding_dim)\n",
    "dec_emb = dec_emb_layer(decoder_inputs)\n",
    "\n",
    "# 디코더의 LSTM\n",
    "# decoder_lstm = LSTM(hidden_size, return_sequences=True, return_state=True, dropout=0.4, recurrent_dropout=0.2)\n",
    "decoder_lstm = LSTM(hidden_size, return_sequences=True, return_state=True, dropout=0.4)\n",
    "decoder_outputs, _, _ = decoder_lstm(dec_emb, initial_state=[state_h, state_c])"
   ]
  },
  {
   "cell_type": "markdown",
   "id": "c09d4b72",
   "metadata": {},
   "source": [
    "#### 디코더 출력층 설계"
   ]
  },
  {
   "cell_type": "code",
   "execution_count": 47,
   "id": "eb525e94",
   "metadata": {},
   "outputs": [
    {
     "name": "stdout",
     "output_type": "stream",
     "text": [
      "Model: \"model\"\n",
      "__________________________________________________________________________________________________\n",
      "Layer (type)                    Output Shape         Param #     Connected to                     \n",
      "==================================================================================================\n",
      "input_1 (InputLayer)            [(None, 40)]         0                                            \n",
      "__________________________________________________________________________________________________\n",
      "embedding (Embedding)           (None, 40, 128)      1024000     input_1[0][0]                    \n",
      "__________________________________________________________________________________________________\n",
      "lstm (LSTM)                     [(None, 40, 256), (N 394240      embedding[0][0]                  \n",
      "__________________________________________________________________________________________________\n",
      "input_2 (InputLayer)            [(None, None)]       0                                            \n",
      "__________________________________________________________________________________________________\n",
      "lstm_1 (LSTM)                   [(None, 40, 256), (N 525312      lstm[0][0]                       \n",
      "__________________________________________________________________________________________________\n",
      "embedding_1 (Embedding)         (None, None, 128)    256000      input_2[0][0]                    \n",
      "__________________________________________________________________________________________________\n",
      "lstm_2 (LSTM)                   [(None, 40, 256), (N 525312      lstm_1[0][0]                     \n",
      "__________________________________________________________________________________________________\n",
      "lstm_3 (LSTM)                   [(None, None, 256),  394240      embedding_1[0][0]                \n",
      "                                                                 lstm_2[0][1]                     \n",
      "                                                                 lstm_2[0][2]                     \n",
      "__________________________________________________________________________________________________\n",
      "dense (Dense)                   (None, None, 2000)   514000      lstm_3[0][0]                     \n",
      "==================================================================================================\n",
      "Total params: 3,633,104\n",
      "Trainable params: 3,633,104\n",
      "Non-trainable params: 0\n",
      "__________________________________________________________________________________________________\n"
     ]
    }
   ],
   "source": [
    "# 디코더의 출력층\n",
    "decoder_softmax_layer = Dense(tar_vocab, activation='softmax')\n",
    "decoder_softmax_outputs = decoder_softmax_layer(decoder_outputs) \n",
    "\n",
    "# 모델 정의\n",
    "model = Model([encoder_inputs, decoder_inputs], decoder_softmax_outputs)\n",
    "model.summary()"
   ]
  },
  {
   "cell_type": "markdown",
   "id": "3d0a0a6d",
   "metadata": {},
   "source": [
    "#### 어텐션 메커니즘"
   ]
  },
  {
   "cell_type": "code",
   "execution_count": 49,
   "id": "0d0da114",
   "metadata": {},
   "outputs": [
    {
     "name": "stdout",
     "output_type": "stream",
     "text": [
      "Model: \"model_1\"\n",
      "__________________________________________________________________________________________________\n",
      "Layer (type)                    Output Shape         Param #     Connected to                     \n",
      "==================================================================================================\n",
      "input_1 (InputLayer)            [(None, 40)]         0                                            \n",
      "__________________________________________________________________________________________________\n",
      "embedding (Embedding)           (None, 40, 128)      1024000     input_1[0][0]                    \n",
      "__________________________________________________________________________________________________\n",
      "lstm (LSTM)                     [(None, 40, 256), (N 394240      embedding[0][0]                  \n",
      "__________________________________________________________________________________________________\n",
      "input_2 (InputLayer)            [(None, None)]       0                                            \n",
      "__________________________________________________________________________________________________\n",
      "lstm_1 (LSTM)                   [(None, 40, 256), (N 525312      lstm[0][0]                       \n",
      "__________________________________________________________________________________________________\n",
      "embedding_1 (Embedding)         (None, None, 128)    256000      input_2[0][0]                    \n",
      "__________________________________________________________________________________________________\n",
      "lstm_2 (LSTM)                   [(None, 40, 256), (N 525312      lstm_1[0][0]                     \n",
      "__________________________________________________________________________________________________\n",
      "lstm_3 (LSTM)                   [(None, None, 256),  394240      embedding_1[0][0]                \n",
      "                                                                 lstm_2[0][1]                     \n",
      "                                                                 lstm_2[0][2]                     \n",
      "__________________________________________________________________________________________________\n",
      "attention_layer (AdditiveAttent (None, None, 256)    256         lstm_3[0][0]                     \n",
      "                                                                 lstm_2[0][0]                     \n",
      "__________________________________________________________________________________________________\n",
      "concat_layer (Concatenate)      (None, None, 512)    0           lstm_3[0][0]                     \n",
      "                                                                 attention_layer[0][0]            \n",
      "__________________________________________________________________________________________________\n",
      "dense_1 (Dense)                 (None, None, 2000)   1026000     concat_layer[0][0]               \n",
      "==================================================================================================\n",
      "Total params: 4,145,360\n",
      "Trainable params: 4,145,360\n",
      "Non-trainable params: 0\n",
      "__________________________________________________________________________________________________\n"
     ]
    }
   ],
   "source": [
    "from tensorflow.keras.layers import AdditiveAttention\n",
    "\n",
    "# 어텐션 층(어텐션 함수)\n",
    "attn_layer = AdditiveAttention(name='attention_layer')\n",
    "\n",
    "# 인코더와 디코더의 모든 time step의 hidden state를 어텐션 층에 전달하고 결과를 리턴\n",
    "attn_out = attn_layer([decoder_outputs, encoder_outputs])\n",
    "\n",
    "\n",
    "# 어텐션의 결과와 디코더의 hidden state들을 연결\n",
    "decoder_concat_input = Concatenate(axis=-1, name='concat_layer')([decoder_outputs, attn_out])\n",
    "\n",
    "# 디코더의 출력층\n",
    "decoder_softmax_layer = Dense(tar_vocab, activation='softmax')\n",
    "decoder_softmax_outputs = decoder_softmax_layer(decoder_concat_input)\n",
    "\n",
    "# 모델 정의\n",
    "model = Model([encoder_inputs, decoder_inputs], decoder_softmax_outputs)\n",
    "model.summary()"
   ]
  },
  {
   "cell_type": "markdown",
   "id": "3f15a946",
   "metadata": {},
   "source": [
    "#### 모델 훈련"
   ]
  },
  {
   "cell_type": "code",
   "execution_count": 51,
   "id": "357c3ce0",
   "metadata": {},
   "outputs": [],
   "source": [
    "model.compile(optimizer='rmsprop', loss='sparse_categorical_crossentropy')"
   ]
  },
  {
   "cell_type": "code",
   "execution_count": 52,
   "id": "5fc8c927",
   "metadata": {},
   "outputs": [
    {
     "ename": "NameError",
     "evalue": "name 'history' is not defined",
     "output_type": "error",
     "traceback": [
      "\u001b[0;31m---------------------------------------------------------------------------\u001b[0m",
      "\u001b[0;31mNameError\u001b[0m                                 Traceback (most recent call last)",
      "\u001b[0;32m/tmp/ipykernel_74/1545391789.py\u001b[0m in \u001b[0;36m<module>\u001b[0;34m\u001b[0m\n\u001b[0;32m----> 1\u001b[0;31m \u001b[0mplt\u001b[0m\u001b[0;34m.\u001b[0m\u001b[0mplot\u001b[0m\u001b[0;34m(\u001b[0m\u001b[0mhistory\u001b[0m\u001b[0;34m.\u001b[0m\u001b[0mhistory\u001b[0m\u001b[0;34m[\u001b[0m\u001b[0;34m'loss'\u001b[0m\u001b[0;34m]\u001b[0m\u001b[0;34m,\u001b[0m \u001b[0mlabel\u001b[0m\u001b[0;34m=\u001b[0m\u001b[0;34m'train'\u001b[0m\u001b[0;34m)\u001b[0m\u001b[0;34m\u001b[0m\u001b[0;34m\u001b[0m\u001b[0m\n\u001b[0m\u001b[1;32m      2\u001b[0m \u001b[0mplt\u001b[0m\u001b[0;34m.\u001b[0m\u001b[0mplot\u001b[0m\u001b[0;34m(\u001b[0m\u001b[0mhistory\u001b[0m\u001b[0;34m.\u001b[0m\u001b[0mhistory\u001b[0m\u001b[0;34m[\u001b[0m\u001b[0;34m'val_loss'\u001b[0m\u001b[0;34m]\u001b[0m\u001b[0;34m,\u001b[0m \u001b[0mlabel\u001b[0m\u001b[0;34m=\u001b[0m\u001b[0;34m'test'\u001b[0m\u001b[0;34m)\u001b[0m\u001b[0;34m\u001b[0m\u001b[0;34m\u001b[0m\u001b[0m\n\u001b[1;32m      3\u001b[0m \u001b[0mplt\u001b[0m\u001b[0;34m.\u001b[0m\u001b[0mlegend\u001b[0m\u001b[0;34m(\u001b[0m\u001b[0;34m)\u001b[0m\u001b[0;34m\u001b[0m\u001b[0;34m\u001b[0m\u001b[0m\n\u001b[1;32m      4\u001b[0m \u001b[0mplt\u001b[0m\u001b[0;34m.\u001b[0m\u001b[0mshow\u001b[0m\u001b[0;34m(\u001b[0m\u001b[0;34m)\u001b[0m\u001b[0;34m\u001b[0m\u001b[0;34m\u001b[0m\u001b[0m\n",
      "\u001b[0;31mNameError\u001b[0m: name 'history' is not defined"
     ]
    }
   ],
   "source": [
    "plt.plot(history.history['loss'], label='train')\n",
    "plt.plot(history.history['val_loss'], label='test')\n",
    "plt.legend()\n",
    "plt.show()"
   ]
  },
  {
   "cell_type": "markdown",
   "id": "5434ecc6",
   "metadata": {},
   "source": [
    "#### 인퍼런스 모델 구현하기"
   ]
  },
  {
   "cell_type": "code",
   "execution_count": 54,
   "id": "8430a619",
   "metadata": {},
   "outputs": [],
   "source": [
    "src_index_to_word = src_tokenizer.index_word # 원문 단어 집합에서 정수 -> 단어를 얻음\n",
    "tar_word_to_index = tar_tokenizer.word_index # 요약 단어 집합에서 단어 -> 정수를 얻음\n",
    "tar_index_to_word = tar_tokenizer.index_word # 요약 단어 집합에서 정수 -> 단어를 얻음\n"
   ]
  },
  {
   "cell_type": "code",
   "execution_count": 56,
   "id": "791fa71c",
   "metadata": {},
   "outputs": [],
   "source": [
    "# 인코더 설계\n",
    "encoder_model = Model(inputs=encoder_inputs, outputs=[encoder_outputs, state_h, state_c])\n",
    "\n",
    "# 이전 시점의 상태들을 저장하는 텐서\n",
    "decoder_state_input_h = Input(shape=(hidden_size,))\n",
    "decoder_state_input_c = Input(shape=(hidden_size,))\n",
    "\n",
    "dec_emb2 = dec_emb_layer(decoder_inputs)\n",
    "\n",
    "# 문장의 다음 단어를 예측하기 위해서 초기 상태(initial_state)를 이전 시점의 상태로 사용. 이는 뒤의 함수 decode_sequence()에 구현\n",
    "# 훈련 과정에서와 달리 LSTM의 리턴하는 은닉 상태와 셀 상태인 state_h와 state_c를 버리지 않음.\n",
    "decoder_outputs2, state_h2, state_c2 = decoder_lstm(dec_emb2, initial_state=[decoder_state_input_h, decoder_state_input_c])\n"
   ]
  },
  {
   "cell_type": "code",
   "execution_count": 57,
   "id": "81dd6920",
   "metadata": {},
   "outputs": [],
   "source": [
    "# 어텐션 함수\n",
    "decoder_hidden_state_input = Input(shape=(text_max_len, hidden_size))\n",
    "attn_out_inf = attn_layer([decoder_outputs2, decoder_hidden_state_input])\n",
    "decoder_inf_concat = Concatenate(axis=-1, name='concat')([decoder_outputs2, attn_out_inf])\n",
    "\n",
    "# 디코더의 출력층\n",
    "decoder_outputs2 = decoder_softmax_layer(decoder_inf_concat) \n",
    "\n",
    "# 최종 디코더 모델\n",
    "decoder_model = Model(\n",
    "    [decoder_inputs] + [decoder_hidden_state_input,decoder_state_input_h, decoder_state_input_c],\n",
    "    [decoder_outputs2] + [state_h2, state_c2])\n"
   ]
  },
  {
   "cell_type": "code",
   "execution_count": 62,
   "id": "58cf9670",
   "metadata": {},
   "outputs": [],
   "source": [
    "def decode_sequence(input_seq):\n",
    "    # 입력으로부터 인코더의 상태를 얻음\n",
    "    e_out, e_h, e_c = encoder_model.predict(input_seq)\n",
    "\n",
    "     # <SOS>에 해당하는 토큰 생성\n",
    "    target_seq = np.zeros((1,1))\n",
    "    target_seq[0, 0] = tar_word_to_index['sostoken']\n",
    "\n",
    "    stop_condition = False\n",
    "    decoded_sentence = ''\n",
    "    while not stop_condition: # stop_condition이 True가 될 때까지 루프 반복\n",
    "\n",
    "        output_tokens, h, c = decoder_model.predict([target_seq] + [e_out, e_h, e_c])\n",
    "        sampled_token_index = np.argmax(output_tokens[0, -1, :])\n",
    "        sampled_token = tar_index_to_word[sampled_token_index]\n",
    "\n",
    "        if (sampled_token!='eostoken'):\n",
    "            decoded_sentence += ' '+sampled_token\n",
    "\n",
    "        #  <eos>에 도달하거나 최대 길이를 넘으면 중단.\n",
    "        if (sampled_token == 'eostoken'  or len(decoded_sentence.split()) >= (headlines_max_len-1)):\n",
    "            stop_condition = True\n",
    "\n",
    "        # 길이가 1인 타겟 시퀀스를 업데이트\n",
    "        target_seq = np.zeros((1,1))\n",
    "        target_seq[0, 0] = sampled_token_index\n",
    "\n",
    "        # 상태를 업데이트 합니다.\n",
    "        e_h, e_c = h, c\n",
    "\n",
    "    return decoded_sentence"
   ]
  },
  {
   "cell_type": "markdown",
   "id": "a606e745",
   "metadata": {},
   "source": [
    "## Step 4. 실제 결과와 요약문 비교하기 (추상적 요약)\n",
    "- 원래의 요약문(headlines 열)과 학습을 통해 얻은 추상적 요약의 결과를 비교"
   ]
  },
  {
   "cell_type": "markdown",
   "id": "183add22",
   "metadata": {},
   "source": [
    "#### 모델 테스트 하기 "
   ]
  },
  {
   "cell_type": "code",
   "execution_count": 63,
   "id": "d9846d5b",
   "metadata": {},
   "outputs": [],
   "source": [
    "# 원문의 정수 시퀀스를 텍스트 시퀀스로 변환\n",
    "def seq2text(input_seq):\n",
    "    temp=''\n",
    "    for i in input_seq:\n",
    "        if (i!=0):\n",
    "            temp = temp + src_index_to_word[i]+' '\n",
    "    return temp\n",
    "\n",
    "# 요약문의 정수 시퀀스를 텍스트 시퀀스로 변환\n",
    "def seq2summary(input_seq):\n",
    "    temp=''\n",
    "    for i in input_seq:\n",
    "        if ((i!=0 and i!=tar_word_to_index['sostoken']) and i!=tar_word_to_index['eostoken']):\n",
    "            temp = temp + tar_index_to_word[i] + ' '\n",
    "    return temp"
   ]
  },
  {
   "cell_type": "code",
   "execution_count": 64,
   "id": "04c8a8db",
   "metadata": {},
   "outputs": [
    {
     "name": "stdout",
     "output_type": "stream",
     "text": [
      "원문 : india captain virat kohli smashed first ever test century england rounder yuvraj singh tweeted think knock needs prove anything anyone journey hundred kohli scored runs test innings england previous highest score country \n",
      "실제 요약 : kohli does not need to to anyone now yuvraj \n",
      "예측 요약 :  threatens cost bus dhoni along guj anushka stadium guj guj over head\n",
      "\n",
      "\n",
      "원문 : india england world cup match february ex australian spinner shane warne put tweet match would end tie warne came true england scored reply india termed england captain andrew many pakistani cricketers demanded icc investigate warne \n",
      "실제 요약 : india eng wc match to be \n",
      "예측 요약 :  nick old rules teaser mlas paper patient patient month break break aiims\n",
      "\n",
      "\n",
      "원문 : hundreds protesters arrested took streets country capital cities protest president alexander saying want end president crackdown internet shut across country police used water protesters \n",
      "실제 요약 : end of arrested in \n",
      "예측 요약 :  played bars carrying board carrying myanmar hour board hours hours press stone\n",
      "\n",
      "\n",
      "원문 : billion tonnes plastic enough cover entire country argentina generated humans since material mass production started us based research revealed also said around billion tonnes plastic produced natural environment \n",
      "실제 요약 : humans have total bn of plastic till now \n",
      "예측 요약 :  played bars bars billionaire online resignation hard display web display launches defends\n",
      "\n",
      "\n",
      "원문 : indian opener rohit sharma scored odi cricket highest individual score sri lanka november dropped later innings rohit went hit record fours nine sixes innings rohit batsman hit two odi double centuries \n",
      "실제 요약 : rohit was dropped in his run odi innings vs sl \n",
      "예측 요약 :  played bars bars billionaire title the bridge korea bridge korea shami un\n",
      "\n",
      "\n",
      "원문 : indian hockey team coach singh demanded authorities sports earlier ruled use consulting sports team singh also asked yoga team national camp asian champions trophy world cup set start sunday \n",
      "실제 요약 : hockey coach asks for after refusing \n",
      "예측 요약 :  played sabha debut debut debut announces cost gandhi teaser defends bitcoin shoots\n",
      "\n",
      "\n",
      "원문 : former american football player turned fighter first ever professional bout seconds opponent joe year old player suspended league involved domestic violence incident \n",
      "실제 요약 : football player turns wins first in sec \n",
      "예측 요약 :  played week spain sl entry thought salman rape ki pandya bat sharif\n",
      "\n",
      "\n",
      "원문 : us navy wednesday rescued two women dogs lost sea five months setting hawaii two lost engine made distress calls signals detected women said survived enough food spotted nearly kilometres south east japan \n",
      "실제 요약 : us women and their dogs rescued after months lost at sea \n",
      "예측 요약 :  stake played du features irani no no security fine apple gangraped despite\n",
      "\n",
      "\n",
      "원문 : families indians killed iraq slammed government informing deaths relatives watched tv without letting us know informed world dead said sister man killed external affairs minister sushma swaraj said duty bound inform parliament first \n",
      "실제 요약 : govt told the world before us kin of indians killed in iraq \n",
      "예측 요약 :  nick bihar firm crore vice vice blast reliance title off landing telangana\n",
      "\n",
      "\n",
      "원문 : haryana police paramilitary forces fired rounds ammunition panchkula riots following ram rahim conviction rape case according government report people died violence reportedly died bullet injuries post mortem reports revealed shot head chest back \n",
      "실제 요약 : fired at ram rahim in report \n",
      "예측 요약 :  nick old muslims petrol warner priyanka wc journalist cash moves patanjali patanjali\n",
      "\n",
      "\n",
      "원문 : finance ministry received around applications post rbi deputy governor ss three year term coming end month per reports several private also applied post position open private sector post fixed salary lakh per month plus \n",
      "실제 요약 : govt receives for rbi deputy governor post \n",
      "예측 요약 :  at at welcome railway railway raping made raises made longest sindhu tweet\n",
      "\n",
      "\n",
      "원문 : government planning set crore fund finance solar projects achieve target renewable energy india current installed renewable power capacity plans complete bidding process end add reports said \n",
      "실제 요약 : govt to set up crore fund to finance solar \n",
      "예측 요약 :  played pandya fired pandya kg workers whatsapp walmart display display wearing married\n",
      "\n",
      "\n",
      "원문 : ahead australia india test perth australian spin legend shane warne tweeted given pitch conditions hard green fast pitch think blow india away hope finds form gets match finch gets big reacting warne tweet user tweeted going \n",
      "실제 요약 : australian fast will india away at \n",
      "예측 요약 :  kashmir could accidentally shoots madrid madrid madrid jokes within river tries tries\n",
      "\n",
      "\n",
      "원문 : last day court monday outgoing chief justice india dipak misra stopped lawyer singing misra said presently responding heart respond mind evening misra appointed chief justice august succeeded ranjan gogoi \n",
      "실제 요약 : from heart cji stops lawyer from \n",
      "예측 요약 :  played week spain spain sl entry thought allowed allowed leaves weapons theatres\n",
      "\n",
      "\n",
      "원문 : pizza types cheese set guinness world record greatest variety cheese pizza german restaurant pizza featured grams cheese total grams variety dairy expert described pizza piece different \n",
      "실제 요약 : with of sets world record \n",
      "예측 요약 :  played bars kim bars swamy swamy first bus social encounter israel per\n",
      "\n",
      "\n",
      "원문 : online platform buying selling pre owned cars tuesday said raised million seed funding led ventures indian angel network member co founders kunal shah sandeep tandon also participated round launched currently presence ncr \n",
      "실제 요약 : pre cars raises cr led by \n",
      "예측 요약 :  bars allowed allowed leaves weapons entire protection protection protection protection protection lanka\n",
      "\n",
      "\n",
      "원문 : trailer one heart ar rahman concert film released trailer rahman band seen describing experience working film reportedly feature rahman songs performed along band scheduled release august \n",
      "실제 요약 : trailer of one heart the concert film released \n",
      "예측 요약 :  played fired race register amit amit income income income field stuck stuck\n",
      "\n",
      "\n",
      "원문 : parineeti chopra said anybody makes negative comments arjun kapoor could even kill added cannot hear anyone saying anything bad arjun love parineeti said relationship arjun kick tell shut behave \n",
      "실제 요약 : can even kill for arjun kapoor says parineeti chopra \n",
      "예측 요약 :  stake japanese pandya prince blames sec meghalaya image completes completes completes fired\n",
      "\n",
      "\n",
      "원문 : credited pizza passed away thursday age canada greece ran numerous restaurants siblings one day pizza decided add menu customers loved \n",
      "실제 요약 : of passes away aged \n",
      "예측 요약 :  played fired strike france choksi choksi demonetisation salman cover rape bat charges\n",
      "\n",
      "\n",
      "원문 : congress president sonia gandhi said would miss former president pranab mukherjee bidding farewell congress party presidential nomination revealed mukherjee book coalition years wherein also wrote gandhi upset met late bal thackeray seeking support presidential \n",
      "실제 요약 : sonia said will miss ex prez reveals book \n",
      "예측 요약 :  nick satellite debut debut debut rohit cost germany prize prize bangladesh bangladesh\n",
      "\n",
      "\n",
      "원문 : underworld dawood ibrahim acquired amount property including hotels across southeast uk according report citing documents prepared indian authorities report claimed aide dawood also acquired properties uae spain turkey australia \n",
      "실제 요약 : in the uk report \n",
      "예측 요약 :  played bars kim bars km gst earth making vp vp vp tea\n",
      "\n",
      "\n",
      "원문 : director upcoming shraddha kapoor starrer said experience censor board quick makers hours prasoon joshi led board passed film certificate two minor cuts went cuts made sense said \n",
      "실제 요약 : director \n",
      "예측 요약 :  played gavaskar offered sabha girlfriend dhawan online prince raids online tourists tourists\n",
      "\n",
      "\n",
      "원문 : computer technology company always delivering technology solutions enable people everywhere grow best selling available hdfc credit card additional bring home india pc brand today \n",
      "실제 요약 : becomes india most brand again \n",
      "예측 요약 :  played fired strike france choksi choksi demonetisation salman cover rape bat charges\n",
      "\n",
      "\n",
      "원문 : future employee accused former security guard sexual harassment online stalking lawsuit filed june alleged employee repeatedly approached night asked personal information also claims company dismissed multiple reports alleged actions accused employee \n",
      "실제 요약 : future employee accused of sexual harassment \n",
      "예측 요약 :  bars allowed leaves spain priyanka allowed about charity got search tweets tanushree\n",
      "\n",
      "\n",
      "원문 : indian bitcoin exchange co founder sunny ray said people see bitcoin way evade taxes going work government make sure things done right added said people think bitcoin mechanism save wealth see net worth go \n",
      "실제 요약 : bitcoin not way to tax founder \n",
      "예측 요약 :  nick bihar firm crore vice vice reliance move title off international arrested\n",
      "\n",
      "\n",
      "원문 : responding question risk players due lot cricket former india captain sourav ganguly said cricket cannot survive without format recently ex england captain kevin pietersen predicted five test nations left next years india playing season \n",
      "실제 요약 : without cricket cannot ganguly \n",
      "예측 요약 :  nick yuvraj show show rise take fall post vodafone board youngest hours\n",
      "\n",
      "\n",
      "원문 : survey india started replacing wooden doors windows delhi birds enter monument damage stone repair works cost lakh completed later month doors windows installed monument years ago \n",
      "실제 요약 : yr old being over bat \n",
      "예측 요약 :  played bars bars billionaire fired schools students loans no security fine apple\n",
      "\n",
      "\n",
      "원문 : congress leader shashi tharoor saturday made mistake tweet innovation later tweeting yes innovation better still broadcast keyboard person commented tweet \n",
      "실제 요약 : tharoor makes mistake himself on twitter \n",
      "예측 요약 :  played week ice kim cop looking rajinikanth before completes completes completes times\n",
      "\n",
      "\n",
      "원문 : virtual reality environment gives user feeling environment instead one actually order brain environment creates experience additionally eye movement tracking sound produce effect \n",
      "실제 요약 : how does work \n",
      "예측 요약 :  played week spain sl entry thought salman dubai church international looking odis\n",
      "\n",
      "\n",
      "원문 : former indian captain sourav ganguly revealed breakfast champions tour sachin tendulkar used night mumbai batsman used play ganguly revealed sachin asked bat former selected indian squad \n",
      "실제 요약 : ganguly reveals sachin used to his \n",
      "예측 요약 :  played lead ls kim looking kim hrithik charges kkr kkr but set\n",
      "\n",
      "\n",
      "원문 : defence ministry granted additional administrative financial powers border roads organisation speed construction roads along indo china border financial powers crore crore decision comes pointed delay construction important roads along border \n",
      "실제 요약 : govt gives power to for china border roads \n",
      "예측 요약 :  played kim ls id front all schools students she penalty its now\n",
      "\n",
      "\n",
      "원문 : us based maker tuesday said operations venezuela blaming country economic social president maduro seized company manufacturing plant said handed workers companies left nation include general motors \n",
      "실제 요약 : shuts down venezuela over economic crisis \n",
      "예측 요약 :  played week spain sl entry thought salman harbhajan global sidhu what sonu\n",
      "\n",
      "\n",
      "원문 : many students thiruvananthapuram schools prepared notes class students two schools flood hit district kerala authorities identified schools students lost study materials due floods could notes children learn help fellow human said manager one schools \n",
      "실제 요약 : kids notes for students in flood hit kerala \n",
      "예측 요약 :  nick bihar firm apple apple gangraped shoot families teacher rajan myanmar syria\n",
      "\n",
      "\n",
      "원문 : author chetan bhagat said glad government going sell black hole air india adding never make money stating airline burns money bhagat said crore airline government gone earlier government gave principle approval air india disinvestment \n",
      "실제 요약 : air india black hole money \n",
      "예측 요약 :  nick rules teaser cuts need prez secretary need winner winner winner hearing\n",
      "\n",
      "\n",
      "원문 : claiming nobody opposing construction ram mandir ayodhya yoga guru baba ramdev sunday said people losing due delay issue ram temple supreme court added democracy parliament supreme ordinance brought construction ram temple \n",
      "실제 요약 : people losing due to sc delay ramdev on ram \n",
      "예측 요약 :  nick yuvraj chairman wickets wickets july feet phone phone phone phone phone\n",
      "\n",
      "\n",
      "원문 : major industries monday reported rise net profit second quarter ended september current fiscal crore company posted net profit crore july september period year ago total income operations crore \n",
      "실제 요약 : net profit rises by to crore \n",
      "예측 요약 :  played sabha debut debut debut announces cost spinner spinner sonu register class\n",
      "\n",
      "\n",
      "원문 : launching hi campaign union home minister rajnath singh friday said india expected open defecation free october providing toilet facility home ensure safety dignity women hi campaign help improve children rajnath added \n",
      "실제 요약 : india will be open free by rajnath \n",
      "예측 요약 :  played week spain entry uber spain drive uber violence spacex nothing heart\n",
      "\n",
      "\n",
      "원문 : woman filed complaint national commission women alleging arunachal pradesh cm two others raped circuit house claimed cm introduced army officer cm called allegations false politically motivated \n",
      "실제 요약 : woman files rape complaint against cm \n",
      "예측 요약 :  played bars bars billionaire title violence utd smith international sales did did\n",
      "\n",
      "\n",
      "원문 : government thursday stated plans make aadhaar number mandatory booking air tickets said meeting parliamentary standing committee home affairs headed chidambaram government assured aadhaar data safe entire software handled uidai \n",
      "실제 요약 : no plans to make aadhaar mandatory for air tickets govt \n",
      "예측 요약 :  played gavaskar lead met leave charges pandya surgery blast early stops imran\n",
      "\n",
      "\n",
      "원문 : filmmaker shah speaking alleged sexual harassment case involving tanushree dutta nana patekar said cops must investigate matter guilty right massive think avoided talking woman respect added \n",
      "실제 요약 : and do not guilty on tanushree row \n",
      "예측 요약 :  played bars carrying tests strike scheme hour board trophy muslim beat debut\n",
      "\n",
      "\n",
      "원문 : wwe wrestler triple congratulated mumbai indians ipl win tweeting surprise store past wwe sent custom title wins sending one serena williams australian open victory former chelsea captain john premier league year \n",
      "실제 요약 : triple at for mumbai indians post ipl win \n",
      "예측 요약 :  bars allowed violence leaves madrid jokes airways catch catch kohli june wrong\n",
      "\n",
      "\n",
      "원문 : technology giant apple ceo tim cook said see happens iphone recent interview also said working hard possible make many possible earlier reports suggested apple facing production delay iphone due problems face id manufacturing process \n",
      "실제 요약 : we will see what apple ceo on iphone \n",
      "예측 요약 :  nick old rules clothes no full rules no security dravid dravid parties\n",
      "\n",
      "\n",
      "원문 : rupee thursday took paise biggest single day fall since may close time low us dollar comes us dollar surged one year high fed chief testimony us senate wednesday earlier june rupee touched time day low \n",
      "실제 요약 : ends at low of against us \n",
      "예측 요약 :  nick firm rahul delhi delhi\n",
      "\n",
      "\n",
      "원문 : man bihar recently shot dead allegedly another caste dancing man shot someone crowd continued dancing ignored warnings police said killing led clashes marriage party accusing villagers setting vehicles fire \n",
      "실제 요약 : bihar man shot dead for dancing in of \n",
      "예측 요약 :  stake japanese pandya workers kg compensation taka members treatment auction auction mistakenly\n",
      "\n",
      "\n",
      "원문 : actor manoj tiwari said shoot comedian kapil sharma show cancelled due ongoing strike federation western india employees day shoot episode got call saying shooting cancelled added tiwari \n",
      "실제 요약 : could not shoot for kapil show due to strike \n",
      "예측 요약 :  stake japanese pandya prince nude korea korea shami asiad asiad asiad elected\n",
      "\n",
      "\n",
      "원문 : asking country prepared possibility pakistan may carry war bjp mp subramanian swamy said ready finish pakistan break four statement follows lead imran khan party pakistan tehreek said backed pakistani military country general elections \n",
      "실제 요약 : india should be ready to break pakistan into four bjp mp \n",
      "예측 요약 :  played sl salman dubai fly offered felt felt sonu budget protect protect\n",
      "\n",
      "\n",
      "원문 : people including turkish president recep tayyip erdo us attacking pro kurdish protesters visit us earlier year charged conspiracy commit crime violence punishable maximum years prison official statement read \n",
      "실제 요약 : turkey prez charged for in us \n",
      "예측 요약 :  nick register games sridevi th just indians bengaluru meeting meeting prince cards\n",
      "\n",
      "\n",
      "원문 : delhi civic bodies decided construct parking lots next delhi metro stations six parking lots constructed north delhi three south delhi one east delhi parking facilities reportedly open visitors well residents living areas \n",
      "실제 요약 : to be near delhi metro stations \n",
      "예측 요약 :  bars hate hour embassy rahim rahim quarter cities pujara lawyer hours rises\n",
      "\n",
      "\n",
      "원문 : late apple co founder steve jobs sports car may sell auction united states according reports bmw car go auction december production date april reports added oracle ceo larry jobs buy car \n",
      "실제 요약 : steve jobs car may sell for up to crore at an auction \n",
      "예측 요약 :  played much week ton much girl social rain tries tries android sunil\n",
      "\n",
      "\n",
      "원문 : many nations including us uk france agreed track proceeds rising corruption venezuela amid economic crisis country reports quoting officials said comes us called action venezuelan president nicol maduro blamed country humanitarian situation economy \n",
      "실제 요약 : nations to track corruption in venezuela \n",
      "예측 요약 :  played bars forces forces bars forces forces employee employee kareena kareena kareena\n",
      "\n",
      "\n"
     ]
    }
   ],
   "source": [
    "for i in range(50, 100):\n",
    "    print(\"원문 :\", seq2text(encoder_input_test[i]))\n",
    "    print(\"실제 요약 :\", seq2summary(decoder_input_test[i]))\n",
    "    print(\"예측 요약 :\", decode_sequence(encoder_input_test[i].reshape(1, text_max_len)))\n",
    "    print(\"\\n\")"
   ]
  },
  {
   "cell_type": "markdown",
   "id": "c3e010af",
   "metadata": {},
   "source": [
    "이상,,하다 .. 추상적 요약의 결과가"
   ]
  },
  {
   "cell_type": "markdown",
   "id": "07cf79a1",
   "metadata": {},
   "source": [
    "## Step 5. Summa을 이용해서 추출적 요약해보기\n",
    "- Summa의 summarize를 사용하여 추출적 요약을 해보세요."
   ]
  },
  {
   "cell_type": "code",
   "execution_count": 66,
   "id": "017ea420",
   "metadata": {},
   "outputs": [],
   "source": [
    "import requests\n",
    "from summa.summarizer import summarize"
   ]
  },
  {
   "cell_type": "code",
   "execution_count": 101,
   "id": "9faf47bb",
   "metadata": {},
   "outputs": [],
   "source": [
    "data['text'].to_csv('data.txt')"
   ]
  },
  {
   "cell_type": "code",
   "execution_count": 126,
   "id": "3e3c295a",
   "metadata": {},
   "outputs": [
    {
     "name": "stdout",
     "output_type": "stream",
     "text": [
      ",text\n"
     ]
    }
   ],
   "source": [
    "text = open('data.txt' , 'r' ) \n",
    "s = text.readline()\n",
    "s=s.strip()\n",
    "print(s)"
   ]
  },
  {
   "cell_type": "code",
   "execution_count": 127,
   "id": "ba039c7f",
   "metadata": {},
   "outputs": [
    {
     "name": "stdout",
     "output_type": "stream",
     "text": [
      "0,saurav kant alumnus upgrad iiit pg program machine learning artificial intelligence sr systems engineer infosys almost years work experience program upgrad degree career support helped transition data scientist tech mahindra salary hike upgrad online power learning powered lakh careers\n"
     ]
    }
   ],
   "source": [
    "s = text.readline()\n",
    "s=s.strip()\n",
    "print(s)"
   ]
  },
  {
   "cell_type": "code",
   "execution_count": 136,
   "id": "2d62b10d",
   "metadata": {},
   "outputs": [
    {
     "data": {
      "text/plain": [
       "'saurav kant alumnus upgrad iiit pg program machine learning artificial intelligence sr systems engineer infosys almost years work experience program upgrad degree career support helped transition data scientist tech mahindra salary hike upgrad online power learning powered lakh careers'"
      ]
     },
     "execution_count": 136,
     "metadata": {},
     "output_type": "execute_result"
    }
   ],
   "source": [
    "new_str = re.sub(r\"[^a-zA-Z ]\", \"\", s)\n",
    "new_str"
   ]
  },
  {
   "cell_type": "code",
   "execution_count": 138,
   "id": "731c4e32",
   "metadata": {
    "scrolled": true
   },
   "outputs": [
    {
     "name": "stdout",
     "output_type": "stream",
     "text": [
      "Summary:\n",
      "\n"
     ]
    }
   ],
   "source": [
    "print('Summary:')\n",
    "print(summarize(new_str, ratio=0.005))"
   ]
  },
  {
   "cell_type": "markdown",
   "id": "a3d20f5c",
   "metadata": {},
   "source": [
    "#### 단어수 조정"
   ]
  },
  {
   "cell_type": "code",
   "execution_count": 140,
   "id": "9313a5d0",
   "metadata": {},
   "outputs": [
    {
     "name": "stdout",
     "output_type": "stream",
     "text": [
      "Summary:\n",
      "\n"
     ]
    }
   ],
   "source": [
    "print('Summary:')\n",
    "print(summarize(new_str, words=50))"
   ]
  },
  {
   "cell_type": "markdown",
   "id": "b68f2a72",
   "metadata": {},
   "source": [
    "## 회고"
   ]
  },
  {
   "cell_type": "markdown",
   "id": "2f6d73e5",
   "metadata": {},
   "source": [
    "추출적 요약 할때 파일을 텍스트 파일로 변화하고 , 문자열 한부분을 가져와서 summarizw 함수에 넣었는데 요약이 되지 않는다.\n",
    "저 함수 안에 문자열 들어가는 거 맞는데.. ;;\n",
    "\n",
    "추상적 요약 결과는 요약이 명쾌하게 되지 않는다. 외계어 같기도..\n",
    "더 훈련을 많이 시키거나 레이어를 깊게 쌓아야할 것 같다\n",
    "\n",
    "여튼,, 문자열 처리..재미,,없다.."
   ]
  },
  {
   "cell_type": "code",
   "execution_count": null,
   "id": "eb0ca0b7",
   "metadata": {},
   "outputs": [],
   "source": []
  }
 ],
 "metadata": {
  "kernelspec": {
   "display_name": "Python 3 (ipykernel)",
   "language": "python",
   "name": "python3"
  },
  "language_info": {
   "codemirror_mode": {
    "name": "ipython",
    "version": 3
   },
   "file_extension": ".py",
   "mimetype": "text/x-python",
   "name": "python",
   "nbconvert_exporter": "python",
   "pygments_lexer": "ipython3",
   "version": "3.9.7"
  }
 },
 "nbformat": 4,
 "nbformat_minor": 5
}
